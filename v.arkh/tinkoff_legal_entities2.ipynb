{
 "cells": [
  {
   "cell_type": "code",
   "execution_count": 6,
   "metadata": {
    "collapsed": true
   },
   "outputs": [],
   "source": [
    "import pandas as pd\n",
    "from matplotlib import pyplot as plt\n",
    "import seaborn as sns\n",
    "import numpy as np"
   ]
  },
  {
   "cell_type": "code",
   "execution_count": 5,
   "outputs": [
    {
     "ename": "FileNotFoundError",
     "evalue": "[Errno 2] No such file or directory: 'clean_data.csv'",
     "output_type": "error",
     "traceback": [
      "\u001B[0;31m---------------------------------------------------------------------------\u001B[0m",
      "\u001B[0;31mFileNotFoundError\u001B[0m                         Traceback (most recent call last)",
      "Input \u001B[0;32mIn [5]\u001B[0m, in \u001B[0;36m<module>\u001B[0;34m\u001B[0m\n\u001B[0;32m----> 1\u001B[0m df \u001B[38;5;241m=\u001B[39m \u001B[43mpd\u001B[49m\u001B[38;5;241;43m.\u001B[39;49m\u001B[43mread_csv\u001B[49m\u001B[43m(\u001B[49m\u001B[38;5;124;43m'\u001B[39;49m\u001B[38;5;124;43mclean_data.csv\u001B[39;49m\u001B[38;5;124;43m'\u001B[39;49m\u001B[43m)\u001B[49m\n\u001B[1;32m      2\u001B[0m df\u001B[38;5;241m.\u001B[39mhead()\n",
      "File \u001B[0;32m/Library/Frameworks/Python.framework/Versions/3.9/lib/python3.9/site-packages/pandas/util/_decorators.py:311\u001B[0m, in \u001B[0;36mdeprecate_nonkeyword_arguments.<locals>.decorate.<locals>.wrapper\u001B[0;34m(*args, **kwargs)\u001B[0m\n\u001B[1;32m    305\u001B[0m \u001B[38;5;28;01mif\u001B[39;00m \u001B[38;5;28mlen\u001B[39m(args) \u001B[38;5;241m>\u001B[39m num_allow_args:\n\u001B[1;32m    306\u001B[0m     warnings\u001B[38;5;241m.\u001B[39mwarn(\n\u001B[1;32m    307\u001B[0m         msg\u001B[38;5;241m.\u001B[39mformat(arguments\u001B[38;5;241m=\u001B[39marguments),\n\u001B[1;32m    308\u001B[0m         \u001B[38;5;167;01mFutureWarning\u001B[39;00m,\n\u001B[1;32m    309\u001B[0m         stacklevel\u001B[38;5;241m=\u001B[39mstacklevel,\n\u001B[1;32m    310\u001B[0m     )\n\u001B[0;32m--> 311\u001B[0m \u001B[38;5;28;01mreturn\u001B[39;00m \u001B[43mfunc\u001B[49m\u001B[43m(\u001B[49m\u001B[38;5;241;43m*\u001B[39;49m\u001B[43margs\u001B[49m\u001B[43m,\u001B[49m\u001B[43m \u001B[49m\u001B[38;5;241;43m*\u001B[39;49m\u001B[38;5;241;43m*\u001B[39;49m\u001B[43mkwargs\u001B[49m\u001B[43m)\u001B[49m\n",
      "File \u001B[0;32m/Library/Frameworks/Python.framework/Versions/3.9/lib/python3.9/site-packages/pandas/io/parsers/readers.py:680\u001B[0m, in \u001B[0;36mread_csv\u001B[0;34m(filepath_or_buffer, sep, delimiter, header, names, index_col, usecols, squeeze, prefix, mangle_dupe_cols, dtype, engine, converters, true_values, false_values, skipinitialspace, skiprows, skipfooter, nrows, na_values, keep_default_na, na_filter, verbose, skip_blank_lines, parse_dates, infer_datetime_format, keep_date_col, date_parser, dayfirst, cache_dates, iterator, chunksize, compression, thousands, decimal, lineterminator, quotechar, quoting, doublequote, escapechar, comment, encoding, encoding_errors, dialect, error_bad_lines, warn_bad_lines, on_bad_lines, delim_whitespace, low_memory, memory_map, float_precision, storage_options)\u001B[0m\n\u001B[1;32m    665\u001B[0m kwds_defaults \u001B[38;5;241m=\u001B[39m _refine_defaults_read(\n\u001B[1;32m    666\u001B[0m     dialect,\n\u001B[1;32m    667\u001B[0m     delimiter,\n\u001B[0;32m   (...)\u001B[0m\n\u001B[1;32m    676\u001B[0m     defaults\u001B[38;5;241m=\u001B[39m{\u001B[38;5;124m\"\u001B[39m\u001B[38;5;124mdelimiter\u001B[39m\u001B[38;5;124m\"\u001B[39m: \u001B[38;5;124m\"\u001B[39m\u001B[38;5;124m,\u001B[39m\u001B[38;5;124m\"\u001B[39m},\n\u001B[1;32m    677\u001B[0m )\n\u001B[1;32m    678\u001B[0m kwds\u001B[38;5;241m.\u001B[39mupdate(kwds_defaults)\n\u001B[0;32m--> 680\u001B[0m \u001B[38;5;28;01mreturn\u001B[39;00m \u001B[43m_read\u001B[49m\u001B[43m(\u001B[49m\u001B[43mfilepath_or_buffer\u001B[49m\u001B[43m,\u001B[49m\u001B[43m \u001B[49m\u001B[43mkwds\u001B[49m\u001B[43m)\u001B[49m\n",
      "File \u001B[0;32m/Library/Frameworks/Python.framework/Versions/3.9/lib/python3.9/site-packages/pandas/io/parsers/readers.py:575\u001B[0m, in \u001B[0;36m_read\u001B[0;34m(filepath_or_buffer, kwds)\u001B[0m\n\u001B[1;32m    572\u001B[0m _validate_names(kwds\u001B[38;5;241m.\u001B[39mget(\u001B[38;5;124m\"\u001B[39m\u001B[38;5;124mnames\u001B[39m\u001B[38;5;124m\"\u001B[39m, \u001B[38;5;28;01mNone\u001B[39;00m))\n\u001B[1;32m    574\u001B[0m \u001B[38;5;66;03m# Create the parser.\u001B[39;00m\n\u001B[0;32m--> 575\u001B[0m parser \u001B[38;5;241m=\u001B[39m \u001B[43mTextFileReader\u001B[49m\u001B[43m(\u001B[49m\u001B[43mfilepath_or_buffer\u001B[49m\u001B[43m,\u001B[49m\u001B[43m \u001B[49m\u001B[38;5;241;43m*\u001B[39;49m\u001B[38;5;241;43m*\u001B[39;49m\u001B[43mkwds\u001B[49m\u001B[43m)\u001B[49m\n\u001B[1;32m    577\u001B[0m \u001B[38;5;28;01mif\u001B[39;00m chunksize \u001B[38;5;129;01mor\u001B[39;00m iterator:\n\u001B[1;32m    578\u001B[0m     \u001B[38;5;28;01mreturn\u001B[39;00m parser\n",
      "File \u001B[0;32m/Library/Frameworks/Python.framework/Versions/3.9/lib/python3.9/site-packages/pandas/io/parsers/readers.py:933\u001B[0m, in \u001B[0;36mTextFileReader.__init__\u001B[0;34m(self, f, engine, **kwds)\u001B[0m\n\u001B[1;32m    930\u001B[0m     \u001B[38;5;28mself\u001B[39m\u001B[38;5;241m.\u001B[39moptions[\u001B[38;5;124m\"\u001B[39m\u001B[38;5;124mhas_index_names\u001B[39m\u001B[38;5;124m\"\u001B[39m] \u001B[38;5;241m=\u001B[39m kwds[\u001B[38;5;124m\"\u001B[39m\u001B[38;5;124mhas_index_names\u001B[39m\u001B[38;5;124m\"\u001B[39m]\n\u001B[1;32m    932\u001B[0m \u001B[38;5;28mself\u001B[39m\u001B[38;5;241m.\u001B[39mhandles: IOHandles \u001B[38;5;241m|\u001B[39m \u001B[38;5;28;01mNone\u001B[39;00m \u001B[38;5;241m=\u001B[39m \u001B[38;5;28;01mNone\u001B[39;00m\n\u001B[0;32m--> 933\u001B[0m \u001B[38;5;28mself\u001B[39m\u001B[38;5;241m.\u001B[39m_engine \u001B[38;5;241m=\u001B[39m \u001B[38;5;28;43mself\u001B[39;49m\u001B[38;5;241;43m.\u001B[39;49m\u001B[43m_make_engine\u001B[49m\u001B[43m(\u001B[49m\u001B[43mf\u001B[49m\u001B[43m,\u001B[49m\u001B[43m \u001B[49m\u001B[38;5;28;43mself\u001B[39;49m\u001B[38;5;241;43m.\u001B[39;49m\u001B[43mengine\u001B[49m\u001B[43m)\u001B[49m\n",
      "File \u001B[0;32m/Library/Frameworks/Python.framework/Versions/3.9/lib/python3.9/site-packages/pandas/io/parsers/readers.py:1217\u001B[0m, in \u001B[0;36mTextFileReader._make_engine\u001B[0;34m(self, f, engine)\u001B[0m\n\u001B[1;32m   1213\u001B[0m     mode \u001B[38;5;241m=\u001B[39m \u001B[38;5;124m\"\u001B[39m\u001B[38;5;124mrb\u001B[39m\u001B[38;5;124m\"\u001B[39m\n\u001B[1;32m   1214\u001B[0m \u001B[38;5;66;03m# error: No overload variant of \"get_handle\" matches argument types\u001B[39;00m\n\u001B[1;32m   1215\u001B[0m \u001B[38;5;66;03m# \"Union[str, PathLike[str], ReadCsvBuffer[bytes], ReadCsvBuffer[str]]\"\u001B[39;00m\n\u001B[1;32m   1216\u001B[0m \u001B[38;5;66;03m# , \"str\", \"bool\", \"Any\", \"Any\", \"Any\", \"Any\", \"Any\"\u001B[39;00m\n\u001B[0;32m-> 1217\u001B[0m \u001B[38;5;28mself\u001B[39m\u001B[38;5;241m.\u001B[39mhandles \u001B[38;5;241m=\u001B[39m \u001B[43mget_handle\u001B[49m\u001B[43m(\u001B[49m\u001B[43m  \u001B[49m\u001B[38;5;66;43;03m# type: ignore[call-overload]\u001B[39;49;00m\n\u001B[1;32m   1218\u001B[0m \u001B[43m    \u001B[49m\u001B[43mf\u001B[49m\u001B[43m,\u001B[49m\n\u001B[1;32m   1219\u001B[0m \u001B[43m    \u001B[49m\u001B[43mmode\u001B[49m\u001B[43m,\u001B[49m\n\u001B[1;32m   1220\u001B[0m \u001B[43m    \u001B[49m\u001B[43mencoding\u001B[49m\u001B[38;5;241;43m=\u001B[39;49m\u001B[38;5;28;43mself\u001B[39;49m\u001B[38;5;241;43m.\u001B[39;49m\u001B[43moptions\u001B[49m\u001B[38;5;241;43m.\u001B[39;49m\u001B[43mget\u001B[49m\u001B[43m(\u001B[49m\u001B[38;5;124;43m\"\u001B[39;49m\u001B[38;5;124;43mencoding\u001B[39;49m\u001B[38;5;124;43m\"\u001B[39;49m\u001B[43m,\u001B[49m\u001B[43m \u001B[49m\u001B[38;5;28;43;01mNone\u001B[39;49;00m\u001B[43m)\u001B[49m\u001B[43m,\u001B[49m\n\u001B[1;32m   1221\u001B[0m \u001B[43m    \u001B[49m\u001B[43mcompression\u001B[49m\u001B[38;5;241;43m=\u001B[39;49m\u001B[38;5;28;43mself\u001B[39;49m\u001B[38;5;241;43m.\u001B[39;49m\u001B[43moptions\u001B[49m\u001B[38;5;241;43m.\u001B[39;49m\u001B[43mget\u001B[49m\u001B[43m(\u001B[49m\u001B[38;5;124;43m\"\u001B[39;49m\u001B[38;5;124;43mcompression\u001B[39;49m\u001B[38;5;124;43m\"\u001B[39;49m\u001B[43m,\u001B[49m\u001B[43m \u001B[49m\u001B[38;5;28;43;01mNone\u001B[39;49;00m\u001B[43m)\u001B[49m\u001B[43m,\u001B[49m\n\u001B[1;32m   1222\u001B[0m \u001B[43m    \u001B[49m\u001B[43mmemory_map\u001B[49m\u001B[38;5;241;43m=\u001B[39;49m\u001B[38;5;28;43mself\u001B[39;49m\u001B[38;5;241;43m.\u001B[39;49m\u001B[43moptions\u001B[49m\u001B[38;5;241;43m.\u001B[39;49m\u001B[43mget\u001B[49m\u001B[43m(\u001B[49m\u001B[38;5;124;43m\"\u001B[39;49m\u001B[38;5;124;43mmemory_map\u001B[39;49m\u001B[38;5;124;43m\"\u001B[39;49m\u001B[43m,\u001B[49m\u001B[43m \u001B[49m\u001B[38;5;28;43;01mFalse\u001B[39;49;00m\u001B[43m)\u001B[49m\u001B[43m,\u001B[49m\n\u001B[1;32m   1223\u001B[0m \u001B[43m    \u001B[49m\u001B[43mis_text\u001B[49m\u001B[38;5;241;43m=\u001B[39;49m\u001B[43mis_text\u001B[49m\u001B[43m,\u001B[49m\n\u001B[1;32m   1224\u001B[0m \u001B[43m    \u001B[49m\u001B[43merrors\u001B[49m\u001B[38;5;241;43m=\u001B[39;49m\u001B[38;5;28;43mself\u001B[39;49m\u001B[38;5;241;43m.\u001B[39;49m\u001B[43moptions\u001B[49m\u001B[38;5;241;43m.\u001B[39;49m\u001B[43mget\u001B[49m\u001B[43m(\u001B[49m\u001B[38;5;124;43m\"\u001B[39;49m\u001B[38;5;124;43mencoding_errors\u001B[39;49m\u001B[38;5;124;43m\"\u001B[39;49m\u001B[43m,\u001B[49m\u001B[43m \u001B[49m\u001B[38;5;124;43m\"\u001B[39;49m\u001B[38;5;124;43mstrict\u001B[39;49m\u001B[38;5;124;43m\"\u001B[39;49m\u001B[43m)\u001B[49m\u001B[43m,\u001B[49m\n\u001B[1;32m   1225\u001B[0m \u001B[43m    \u001B[49m\u001B[43mstorage_options\u001B[49m\u001B[38;5;241;43m=\u001B[39;49m\u001B[38;5;28;43mself\u001B[39;49m\u001B[38;5;241;43m.\u001B[39;49m\u001B[43moptions\u001B[49m\u001B[38;5;241;43m.\u001B[39;49m\u001B[43mget\u001B[49m\u001B[43m(\u001B[49m\u001B[38;5;124;43m\"\u001B[39;49m\u001B[38;5;124;43mstorage_options\u001B[39;49m\u001B[38;5;124;43m\"\u001B[39;49m\u001B[43m,\u001B[49m\u001B[43m \u001B[49m\u001B[38;5;28;43;01mNone\u001B[39;49;00m\u001B[43m)\u001B[49m\u001B[43m,\u001B[49m\n\u001B[1;32m   1226\u001B[0m \u001B[43m\u001B[49m\u001B[43m)\u001B[49m\n\u001B[1;32m   1227\u001B[0m \u001B[38;5;28;01massert\u001B[39;00m \u001B[38;5;28mself\u001B[39m\u001B[38;5;241m.\u001B[39mhandles \u001B[38;5;129;01mis\u001B[39;00m \u001B[38;5;129;01mnot\u001B[39;00m \u001B[38;5;28;01mNone\u001B[39;00m\n\u001B[1;32m   1228\u001B[0m f \u001B[38;5;241m=\u001B[39m \u001B[38;5;28mself\u001B[39m\u001B[38;5;241m.\u001B[39mhandles\u001B[38;5;241m.\u001B[39mhandle\n",
      "File \u001B[0;32m/Library/Frameworks/Python.framework/Versions/3.9/lib/python3.9/site-packages/pandas/io/common.py:789\u001B[0m, in \u001B[0;36mget_handle\u001B[0;34m(path_or_buf, mode, encoding, compression, memory_map, is_text, errors, storage_options)\u001B[0m\n\u001B[1;32m    784\u001B[0m \u001B[38;5;28;01melif\u001B[39;00m \u001B[38;5;28misinstance\u001B[39m(handle, \u001B[38;5;28mstr\u001B[39m):\n\u001B[1;32m    785\u001B[0m     \u001B[38;5;66;03m# Check whether the filename is to be opened in binary mode.\u001B[39;00m\n\u001B[1;32m    786\u001B[0m     \u001B[38;5;66;03m# Binary mode does not support 'encoding' and 'newline'.\u001B[39;00m\n\u001B[1;32m    787\u001B[0m     \u001B[38;5;28;01mif\u001B[39;00m ioargs\u001B[38;5;241m.\u001B[39mencoding \u001B[38;5;129;01mand\u001B[39;00m \u001B[38;5;124m\"\u001B[39m\u001B[38;5;124mb\u001B[39m\u001B[38;5;124m\"\u001B[39m \u001B[38;5;129;01mnot\u001B[39;00m \u001B[38;5;129;01min\u001B[39;00m ioargs\u001B[38;5;241m.\u001B[39mmode:\n\u001B[1;32m    788\u001B[0m         \u001B[38;5;66;03m# Encoding\u001B[39;00m\n\u001B[0;32m--> 789\u001B[0m         handle \u001B[38;5;241m=\u001B[39m \u001B[38;5;28;43mopen\u001B[39;49m\u001B[43m(\u001B[49m\n\u001B[1;32m    790\u001B[0m \u001B[43m            \u001B[49m\u001B[43mhandle\u001B[49m\u001B[43m,\u001B[49m\n\u001B[1;32m    791\u001B[0m \u001B[43m            \u001B[49m\u001B[43mioargs\u001B[49m\u001B[38;5;241;43m.\u001B[39;49m\u001B[43mmode\u001B[49m\u001B[43m,\u001B[49m\n\u001B[1;32m    792\u001B[0m \u001B[43m            \u001B[49m\u001B[43mencoding\u001B[49m\u001B[38;5;241;43m=\u001B[39;49m\u001B[43mioargs\u001B[49m\u001B[38;5;241;43m.\u001B[39;49m\u001B[43mencoding\u001B[49m\u001B[43m,\u001B[49m\n\u001B[1;32m    793\u001B[0m \u001B[43m            \u001B[49m\u001B[43merrors\u001B[49m\u001B[38;5;241;43m=\u001B[39;49m\u001B[43merrors\u001B[49m\u001B[43m,\u001B[49m\n\u001B[1;32m    794\u001B[0m \u001B[43m            \u001B[49m\u001B[43mnewline\u001B[49m\u001B[38;5;241;43m=\u001B[39;49m\u001B[38;5;124;43m\"\u001B[39;49m\u001B[38;5;124;43m\"\u001B[39;49m\u001B[43m,\u001B[49m\n\u001B[1;32m    795\u001B[0m \u001B[43m        \u001B[49m\u001B[43m)\u001B[49m\n\u001B[1;32m    796\u001B[0m     \u001B[38;5;28;01melse\u001B[39;00m:\n\u001B[1;32m    797\u001B[0m         \u001B[38;5;66;03m# Binary mode\u001B[39;00m\n\u001B[1;32m    798\u001B[0m         handle \u001B[38;5;241m=\u001B[39m \u001B[38;5;28mopen\u001B[39m(handle, ioargs\u001B[38;5;241m.\u001B[39mmode)\n",
      "\u001B[0;31mFileNotFoundError\u001B[0m: [Errno 2] No such file or directory: 'clean_data.csv'"
     ]
    }
   ],
   "source": [
    "df = pd.read_csv('../data/clean_data.csv')\n",
    "df.head()"
   ],
   "metadata": {
    "collapsed": false,
    "pycharm": {
     "name": "#%%\n"
    }
   }
  },
  {
   "cell_type": "code",
   "execution_count": 73,
   "outputs": [],
   "source": [
    "rating_columns = [\n",
    "    \"rating_ya\",\n",
    "    \"rating_yell\",\n",
    "    \"rating_avito\",\n",
    "    \"rating_2gis\"\n",
    "]\n",
    "rating_count_columns = [\n",
    "    \"ratings_cnt_ya\"\n",
    "]\n",
    "reviews_count_columns = [\n",
    "    \"reviews_cnt_ya\",\n",
    "    \"reviews_cnt_yell\",\n",
    "    \"reviews_cnt_2gis\",\n",
    "    \"reviews_cnt_avito\",\n",
    "]\n",
    "\n",
    "phones = [\n",
    "    \"phb_bad_perc_dir\",\n",
    "    \"phb_all_dir\",  # !\n",
    "    \"phb_all_bad_dir\",  # !\n",
    "    \"phb_dirty_dir\",\n",
    "    \"phb_fraud_dir\",\n",
    "    \"phb_bad_perc\",\n",
    "    \"found_phones_dir\",\n",
    "    \"phb_all\",\n",
    "    \"phb_all_bad\",\n",
    "    \"phb_dirty\",\n",
    "    \"phb_fraud\",\n",
    "    \"found_phones\",\n",
    "    \"phones_num\"\n",
    "\n",
    "]\n",
    "\n",
    "bank_and_police = [\n",
    "    \"total_defendant_case_amt\",\n",
    "    \"defendant_case_perc\",\n",
    "    \"total_defendant_case_cnt\",\n",
    "    \"total_case_cnt\",\n",
    "    \"mvd_request_num\",\n",
    "    \"complaints_num_dir\",\n",
    "    \"complaints_num\",\n",
    "    \"claims_percent\",\n",
    "    \"appl_num\",\n",
    "    \"bad_rep_tcb\"\n",
    "]\n",
    "\n",
    "data_without_description = [\n",
    "    \"claims_num\"\n",
    "]"
   ],
   "metadata": {
    "collapsed": false,
    "pycharm": {
     "name": "#%%\n"
    }
   }
  },
  {
   "cell_type": "code",
   "execution_count": 74,
   "outputs": [],
   "source": [
    "df['all_reviews_cnt'] = df[reviews_count_columns].sum(axis=1)"
   ],
   "metadata": {
    "collapsed": false,
    "pycharm": {
     "name": "#%%\n"
    }
   }
  },
  {
   "cell_type": "code",
   "execution_count": 75,
   "outputs": [],
   "source": [
    "def get_mean_rating(row):\n",
    "    sm = n = 0\n",
    "    for r in row[rating_columns]:\n",
    "        if r > 0:\n",
    "            sm += r\n",
    "            n += 1\n",
    "    if n == 0:\n",
    "        return 0\n",
    "    return sm / n\n",
    "\n",
    "df['mean_rating'] = df.apply(lambda x: get_mean_rating(x), axis=1)"
   ],
   "metadata": {
    "collapsed": false,
    "pycharm": {
     "name": "#%%\n"
    }
   }
  },
  {
   "cell_type": "code",
   "execution_count": 76,
   "outputs": [
    {
     "data": {
      "text/plain": "3371.0"
     },
     "execution_count": 76,
     "metadata": {},
     "output_type": "execute_result"
    }
   ],
   "source": [
    "size_columns = ['phb_all',  'appl_num', 'all_reviews_cnt']\n",
    "has_reviews = df[df['all_reviews_cnt'] > 0]\n",
    "\n",
    "q90 = has_reviews[size_columns].quantile(0.9)\n",
    "q75 = has_reviews[size_columns].quantile(0.75)\n",
    "q50 = has_reviews[size_columns].quantile(0.50)\n",
    "q25 = has_reviews[size_columns].quantile(0.25)\n",
    "\n",
    "quant = has_reviews[size_columns].quantile([0.25, 0.5, 0.75, 0.9])\n",
    "quant.at[0.75, 'phb_all']"
   ],
   "metadata": {
    "collapsed": false,
    "pycharm": {
     "name": "#%%\n"
    }
   }
  },
  {
   "cell_type": "code",
   "execution_count": 77,
   "outputs": [
    {
     "data": {
      "text/plain": "        phones_num    phb_fraud    phb_dirty  phb_all_bad       phb_all  \\\ncount    18.000000    18.000000    18.000000    18.000000  1.800000e+01   \nmean    647.277778   294.055556   224.000000   518.055556  4.681642e+05   \nstd    1883.436153  1009.122710   670.514201  1677.222931  1.319820e+06   \nmin      12.000000     0.000000     0.000000     0.000000  1.092300e+04   \n25%      34.000000    28.250000    18.500000    53.750000  7.998650e+04   \n50%      43.000000    36.500000    23.000000    60.000000  1.013040e+05   \n75%     368.000000    43.750000    34.000000    67.750000  1.958220e+05   \nmax    8090.000000  4326.000000  2867.000000  7193.000000  5.693618e+06   \n\n       phb_bad_perc  found_phones  phb_fraud_dir  phb_dirty_dir  \\\ncount     18.000000     18.000000      18.000000      18.000000   \nmean       0.063333    620.833333       0.555556       2.277778   \nstd        0.034471   1829.263216       1.916560       8.497789   \nmin        0.000000     12.000000       0.000000       0.000000   \n25%        0.060000     31.000000       0.000000       0.000000   \n50%        0.060000     41.000000       0.000000       0.000000   \n75%        0.080000    316.000000       0.000000       0.000000   \nmax        0.130000   7851.000000       8.000000      36.000000   \n\n       phb_all_bad_dir  ...  ratings_cnt_ya  reviews_cnt_ya  rating_yell  \\\ncount        18.000000  ...       18.000000       18.000000    18.000000   \nmean          2.833333  ...     6073.222222     2116.444444     4.136666   \nstd          10.405033  ...    13818.895817     4173.801726     0.137714   \nmin           0.000000  ...        0.000000      140.000000     4.000000   \n25%           0.000000  ...        0.000000      519.000000     4.000000   \n50%           0.000000  ...      546.000000      519.000000     4.139683   \n75%           0.000000  ...     2588.250000      786.750000     4.243817   \nmax          44.000000  ...    56712.000000    17681.000000     4.350000   \n\n       reviews_cnt_yell  rating_2gis  reviews_cnt_2gis  rating_avito  \\\ncount         18.000000    18.000000         18.000000     18.000000   \nmean          16.333333     1.254553        473.222222     -0.721605   \nstd           32.899133     0.821451        908.373825      1.181130   \nmin            0.000000     0.071642          1.000000     -1.000000   \n25%            0.000000     0.670363         23.000000     -1.000000   \n50%            0.000000     1.450000         23.000000     -1.000000   \n75%           20.250000     1.450000        332.250000     -1.000000   \nmax          131.000000     3.680000       2677.000000      4.011111   \n\n       reviews_cnt_avito  all_reviews_cnt  mean_rating  \ncount          18.000000        18.000000    18.000000  \nmean           11.888889      2617.888889     2.954503  \nstd            50.440284      4863.439087     0.399249  \nmin             0.000000       357.000000     2.694167  \n25%             0.000000       542.000000     2.725000  \n50%             0.000000       542.000000     2.741036  \n75%             0.000000      1119.500000     3.030160  \nmax           214.000000     19830.000000     4.186667  \n\n[8 rows x 35 columns]",
      "text/html": "<div>\n<style scoped>\n    .dataframe tbody tr th:only-of-type {\n        vertical-align: middle;\n    }\n\n    .dataframe tbody tr th {\n        vertical-align: top;\n    }\n\n    .dataframe thead th {\n        text-align: right;\n    }\n</style>\n<table border=\"1\" class=\"dataframe\">\n  <thead>\n    <tr style=\"text-align: right;\">\n      <th></th>\n      <th>phones_num</th>\n      <th>phb_fraud</th>\n      <th>phb_dirty</th>\n      <th>phb_all_bad</th>\n      <th>phb_all</th>\n      <th>phb_bad_perc</th>\n      <th>found_phones</th>\n      <th>phb_fraud_dir</th>\n      <th>phb_dirty_dir</th>\n      <th>phb_all_bad_dir</th>\n      <th>...</th>\n      <th>ratings_cnt_ya</th>\n      <th>reviews_cnt_ya</th>\n      <th>rating_yell</th>\n      <th>reviews_cnt_yell</th>\n      <th>rating_2gis</th>\n      <th>reviews_cnt_2gis</th>\n      <th>rating_avito</th>\n      <th>reviews_cnt_avito</th>\n      <th>all_reviews_cnt</th>\n      <th>mean_rating</th>\n    </tr>\n  </thead>\n  <tbody>\n    <tr>\n      <th>count</th>\n      <td>18.000000</td>\n      <td>18.000000</td>\n      <td>18.000000</td>\n      <td>18.000000</td>\n      <td>1.800000e+01</td>\n      <td>18.000000</td>\n      <td>18.000000</td>\n      <td>18.000000</td>\n      <td>18.000000</td>\n      <td>18.000000</td>\n      <td>...</td>\n      <td>18.000000</td>\n      <td>18.000000</td>\n      <td>18.000000</td>\n      <td>18.000000</td>\n      <td>18.000000</td>\n      <td>18.000000</td>\n      <td>18.000000</td>\n      <td>18.000000</td>\n      <td>18.000000</td>\n      <td>18.000000</td>\n    </tr>\n    <tr>\n      <th>mean</th>\n      <td>647.277778</td>\n      <td>294.055556</td>\n      <td>224.000000</td>\n      <td>518.055556</td>\n      <td>4.681642e+05</td>\n      <td>0.063333</td>\n      <td>620.833333</td>\n      <td>0.555556</td>\n      <td>2.277778</td>\n      <td>2.833333</td>\n      <td>...</td>\n      <td>6073.222222</td>\n      <td>2116.444444</td>\n      <td>4.136666</td>\n      <td>16.333333</td>\n      <td>1.254553</td>\n      <td>473.222222</td>\n      <td>-0.721605</td>\n      <td>11.888889</td>\n      <td>2617.888889</td>\n      <td>2.954503</td>\n    </tr>\n    <tr>\n      <th>std</th>\n      <td>1883.436153</td>\n      <td>1009.122710</td>\n      <td>670.514201</td>\n      <td>1677.222931</td>\n      <td>1.319820e+06</td>\n      <td>0.034471</td>\n      <td>1829.263216</td>\n      <td>1.916560</td>\n      <td>8.497789</td>\n      <td>10.405033</td>\n      <td>...</td>\n      <td>13818.895817</td>\n      <td>4173.801726</td>\n      <td>0.137714</td>\n      <td>32.899133</td>\n      <td>0.821451</td>\n      <td>908.373825</td>\n      <td>1.181130</td>\n      <td>50.440284</td>\n      <td>4863.439087</td>\n      <td>0.399249</td>\n    </tr>\n    <tr>\n      <th>min</th>\n      <td>12.000000</td>\n      <td>0.000000</td>\n      <td>0.000000</td>\n      <td>0.000000</td>\n      <td>1.092300e+04</td>\n      <td>0.000000</td>\n      <td>12.000000</td>\n      <td>0.000000</td>\n      <td>0.000000</td>\n      <td>0.000000</td>\n      <td>...</td>\n      <td>0.000000</td>\n      <td>140.000000</td>\n      <td>4.000000</td>\n      <td>0.000000</td>\n      <td>0.071642</td>\n      <td>1.000000</td>\n      <td>-1.000000</td>\n      <td>0.000000</td>\n      <td>357.000000</td>\n      <td>2.694167</td>\n    </tr>\n    <tr>\n      <th>25%</th>\n      <td>34.000000</td>\n      <td>28.250000</td>\n      <td>18.500000</td>\n      <td>53.750000</td>\n      <td>7.998650e+04</td>\n      <td>0.060000</td>\n      <td>31.000000</td>\n      <td>0.000000</td>\n      <td>0.000000</td>\n      <td>0.000000</td>\n      <td>...</td>\n      <td>0.000000</td>\n      <td>519.000000</td>\n      <td>4.000000</td>\n      <td>0.000000</td>\n      <td>0.670363</td>\n      <td>23.000000</td>\n      <td>-1.000000</td>\n      <td>0.000000</td>\n      <td>542.000000</td>\n      <td>2.725000</td>\n    </tr>\n    <tr>\n      <th>50%</th>\n      <td>43.000000</td>\n      <td>36.500000</td>\n      <td>23.000000</td>\n      <td>60.000000</td>\n      <td>1.013040e+05</td>\n      <td>0.060000</td>\n      <td>41.000000</td>\n      <td>0.000000</td>\n      <td>0.000000</td>\n      <td>0.000000</td>\n      <td>...</td>\n      <td>546.000000</td>\n      <td>519.000000</td>\n      <td>4.139683</td>\n      <td>0.000000</td>\n      <td>1.450000</td>\n      <td>23.000000</td>\n      <td>-1.000000</td>\n      <td>0.000000</td>\n      <td>542.000000</td>\n      <td>2.741036</td>\n    </tr>\n    <tr>\n      <th>75%</th>\n      <td>368.000000</td>\n      <td>43.750000</td>\n      <td>34.000000</td>\n      <td>67.750000</td>\n      <td>1.958220e+05</td>\n      <td>0.080000</td>\n      <td>316.000000</td>\n      <td>0.000000</td>\n      <td>0.000000</td>\n      <td>0.000000</td>\n      <td>...</td>\n      <td>2588.250000</td>\n      <td>786.750000</td>\n      <td>4.243817</td>\n      <td>20.250000</td>\n      <td>1.450000</td>\n      <td>332.250000</td>\n      <td>-1.000000</td>\n      <td>0.000000</td>\n      <td>1119.500000</td>\n      <td>3.030160</td>\n    </tr>\n    <tr>\n      <th>max</th>\n      <td>8090.000000</td>\n      <td>4326.000000</td>\n      <td>2867.000000</td>\n      <td>7193.000000</td>\n      <td>5.693618e+06</td>\n      <td>0.130000</td>\n      <td>7851.000000</td>\n      <td>8.000000</td>\n      <td>36.000000</td>\n      <td>44.000000</td>\n      <td>...</td>\n      <td>56712.000000</td>\n      <td>17681.000000</td>\n      <td>4.350000</td>\n      <td>131.000000</td>\n      <td>3.680000</td>\n      <td>2677.000000</td>\n      <td>4.011111</td>\n      <td>214.000000</td>\n      <td>19830.000000</td>\n      <td>4.186667</td>\n    </tr>\n  </tbody>\n</table>\n<p>8 rows × 35 columns</p>\n</div>"
     },
     "execution_count": 77,
     "metadata": {},
     "output_type": "execute_result"
    }
   ],
   "source": [
    "real_huge_companies = df[(df['phb_all'] > q90['phb_all']) & (df['appl_num'] > q90['appl_num']) & (df['all_reviews_cnt'] > q90['all_reviews_cnt'])]\n",
    "real_huge_companies.describe()"
   ],
   "metadata": {
    "collapsed": false,
    "pycharm": {
     "name": "#%%\n"
    }
   }
  },
  {
   "cell_type": "code",
   "execution_count": 78,
   "outputs": [
    {
     "data": {
      "text/plain": "        phones_num    phb_fraud    phb_dirty  phb_all_bad       phb_all  \\\ncount  2743.000000  2743.000000  2743.000000  2743.000000  2.743000e+03   \nmean     50.210718    13.040831     6.994167    20.034998  1.786398e+04   \nstd     351.320210   118.669212    64.304158   177.490776  1.397319e+05   \nmin       1.000000     0.000000     0.000000     0.000000  0.000000e+00   \n25%       1.000000     0.000000     0.000000     0.000000  4.955000e+02   \n50%       2.000000     0.000000     0.000000     0.000000  1.232000e+03   \n75%       7.000000     0.000000     0.000000     2.000000  3.901500e+03   \nmax    8090.000000  4326.000000  2867.000000  7193.000000  5.693618e+06   \n\n       phb_bad_perc  found_phones  phb_fraud_dir  phb_dirty_dir  \\\ncount   2743.000000   2743.000000    2743.000000    2743.000000   \nmean       0.095275     41.310609       0.618666       0.429821   \nstd        0.546025    307.008872       6.220807       3.477039   \nmin        0.000000      0.000000       0.000000       0.000000   \n25%        0.000000      1.000000       0.000000       0.000000   \n50%        0.000000      2.000000       0.000000       0.000000   \n75%        0.030000      6.000000       0.000000       0.000000   \nmax       14.490000   7851.000000     212.000000      92.000000   \n\n       phb_all_bad_dir  ...  ratings_cnt_ya  reviews_cnt_ya  rating_yell  \\\ncount      2743.000000  ...    2.743000e+03     2743.000000  2743.000000   \nmean          1.048487  ...    1.797429e+03      559.215093     1.093312   \nstd           9.078323  ...    2.695703e+04     7900.626336     2.594194   \nmin           0.000000  ...    0.000000e+00        0.000000    -1.000000   \n25%           0.000000  ...    0.000000e+00        0.000000    -1.000000   \n50%           0.000000  ...    0.000000e+00        0.000000    -1.000000   \n75%           0.000000  ...    3.050000e+01       14.000000     4.241060   \nmax         293.000000  ...    1.126416e+06   326694.000000     5.000000   \n\n       reviews_cnt_yell  rating_2gis  reviews_cnt_2gis  rating_avito  \\\ncount       2743.000000  2743.000000       2743.000000   2743.000000   \nmean           7.951148    -0.092046         46.104265     -0.812881   \nstd           48.444805     1.377468        376.561003      0.994324   \nmin            0.000000    -1.000000          0.000000     -1.000000   \n25%            0.000000    -1.000000          0.000000     -1.000000   \n50%            0.000000    -1.000000          0.000000     -1.000000   \n75%            0.000000     0.000000          0.000000     -1.000000   \nmax          964.000000     5.000000      14269.000000      5.000000   \n\n       reviews_cnt_avito  all_reviews_cnt  mean_rating  \ncount        2743.000000      2743.000000  2743.000000  \nmean            2.735326       616.005833     1.697874  \nstd            31.462364      8187.877774     1.950031  \nmin             0.000000         0.000000     0.000000  \n25%             0.000000         0.000000     0.000000  \n50%             0.000000         0.000000     0.000000  \n75%             0.000000        28.500000     3.900000  \nmax           789.000000    341459.000000     5.000000  \n\n[8 rows x 35 columns]",
      "text/html": "<div>\n<style scoped>\n    .dataframe tbody tr th:only-of-type {\n        vertical-align: middle;\n    }\n\n    .dataframe tbody tr th {\n        vertical-align: top;\n    }\n\n    .dataframe thead th {\n        text-align: right;\n    }\n</style>\n<table border=\"1\" class=\"dataframe\">\n  <thead>\n    <tr style=\"text-align: right;\">\n      <th></th>\n      <th>phones_num</th>\n      <th>phb_fraud</th>\n      <th>phb_dirty</th>\n      <th>phb_all_bad</th>\n      <th>phb_all</th>\n      <th>phb_bad_perc</th>\n      <th>found_phones</th>\n      <th>phb_fraud_dir</th>\n      <th>phb_dirty_dir</th>\n      <th>phb_all_bad_dir</th>\n      <th>...</th>\n      <th>ratings_cnt_ya</th>\n      <th>reviews_cnt_ya</th>\n      <th>rating_yell</th>\n      <th>reviews_cnt_yell</th>\n      <th>rating_2gis</th>\n      <th>reviews_cnt_2gis</th>\n      <th>rating_avito</th>\n      <th>reviews_cnt_avito</th>\n      <th>all_reviews_cnt</th>\n      <th>mean_rating</th>\n    </tr>\n  </thead>\n  <tbody>\n    <tr>\n      <th>count</th>\n      <td>2743.000000</td>\n      <td>2743.000000</td>\n      <td>2743.000000</td>\n      <td>2743.000000</td>\n      <td>2.743000e+03</td>\n      <td>2743.000000</td>\n      <td>2743.000000</td>\n      <td>2743.000000</td>\n      <td>2743.000000</td>\n      <td>2743.000000</td>\n      <td>...</td>\n      <td>2.743000e+03</td>\n      <td>2743.000000</td>\n      <td>2743.000000</td>\n      <td>2743.000000</td>\n      <td>2743.000000</td>\n      <td>2743.000000</td>\n      <td>2743.000000</td>\n      <td>2743.000000</td>\n      <td>2743.000000</td>\n      <td>2743.000000</td>\n    </tr>\n    <tr>\n      <th>mean</th>\n      <td>50.210718</td>\n      <td>13.040831</td>\n      <td>6.994167</td>\n      <td>20.034998</td>\n      <td>1.786398e+04</td>\n      <td>0.095275</td>\n      <td>41.310609</td>\n      <td>0.618666</td>\n      <td>0.429821</td>\n      <td>1.048487</td>\n      <td>...</td>\n      <td>1.797429e+03</td>\n      <td>559.215093</td>\n      <td>1.093312</td>\n      <td>7.951148</td>\n      <td>-0.092046</td>\n      <td>46.104265</td>\n      <td>-0.812881</td>\n      <td>2.735326</td>\n      <td>616.005833</td>\n      <td>1.697874</td>\n    </tr>\n    <tr>\n      <th>std</th>\n      <td>351.320210</td>\n      <td>118.669212</td>\n      <td>64.304158</td>\n      <td>177.490776</td>\n      <td>1.397319e+05</td>\n      <td>0.546025</td>\n      <td>307.008872</td>\n      <td>6.220807</td>\n      <td>3.477039</td>\n      <td>9.078323</td>\n      <td>...</td>\n      <td>2.695703e+04</td>\n      <td>7900.626336</td>\n      <td>2.594194</td>\n      <td>48.444805</td>\n      <td>1.377468</td>\n      <td>376.561003</td>\n      <td>0.994324</td>\n      <td>31.462364</td>\n      <td>8187.877774</td>\n      <td>1.950031</td>\n    </tr>\n    <tr>\n      <th>min</th>\n      <td>1.000000</td>\n      <td>0.000000</td>\n      <td>0.000000</td>\n      <td>0.000000</td>\n      <td>0.000000e+00</td>\n      <td>0.000000</td>\n      <td>0.000000</td>\n      <td>0.000000</td>\n      <td>0.000000</td>\n      <td>0.000000</td>\n      <td>...</td>\n      <td>0.000000e+00</td>\n      <td>0.000000</td>\n      <td>-1.000000</td>\n      <td>0.000000</td>\n      <td>-1.000000</td>\n      <td>0.000000</td>\n      <td>-1.000000</td>\n      <td>0.000000</td>\n      <td>0.000000</td>\n      <td>0.000000</td>\n    </tr>\n    <tr>\n      <th>25%</th>\n      <td>1.000000</td>\n      <td>0.000000</td>\n      <td>0.000000</td>\n      <td>0.000000</td>\n      <td>4.955000e+02</td>\n      <td>0.000000</td>\n      <td>1.000000</td>\n      <td>0.000000</td>\n      <td>0.000000</td>\n      <td>0.000000</td>\n      <td>...</td>\n      <td>0.000000e+00</td>\n      <td>0.000000</td>\n      <td>-1.000000</td>\n      <td>0.000000</td>\n      <td>-1.000000</td>\n      <td>0.000000</td>\n      <td>-1.000000</td>\n      <td>0.000000</td>\n      <td>0.000000</td>\n      <td>0.000000</td>\n    </tr>\n    <tr>\n      <th>50%</th>\n      <td>2.000000</td>\n      <td>0.000000</td>\n      <td>0.000000</td>\n      <td>0.000000</td>\n      <td>1.232000e+03</td>\n      <td>0.000000</td>\n      <td>2.000000</td>\n      <td>0.000000</td>\n      <td>0.000000</td>\n      <td>0.000000</td>\n      <td>...</td>\n      <td>0.000000e+00</td>\n      <td>0.000000</td>\n      <td>-1.000000</td>\n      <td>0.000000</td>\n      <td>-1.000000</td>\n      <td>0.000000</td>\n      <td>-1.000000</td>\n      <td>0.000000</td>\n      <td>0.000000</td>\n      <td>0.000000</td>\n    </tr>\n    <tr>\n      <th>75%</th>\n      <td>7.000000</td>\n      <td>0.000000</td>\n      <td>0.000000</td>\n      <td>2.000000</td>\n      <td>3.901500e+03</td>\n      <td>0.030000</td>\n      <td>6.000000</td>\n      <td>0.000000</td>\n      <td>0.000000</td>\n      <td>0.000000</td>\n      <td>...</td>\n      <td>3.050000e+01</td>\n      <td>14.000000</td>\n      <td>4.241060</td>\n      <td>0.000000</td>\n      <td>0.000000</td>\n      <td>0.000000</td>\n      <td>-1.000000</td>\n      <td>0.000000</td>\n      <td>28.500000</td>\n      <td>3.900000</td>\n    </tr>\n    <tr>\n      <th>max</th>\n      <td>8090.000000</td>\n      <td>4326.000000</td>\n      <td>2867.000000</td>\n      <td>7193.000000</td>\n      <td>5.693618e+06</td>\n      <td>14.490000</td>\n      <td>7851.000000</td>\n      <td>212.000000</td>\n      <td>92.000000</td>\n      <td>293.000000</td>\n      <td>...</td>\n      <td>1.126416e+06</td>\n      <td>326694.000000</td>\n      <td>5.000000</td>\n      <td>964.000000</td>\n      <td>5.000000</td>\n      <td>14269.000000</td>\n      <td>5.000000</td>\n      <td>789.000000</td>\n      <td>341459.000000</td>\n      <td>5.000000</td>\n    </tr>\n  </tbody>\n</table>\n<p>8 rows × 35 columns</p>\n</div>"
     },
     "execution_count": 78,
     "metadata": {},
     "output_type": "execute_result"
    }
   ],
   "source": [
    "huge_companies = df[(df['phb_all'] > q90['phb_all']) | (df['appl_num'] > q90['appl_num']) | (df['all_reviews_cnt'] > q90['all_reviews_cnt'])]\n",
    "huge_companies.describe()"
   ],
   "metadata": {
    "collapsed": false,
    "pycharm": {
     "name": "#%%\n"
    }
   }
  },
  {
   "cell_type": "code",
   "execution_count": 79,
   "outputs": [
    {
     "data": {
      "text/plain": "       phb_all  all_reviews_cnt  bad_rep_tcb\n107      116.0            330.0          0.0\n223      238.0            294.0          0.0\n814        5.0            595.0          0.0\n856       15.0           3780.0          0.0\n1073     249.0            377.0          0.0\n1238     112.0            958.0          0.0\n1936     380.0            389.0          0.0\n2035      18.0           5863.0          0.0\n2161     451.0            316.0          0.0\n2313       6.0         341459.0          0.0\n2531      97.0           1277.0          0.0\n2672     258.0            283.0          0.0\n2926       1.0           4640.0          0.0\n2928       2.0           9252.0          0.0\n3272     311.0            287.0          0.0\n3359     300.0            360.0          0.0\n3361      15.0            246.0          0.0\n3751       5.0            530.0          0.0\n3773       8.0            392.0          0.0\n4431       2.0            982.0          0.0\n4588       8.0           1662.0          0.0\n4595     307.0            789.0          0.0\n4671     498.0            511.0          0.0\n4985       3.0            776.0          0.0\n5034       1.0           3282.0          0.0\n5077      13.0           8157.0          0.0\n5618     260.0            521.0          0.0\n5794     460.0            284.0          0.0\n5910      26.0            246.0          0.0\n6501      13.0            422.0          0.0\n6548      47.0           5129.0          0.0\n7006     165.0            548.0          0.0\n7076      15.0            246.0          0.0\n7310      47.0            493.0          0.0\n7357      15.0          71862.0          0.0\n7412       2.0           9252.0          0.0\n7443      57.0            282.0          0.0\n7518       2.0            534.0          0.0\n7694      53.0           1235.0          0.0\n9104     302.0            791.0          0.0\n9253       2.0           6903.0          0.0\n10038    118.0           5682.0          0.0\n10125    369.0            288.0          0.0\n10159    147.0            413.0          0.0\n10169     15.0            246.0          0.0\n11082      1.0           4640.0          0.0\n11296      0.0            477.0          0.0\n13652     38.0            292.0          0.0\n14374      2.0           1448.0          0.0\n14890      1.0           4640.0          0.0",
      "text/html": "<div>\n<style scoped>\n    .dataframe tbody tr th:only-of-type {\n        vertical-align: middle;\n    }\n\n    .dataframe tbody tr th {\n        vertical-align: top;\n    }\n\n    .dataframe thead th {\n        text-align: right;\n    }\n</style>\n<table border=\"1\" class=\"dataframe\">\n  <thead>\n    <tr style=\"text-align: right;\">\n      <th></th>\n      <th>phb_all</th>\n      <th>all_reviews_cnt</th>\n      <th>bad_rep_tcb</th>\n    </tr>\n  </thead>\n  <tbody>\n    <tr>\n      <th>107</th>\n      <td>116.0</td>\n      <td>330.0</td>\n      <td>0.0</td>\n    </tr>\n    <tr>\n      <th>223</th>\n      <td>238.0</td>\n      <td>294.0</td>\n      <td>0.0</td>\n    </tr>\n    <tr>\n      <th>814</th>\n      <td>5.0</td>\n      <td>595.0</td>\n      <td>0.0</td>\n    </tr>\n    <tr>\n      <th>856</th>\n      <td>15.0</td>\n      <td>3780.0</td>\n      <td>0.0</td>\n    </tr>\n    <tr>\n      <th>1073</th>\n      <td>249.0</td>\n      <td>377.0</td>\n      <td>0.0</td>\n    </tr>\n    <tr>\n      <th>1238</th>\n      <td>112.0</td>\n      <td>958.0</td>\n      <td>0.0</td>\n    </tr>\n    <tr>\n      <th>1936</th>\n      <td>380.0</td>\n      <td>389.0</td>\n      <td>0.0</td>\n    </tr>\n    <tr>\n      <th>2035</th>\n      <td>18.0</td>\n      <td>5863.0</td>\n      <td>0.0</td>\n    </tr>\n    <tr>\n      <th>2161</th>\n      <td>451.0</td>\n      <td>316.0</td>\n      <td>0.0</td>\n    </tr>\n    <tr>\n      <th>2313</th>\n      <td>6.0</td>\n      <td>341459.0</td>\n      <td>0.0</td>\n    </tr>\n    <tr>\n      <th>2531</th>\n      <td>97.0</td>\n      <td>1277.0</td>\n      <td>0.0</td>\n    </tr>\n    <tr>\n      <th>2672</th>\n      <td>258.0</td>\n      <td>283.0</td>\n      <td>0.0</td>\n    </tr>\n    <tr>\n      <th>2926</th>\n      <td>1.0</td>\n      <td>4640.0</td>\n      <td>0.0</td>\n    </tr>\n    <tr>\n      <th>2928</th>\n      <td>2.0</td>\n      <td>9252.0</td>\n      <td>0.0</td>\n    </tr>\n    <tr>\n      <th>3272</th>\n      <td>311.0</td>\n      <td>287.0</td>\n      <td>0.0</td>\n    </tr>\n    <tr>\n      <th>3359</th>\n      <td>300.0</td>\n      <td>360.0</td>\n      <td>0.0</td>\n    </tr>\n    <tr>\n      <th>3361</th>\n      <td>15.0</td>\n      <td>246.0</td>\n      <td>0.0</td>\n    </tr>\n    <tr>\n      <th>3751</th>\n      <td>5.0</td>\n      <td>530.0</td>\n      <td>0.0</td>\n    </tr>\n    <tr>\n      <th>3773</th>\n      <td>8.0</td>\n      <td>392.0</td>\n      <td>0.0</td>\n    </tr>\n    <tr>\n      <th>4431</th>\n      <td>2.0</td>\n      <td>982.0</td>\n      <td>0.0</td>\n    </tr>\n    <tr>\n      <th>4588</th>\n      <td>8.0</td>\n      <td>1662.0</td>\n      <td>0.0</td>\n    </tr>\n    <tr>\n      <th>4595</th>\n      <td>307.0</td>\n      <td>789.0</td>\n      <td>0.0</td>\n    </tr>\n    <tr>\n      <th>4671</th>\n      <td>498.0</td>\n      <td>511.0</td>\n      <td>0.0</td>\n    </tr>\n    <tr>\n      <th>4985</th>\n      <td>3.0</td>\n      <td>776.0</td>\n      <td>0.0</td>\n    </tr>\n    <tr>\n      <th>5034</th>\n      <td>1.0</td>\n      <td>3282.0</td>\n      <td>0.0</td>\n    </tr>\n    <tr>\n      <th>5077</th>\n      <td>13.0</td>\n      <td>8157.0</td>\n      <td>0.0</td>\n    </tr>\n    <tr>\n      <th>5618</th>\n      <td>260.0</td>\n      <td>521.0</td>\n      <td>0.0</td>\n    </tr>\n    <tr>\n      <th>5794</th>\n      <td>460.0</td>\n      <td>284.0</td>\n      <td>0.0</td>\n    </tr>\n    <tr>\n      <th>5910</th>\n      <td>26.0</td>\n      <td>246.0</td>\n      <td>0.0</td>\n    </tr>\n    <tr>\n      <th>6501</th>\n      <td>13.0</td>\n      <td>422.0</td>\n      <td>0.0</td>\n    </tr>\n    <tr>\n      <th>6548</th>\n      <td>47.0</td>\n      <td>5129.0</td>\n      <td>0.0</td>\n    </tr>\n    <tr>\n      <th>7006</th>\n      <td>165.0</td>\n      <td>548.0</td>\n      <td>0.0</td>\n    </tr>\n    <tr>\n      <th>7076</th>\n      <td>15.0</td>\n      <td>246.0</td>\n      <td>0.0</td>\n    </tr>\n    <tr>\n      <th>7310</th>\n      <td>47.0</td>\n      <td>493.0</td>\n      <td>0.0</td>\n    </tr>\n    <tr>\n      <th>7357</th>\n      <td>15.0</td>\n      <td>71862.0</td>\n      <td>0.0</td>\n    </tr>\n    <tr>\n      <th>7412</th>\n      <td>2.0</td>\n      <td>9252.0</td>\n      <td>0.0</td>\n    </tr>\n    <tr>\n      <th>7443</th>\n      <td>57.0</td>\n      <td>282.0</td>\n      <td>0.0</td>\n    </tr>\n    <tr>\n      <th>7518</th>\n      <td>2.0</td>\n      <td>534.0</td>\n      <td>0.0</td>\n    </tr>\n    <tr>\n      <th>7694</th>\n      <td>53.0</td>\n      <td>1235.0</td>\n      <td>0.0</td>\n    </tr>\n    <tr>\n      <th>9104</th>\n      <td>302.0</td>\n      <td>791.0</td>\n      <td>0.0</td>\n    </tr>\n    <tr>\n      <th>9253</th>\n      <td>2.0</td>\n      <td>6903.0</td>\n      <td>0.0</td>\n    </tr>\n    <tr>\n      <th>10038</th>\n      <td>118.0</td>\n      <td>5682.0</td>\n      <td>0.0</td>\n    </tr>\n    <tr>\n      <th>10125</th>\n      <td>369.0</td>\n      <td>288.0</td>\n      <td>0.0</td>\n    </tr>\n    <tr>\n      <th>10159</th>\n      <td>147.0</td>\n      <td>413.0</td>\n      <td>0.0</td>\n    </tr>\n    <tr>\n      <th>10169</th>\n      <td>15.0</td>\n      <td>246.0</td>\n      <td>0.0</td>\n    </tr>\n    <tr>\n      <th>11082</th>\n      <td>1.0</td>\n      <td>4640.0</td>\n      <td>0.0</td>\n    </tr>\n    <tr>\n      <th>11296</th>\n      <td>0.0</td>\n      <td>477.0</td>\n      <td>0.0</td>\n    </tr>\n    <tr>\n      <th>13652</th>\n      <td>38.0</td>\n      <td>292.0</td>\n      <td>0.0</td>\n    </tr>\n    <tr>\n      <th>14374</th>\n      <td>2.0</td>\n      <td>1448.0</td>\n      <td>0.0</td>\n    </tr>\n    <tr>\n      <th>14890</th>\n      <td>1.0</td>\n      <td>4640.0</td>\n      <td>0.0</td>\n    </tr>\n  </tbody>\n</table>\n</div>"
     },
     "execution_count": 79,
     "metadata": {},
     "output_type": "execute_result"
    }
   ],
   "source": [
    "susp_reviews = df[(df['phb_all'] < q25['phb_all']) & (df['all_reviews_cnt'] > q90['all_reviews_cnt'])]\n",
    "susp_reviews[['phb_all', 'all_reviews_cnt', 'bad_rep_tcb']]"
   ],
   "metadata": {
    "collapsed": false,
    "pycharm": {
     "name": "#%%\n"
    }
   }
  },
  {
   "cell_type": "code",
   "execution_count": 80,
   "outputs": [
    {
     "name": "stdout",
     "output_type": "stream",
     "text": [
      "0.00          0.0\n",
      "0.25        228.0\n",
      "0.50        662.0\n",
      "0.75       1549.0\n",
      "1.00    5693618.0\n",
      "Name: phb_all, dtype: float64\n"
     ]
    },
    {
     "data": {
      "text/plain": "                   id                 date  phones_num  phb_fraud  phb_dirty  \\\n0      a782615660478a  2022-10-30 00:00:00           1        0.0        2.0   \n1        a7706752171a  2022-01-15 00:00:00          16        0.0        0.0   \n2      a745212602258a  2021-06-03 00:00:00           4        0.0        0.0   \n3        a2466264323a  2022-09-25 00:00:00           3        0.0        0.0   \n4        a7728551510a  2022-04-28 00:00:00         161        4.0        2.0   \n...               ...                  ...         ...        ...        ...   \n14995  a390609289521a  2022-10-25 00:00:00           1        0.0        0.0   \n14996  a560206225313a  2021-03-13 00:00:00           1        0.0        0.0   \n14997  a503610997836a  2021-05-08 00:00:00           1        0.0        0.0   \n14998  a212406459136a  2022-11-01 00:00:00           2        0.0        0.0   \n14999  a502503908452a  2022-10-16 00:00:00           1        0.0        0.0   \n\n       phb_all_bad  phb_all  phb_bad_perc  found_phones  phb_fraud_dir  ...  \\\n0              2.0   1498.0          0.13           1.0            0.0  ...   \n1              0.0   2421.0          0.00          16.0            0.0  ...   \n2              0.0   1503.0          0.00           3.0            0.0  ...   \n3              0.0     77.0          0.00           2.0            0.0  ...   \n4              6.0  17842.0          0.03         145.0            0.0  ...   \n...            ...      ...           ...           ...            ...  ...   \n14995          0.0    669.0          0.00           1.0            0.0  ...   \n14996          0.0      1.0          0.00           1.0            0.0  ...   \n14997          0.0    177.0          0.00           1.0            0.0  ...   \n14998          0.0    521.0          0.00           2.0            0.0  ...   \n14999          0.0    311.0          0.00           1.0            0.0  ...   \n\n       reviews_cnt_ya  rating_yell  reviews_cnt_yell  rating_2gis  \\\n0                15.0     4.000000               0.0     0.000000   \n1                39.0     3.700000               1.0     0.142857   \n2                 4.0     4.000000               0.0     0.000000   \n3                 2.0     4.500000               0.0     4.800000   \n4              5772.0     4.244828             308.0     1.358362   \n...               ...          ...               ...          ...   \n14995             0.0    -1.000000               0.0    -1.000000   \n14996             0.0    -1.000000               0.0    -1.000000   \n14997             0.0    -1.000000               0.0    -1.000000   \n14998             0.0    -1.000000               0.0    -1.000000   \n14999             0.0    -1.000000               0.0    -1.000000   \n\n       reviews_cnt_2gis  rating_avito  reviews_cnt_avito  all_reviews_cnt  \\\n0                   0.0          -1.0                0.0             15.0   \n1                   2.0           4.8                5.0             47.0   \n2                   0.0          -1.0                0.0              4.0   \n3                   5.0          -1.0                0.0              7.0   \n4                2943.0          -1.0                0.0           9023.0   \n...                 ...           ...                ...              ...   \n14995               0.0          -1.0                0.0              0.0   \n14996               0.0          -1.0                0.0              0.0   \n14997               0.0          -1.0                0.0              0.0   \n14998               0.0          -1.0                0.0              0.0   \n14999               0.0          -1.0                0.0              0.0   \n\n       mean_rating  popularity  \n0         4.000000           3  \n1         3.198214           4  \n2         4.000000           3  \n3         4.650000           1  \n4         3.251063           4  \n...            ...         ...  \n14995     0.000000           3  \n14996     0.000000           1  \n14997     0.000000           1  \n14998     0.000000           2  \n14999     0.000000           2  \n\n[15000 rows x 38 columns]",
      "text/html": "<div>\n<style scoped>\n    .dataframe tbody tr th:only-of-type {\n        vertical-align: middle;\n    }\n\n    .dataframe tbody tr th {\n        vertical-align: top;\n    }\n\n    .dataframe thead th {\n        text-align: right;\n    }\n</style>\n<table border=\"1\" class=\"dataframe\">\n  <thead>\n    <tr style=\"text-align: right;\">\n      <th></th>\n      <th>id</th>\n      <th>date</th>\n      <th>phones_num</th>\n      <th>phb_fraud</th>\n      <th>phb_dirty</th>\n      <th>phb_all_bad</th>\n      <th>phb_all</th>\n      <th>phb_bad_perc</th>\n      <th>found_phones</th>\n      <th>phb_fraud_dir</th>\n      <th>...</th>\n      <th>reviews_cnt_ya</th>\n      <th>rating_yell</th>\n      <th>reviews_cnt_yell</th>\n      <th>rating_2gis</th>\n      <th>reviews_cnt_2gis</th>\n      <th>rating_avito</th>\n      <th>reviews_cnt_avito</th>\n      <th>all_reviews_cnt</th>\n      <th>mean_rating</th>\n      <th>popularity</th>\n    </tr>\n  </thead>\n  <tbody>\n    <tr>\n      <th>0</th>\n      <td>a782615660478a</td>\n      <td>2022-10-30 00:00:00</td>\n      <td>1</td>\n      <td>0.0</td>\n      <td>2.0</td>\n      <td>2.0</td>\n      <td>1498.0</td>\n      <td>0.13</td>\n      <td>1.0</td>\n      <td>0.0</td>\n      <td>...</td>\n      <td>15.0</td>\n      <td>4.000000</td>\n      <td>0.0</td>\n      <td>0.000000</td>\n      <td>0.0</td>\n      <td>-1.0</td>\n      <td>0.0</td>\n      <td>15.0</td>\n      <td>4.000000</td>\n      <td>3</td>\n    </tr>\n    <tr>\n      <th>1</th>\n      <td>a7706752171a</td>\n      <td>2022-01-15 00:00:00</td>\n      <td>16</td>\n      <td>0.0</td>\n      <td>0.0</td>\n      <td>0.0</td>\n      <td>2421.0</td>\n      <td>0.00</td>\n      <td>16.0</td>\n      <td>0.0</td>\n      <td>...</td>\n      <td>39.0</td>\n      <td>3.700000</td>\n      <td>1.0</td>\n      <td>0.142857</td>\n      <td>2.0</td>\n      <td>4.8</td>\n      <td>5.0</td>\n      <td>47.0</td>\n      <td>3.198214</td>\n      <td>4</td>\n    </tr>\n    <tr>\n      <th>2</th>\n      <td>a745212602258a</td>\n      <td>2021-06-03 00:00:00</td>\n      <td>4</td>\n      <td>0.0</td>\n      <td>0.0</td>\n      <td>0.0</td>\n      <td>1503.0</td>\n      <td>0.00</td>\n      <td>3.0</td>\n      <td>0.0</td>\n      <td>...</td>\n      <td>4.0</td>\n      <td>4.000000</td>\n      <td>0.0</td>\n      <td>0.000000</td>\n      <td>0.0</td>\n      <td>-1.0</td>\n      <td>0.0</td>\n      <td>4.0</td>\n      <td>4.000000</td>\n      <td>3</td>\n    </tr>\n    <tr>\n      <th>3</th>\n      <td>a2466264323a</td>\n      <td>2022-09-25 00:00:00</td>\n      <td>3</td>\n      <td>0.0</td>\n      <td>0.0</td>\n      <td>0.0</td>\n      <td>77.0</td>\n      <td>0.00</td>\n      <td>2.0</td>\n      <td>0.0</td>\n      <td>...</td>\n      <td>2.0</td>\n      <td>4.500000</td>\n      <td>0.0</td>\n      <td>4.800000</td>\n      <td>5.0</td>\n      <td>-1.0</td>\n      <td>0.0</td>\n      <td>7.0</td>\n      <td>4.650000</td>\n      <td>1</td>\n    </tr>\n    <tr>\n      <th>4</th>\n      <td>a7728551510a</td>\n      <td>2022-04-28 00:00:00</td>\n      <td>161</td>\n      <td>4.0</td>\n      <td>2.0</td>\n      <td>6.0</td>\n      <td>17842.0</td>\n      <td>0.03</td>\n      <td>145.0</td>\n      <td>0.0</td>\n      <td>...</td>\n      <td>5772.0</td>\n      <td>4.244828</td>\n      <td>308.0</td>\n      <td>1.358362</td>\n      <td>2943.0</td>\n      <td>-1.0</td>\n      <td>0.0</td>\n      <td>9023.0</td>\n      <td>3.251063</td>\n      <td>4</td>\n    </tr>\n    <tr>\n      <th>...</th>\n      <td>...</td>\n      <td>...</td>\n      <td>...</td>\n      <td>...</td>\n      <td>...</td>\n      <td>...</td>\n      <td>...</td>\n      <td>...</td>\n      <td>...</td>\n      <td>...</td>\n      <td>...</td>\n      <td>...</td>\n      <td>...</td>\n      <td>...</td>\n      <td>...</td>\n      <td>...</td>\n      <td>...</td>\n      <td>...</td>\n      <td>...</td>\n      <td>...</td>\n      <td>...</td>\n    </tr>\n    <tr>\n      <th>14995</th>\n      <td>a390609289521a</td>\n      <td>2022-10-25 00:00:00</td>\n      <td>1</td>\n      <td>0.0</td>\n      <td>0.0</td>\n      <td>0.0</td>\n      <td>669.0</td>\n      <td>0.00</td>\n      <td>1.0</td>\n      <td>0.0</td>\n      <td>...</td>\n      <td>0.0</td>\n      <td>-1.000000</td>\n      <td>0.0</td>\n      <td>-1.000000</td>\n      <td>0.0</td>\n      <td>-1.0</td>\n      <td>0.0</td>\n      <td>0.0</td>\n      <td>0.000000</td>\n      <td>3</td>\n    </tr>\n    <tr>\n      <th>14996</th>\n      <td>a560206225313a</td>\n      <td>2021-03-13 00:00:00</td>\n      <td>1</td>\n      <td>0.0</td>\n      <td>0.0</td>\n      <td>0.0</td>\n      <td>1.0</td>\n      <td>0.00</td>\n      <td>1.0</td>\n      <td>0.0</td>\n      <td>...</td>\n      <td>0.0</td>\n      <td>-1.000000</td>\n      <td>0.0</td>\n      <td>-1.000000</td>\n      <td>0.0</td>\n      <td>-1.0</td>\n      <td>0.0</td>\n      <td>0.0</td>\n      <td>0.000000</td>\n      <td>1</td>\n    </tr>\n    <tr>\n      <th>14997</th>\n      <td>a503610997836a</td>\n      <td>2021-05-08 00:00:00</td>\n      <td>1</td>\n      <td>0.0</td>\n      <td>0.0</td>\n      <td>0.0</td>\n      <td>177.0</td>\n      <td>0.00</td>\n      <td>1.0</td>\n      <td>0.0</td>\n      <td>...</td>\n      <td>0.0</td>\n      <td>-1.000000</td>\n      <td>0.0</td>\n      <td>-1.000000</td>\n      <td>0.0</td>\n      <td>-1.0</td>\n      <td>0.0</td>\n      <td>0.0</td>\n      <td>0.000000</td>\n      <td>1</td>\n    </tr>\n    <tr>\n      <th>14998</th>\n      <td>a212406459136a</td>\n      <td>2022-11-01 00:00:00</td>\n      <td>2</td>\n      <td>0.0</td>\n      <td>0.0</td>\n      <td>0.0</td>\n      <td>521.0</td>\n      <td>0.00</td>\n      <td>2.0</td>\n      <td>0.0</td>\n      <td>...</td>\n      <td>0.0</td>\n      <td>-1.000000</td>\n      <td>0.0</td>\n      <td>-1.000000</td>\n      <td>0.0</td>\n      <td>-1.0</td>\n      <td>0.0</td>\n      <td>0.0</td>\n      <td>0.000000</td>\n      <td>2</td>\n    </tr>\n    <tr>\n      <th>14999</th>\n      <td>a502503908452a</td>\n      <td>2022-10-16 00:00:00</td>\n      <td>1</td>\n      <td>0.0</td>\n      <td>0.0</td>\n      <td>0.0</td>\n      <td>311.0</td>\n      <td>0.00</td>\n      <td>1.0</td>\n      <td>0.0</td>\n      <td>...</td>\n      <td>0.0</td>\n      <td>-1.000000</td>\n      <td>0.0</td>\n      <td>-1.000000</td>\n      <td>0.0</td>\n      <td>-1.0</td>\n      <td>0.0</td>\n      <td>0.0</td>\n      <td>0.000000</td>\n      <td>2</td>\n    </tr>\n  </tbody>\n</table>\n<p>15000 rows × 38 columns</p>\n</div>"
     },
     "execution_count": 80,
     "metadata": {},
     "output_type": "execute_result"
    }
   ],
   "source": [
    "q = df.phb_all.quantile([0, 0.25, 0.50, 0.75, 1])\n",
    "print(q)\n",
    "def get_size(phb_cnt):\n",
    "    for i, v in enumerate(q.values):\n",
    "        if phb_cnt <= v:\n",
    "            return i\n",
    "\n",
    "df['popularity'] = df['phb_all'].apply(lambda x: get_size(x))\n",
    "df"
   ],
   "metadata": {
    "collapsed": false,
    "pycharm": {
     "name": "#%%\n"
    }
   }
  },
  {
   "cell_type": "code",
   "execution_count": 81,
   "outputs": [],
   "source": [
    "def score(df, column_name):  # [0; 10]\n",
    "    mn = df[column_name].min()\n",
    "    mx = df[column_name].max()\n",
    "    df[column_name + \"_score\"] = 10 * (1 - (df[df[column_name]] - mn) / (mx - mn))\n",
    "\n",
    "def score_all(df, columns):  # [0; 10]\n",
    "    for col in columns:\n",
    "        score(df, col)"
   ],
   "metadata": {
    "collapsed": false,
    "pycharm": {
     "name": "#%%\n"
    }
   }
  },
  {
   "cell_type": "code",
   "execution_count": 82,
   "outputs": [],
   "source": [
    "columns_to_score = ['phb_bad_perc', 'phb_bad_perc_dir', 'claims_percent', 'mean_rating']"
   ],
   "metadata": {
    "collapsed": false,
    "pycharm": {
     "name": "#%%\n"
    }
   }
  },
  {
   "cell_type": "code",
   "execution_count": 83,
   "outputs": [
    {
     "data": {
      "text/plain": "2.0"
     },
     "execution_count": 83,
     "metadata": {},
     "output_type": "execute_result"
    }
   ],
   "source": [
    "df[df.popularity == 0].appl_num.mean()"
   ],
   "metadata": {
    "collapsed": false,
    "pycharm": {
     "name": "#%%\n"
    }
   }
  },
  {
   "cell_type": "code",
   "execution_count": 84,
   "outputs": [
    {
     "data": {
      "text/plain": "53.0"
     },
     "execution_count": 84,
     "metadata": {},
     "output_type": "execute_result"
    }
   ],
   "source": [
    "quant.at[0.75, 'all_reviews_cnt']"
   ],
   "metadata": {
    "collapsed": false,
    "pycharm": {
     "name": "#%%\n"
    }
   }
  },
  {
   "cell_type": "code",
   "execution_count": 85,
   "outputs": [
    {
     "data": {
      "text/plain": "                 id                 date  phones_num  phb_fraud  phb_dirty  \\\n265    a7702771818a  2019-08-08 00:00:00           8        0.0        0.0   \n413    a8603114725a  2020-04-05 00:00:00           8        0.0        0.0   \n491    a7710718303a  2019-03-04 00:00:00           8        0.0        0.0   \n737    a7721790647a  2018-09-27 00:00:00           4        0.0        0.0   \n804    a3525443294a  2019-08-17 00:00:00           3        0.0        0.0   \n...             ...                  ...         ...        ...        ...   \n13598  a6234062211a  2019-08-06 00:00:00           7        0.0        0.0   \n13652  a6315222985a  2019-04-21 00:00:00         112        0.0        0.0   \n14078  a7703030058a  2019-01-23 00:00:00         379        0.0        0.0   \n14374  a2466035034a  2018-12-07 00:00:00         130        0.0        0.0   \n14890  a7710045520a  2017-03-03 13:35:35         753        0.0        0.0   \n\n       phb_all_bad  phb_all  phb_bad_perc  found_phones  phb_fraud_dir  ...  \\\n265            0.0     34.0           0.0           4.0            0.0  ...   \n413            0.0     49.0           0.0           7.0            0.0  ...   \n491            0.0      4.0           0.0           2.0            0.0  ...   \n737            0.0      2.0           0.0           1.0            0.0  ...   \n804            0.0      9.0           0.0           2.0            0.0  ...   \n...            ...      ...           ...           ...            ...  ...   \n13598          0.0     20.0           0.0           4.0            0.0  ...   \n13652          0.0     38.0           0.0          21.0            0.0  ...   \n14078          0.0     30.0           0.0          25.0            0.0  ...   \n14374          0.0      2.0           0.0           2.0            0.0  ...   \n14890          0.0      1.0           0.0           1.0            0.0  ...   \n\n       reviews_cnt_ya  rating_yell  reviews_cnt_yell  rating_2gis  \\\n265              18.0    -1.000000               0.0     0.000000   \n413              64.0     4.500000               0.0     0.000000   \n491             122.0     4.285714               1.0     1.900000   \n737             201.0    -1.000000               0.0     5.000000   \n804             208.0     3.600000               8.0     1.500000   \n...               ...          ...               ...          ...   \n13598           181.0     4.666667               8.0     5.000000   \n13652           289.0     4.187500               0.0     0.222222   \n14078            98.0     4.287234               1.0     0.557042   \n14374           644.0     4.226744               0.0     1.282857   \n14890          4030.0     4.248344               3.0     0.367384   \n\n       reviews_cnt_2gis  rating_avito  reviews_cnt_avito  all_reviews_cnt  \\\n265                 0.0      4.866667              109.0            127.0   \n413                 0.0     -1.000000                0.0             64.0   \n491                13.0     -1.000000                0.0            136.0   \n737                 8.0     -1.000000                0.0            209.0   \n804                 2.0     -1.000000                0.0            218.0   \n...                 ...           ...                ...              ...   \n13598               5.0     -1.000000                0.0            194.0   \n13652               3.0     -1.000000                0.0            292.0   \n14078              73.0     -1.000000                0.0            172.0   \n14374             804.0     -1.000000                0.0           1448.0   \n14890             607.0     -1.000000                0.0           4640.0   \n\n       mean_rating  popularity  \n265       4.633333           1  \n413       4.265000           1  \n491       2.895238           1  \n737       5.000000           1  \n804       3.366667           1  \n...            ...         ...  \n13598     4.755556           1  \n13652     2.204861           1  \n14078     2.761425           1  \n14374     3.199867           1  \n14890     2.875243           1  \n\n[64 rows x 38 columns]",
      "text/html": "<div>\n<style scoped>\n    .dataframe tbody tr th:only-of-type {\n        vertical-align: middle;\n    }\n\n    .dataframe tbody tr th {\n        vertical-align: top;\n    }\n\n    .dataframe thead th {\n        text-align: right;\n    }\n</style>\n<table border=\"1\" class=\"dataframe\">\n  <thead>\n    <tr style=\"text-align: right;\">\n      <th></th>\n      <th>id</th>\n      <th>date</th>\n      <th>phones_num</th>\n      <th>phb_fraud</th>\n      <th>phb_dirty</th>\n      <th>phb_all_bad</th>\n      <th>phb_all</th>\n      <th>phb_bad_perc</th>\n      <th>found_phones</th>\n      <th>phb_fraud_dir</th>\n      <th>...</th>\n      <th>reviews_cnt_ya</th>\n      <th>rating_yell</th>\n      <th>reviews_cnt_yell</th>\n      <th>rating_2gis</th>\n      <th>reviews_cnt_2gis</th>\n      <th>rating_avito</th>\n      <th>reviews_cnt_avito</th>\n      <th>all_reviews_cnt</th>\n      <th>mean_rating</th>\n      <th>popularity</th>\n    </tr>\n  </thead>\n  <tbody>\n    <tr>\n      <th>265</th>\n      <td>a7702771818a</td>\n      <td>2019-08-08 00:00:00</td>\n      <td>8</td>\n      <td>0.0</td>\n      <td>0.0</td>\n      <td>0.0</td>\n      <td>34.0</td>\n      <td>0.0</td>\n      <td>4.0</td>\n      <td>0.0</td>\n      <td>...</td>\n      <td>18.0</td>\n      <td>-1.000000</td>\n      <td>0.0</td>\n      <td>0.000000</td>\n      <td>0.0</td>\n      <td>4.866667</td>\n      <td>109.0</td>\n      <td>127.0</td>\n      <td>4.633333</td>\n      <td>1</td>\n    </tr>\n    <tr>\n      <th>413</th>\n      <td>a8603114725a</td>\n      <td>2020-04-05 00:00:00</td>\n      <td>8</td>\n      <td>0.0</td>\n      <td>0.0</td>\n      <td>0.0</td>\n      <td>49.0</td>\n      <td>0.0</td>\n      <td>7.0</td>\n      <td>0.0</td>\n      <td>...</td>\n      <td>64.0</td>\n      <td>4.500000</td>\n      <td>0.0</td>\n      <td>0.000000</td>\n      <td>0.0</td>\n      <td>-1.000000</td>\n      <td>0.0</td>\n      <td>64.0</td>\n      <td>4.265000</td>\n      <td>1</td>\n    </tr>\n    <tr>\n      <th>491</th>\n      <td>a7710718303a</td>\n      <td>2019-03-04 00:00:00</td>\n      <td>8</td>\n      <td>0.0</td>\n      <td>0.0</td>\n      <td>0.0</td>\n      <td>4.0</td>\n      <td>0.0</td>\n      <td>2.0</td>\n      <td>0.0</td>\n      <td>...</td>\n      <td>122.0</td>\n      <td>4.285714</td>\n      <td>1.0</td>\n      <td>1.900000</td>\n      <td>13.0</td>\n      <td>-1.000000</td>\n      <td>0.0</td>\n      <td>136.0</td>\n      <td>2.895238</td>\n      <td>1</td>\n    </tr>\n    <tr>\n      <th>737</th>\n      <td>a7721790647a</td>\n      <td>2018-09-27 00:00:00</td>\n      <td>4</td>\n      <td>0.0</td>\n      <td>0.0</td>\n      <td>0.0</td>\n      <td>2.0</td>\n      <td>0.0</td>\n      <td>1.0</td>\n      <td>0.0</td>\n      <td>...</td>\n      <td>201.0</td>\n      <td>-1.000000</td>\n      <td>0.0</td>\n      <td>5.000000</td>\n      <td>8.0</td>\n      <td>-1.000000</td>\n      <td>0.0</td>\n      <td>209.0</td>\n      <td>5.000000</td>\n      <td>1</td>\n    </tr>\n    <tr>\n      <th>804</th>\n      <td>a3525443294a</td>\n      <td>2019-08-17 00:00:00</td>\n      <td>3</td>\n      <td>0.0</td>\n      <td>0.0</td>\n      <td>0.0</td>\n      <td>9.0</td>\n      <td>0.0</td>\n      <td>2.0</td>\n      <td>0.0</td>\n      <td>...</td>\n      <td>208.0</td>\n      <td>3.600000</td>\n      <td>8.0</td>\n      <td>1.500000</td>\n      <td>2.0</td>\n      <td>-1.000000</td>\n      <td>0.0</td>\n      <td>218.0</td>\n      <td>3.366667</td>\n      <td>1</td>\n    </tr>\n    <tr>\n      <th>...</th>\n      <td>...</td>\n      <td>...</td>\n      <td>...</td>\n      <td>...</td>\n      <td>...</td>\n      <td>...</td>\n      <td>...</td>\n      <td>...</td>\n      <td>...</td>\n      <td>...</td>\n      <td>...</td>\n      <td>...</td>\n      <td>...</td>\n      <td>...</td>\n      <td>...</td>\n      <td>...</td>\n      <td>...</td>\n      <td>...</td>\n      <td>...</td>\n      <td>...</td>\n      <td>...</td>\n    </tr>\n    <tr>\n      <th>13598</th>\n      <td>a6234062211a</td>\n      <td>2019-08-06 00:00:00</td>\n      <td>7</td>\n      <td>0.0</td>\n      <td>0.0</td>\n      <td>0.0</td>\n      <td>20.0</td>\n      <td>0.0</td>\n      <td>4.0</td>\n      <td>0.0</td>\n      <td>...</td>\n      <td>181.0</td>\n      <td>4.666667</td>\n      <td>8.0</td>\n      <td>5.000000</td>\n      <td>5.0</td>\n      <td>-1.000000</td>\n      <td>0.0</td>\n      <td>194.0</td>\n      <td>4.755556</td>\n      <td>1</td>\n    </tr>\n    <tr>\n      <th>13652</th>\n      <td>a6315222985a</td>\n      <td>2019-04-21 00:00:00</td>\n      <td>112</td>\n      <td>0.0</td>\n      <td>0.0</td>\n      <td>0.0</td>\n      <td>38.0</td>\n      <td>0.0</td>\n      <td>21.0</td>\n      <td>0.0</td>\n      <td>...</td>\n      <td>289.0</td>\n      <td>4.187500</td>\n      <td>0.0</td>\n      <td>0.222222</td>\n      <td>3.0</td>\n      <td>-1.000000</td>\n      <td>0.0</td>\n      <td>292.0</td>\n      <td>2.204861</td>\n      <td>1</td>\n    </tr>\n    <tr>\n      <th>14078</th>\n      <td>a7703030058a</td>\n      <td>2019-01-23 00:00:00</td>\n      <td>379</td>\n      <td>0.0</td>\n      <td>0.0</td>\n      <td>0.0</td>\n      <td>30.0</td>\n      <td>0.0</td>\n      <td>25.0</td>\n      <td>0.0</td>\n      <td>...</td>\n      <td>98.0</td>\n      <td>4.287234</td>\n      <td>1.0</td>\n      <td>0.557042</td>\n      <td>73.0</td>\n      <td>-1.000000</td>\n      <td>0.0</td>\n      <td>172.0</td>\n      <td>2.761425</td>\n      <td>1</td>\n    </tr>\n    <tr>\n      <th>14374</th>\n      <td>a2466035034a</td>\n      <td>2018-12-07 00:00:00</td>\n      <td>130</td>\n      <td>0.0</td>\n      <td>0.0</td>\n      <td>0.0</td>\n      <td>2.0</td>\n      <td>0.0</td>\n      <td>2.0</td>\n      <td>0.0</td>\n      <td>...</td>\n      <td>644.0</td>\n      <td>4.226744</td>\n      <td>0.0</td>\n      <td>1.282857</td>\n      <td>804.0</td>\n      <td>-1.000000</td>\n      <td>0.0</td>\n      <td>1448.0</td>\n      <td>3.199867</td>\n      <td>1</td>\n    </tr>\n    <tr>\n      <th>14890</th>\n      <td>a7710045520a</td>\n      <td>2017-03-03 13:35:35</td>\n      <td>753</td>\n      <td>0.0</td>\n      <td>0.0</td>\n      <td>0.0</td>\n      <td>1.0</td>\n      <td>0.0</td>\n      <td>1.0</td>\n      <td>0.0</td>\n      <td>...</td>\n      <td>4030.0</td>\n      <td>4.248344</td>\n      <td>3.0</td>\n      <td>0.367384</td>\n      <td>607.0</td>\n      <td>-1.000000</td>\n      <td>0.0</td>\n      <td>4640.0</td>\n      <td>2.875243</td>\n      <td>1</td>\n    </tr>\n  </tbody>\n</table>\n<p>64 rows × 38 columns</p>\n</div>"
     },
     "execution_count": 85,
     "metadata": {},
     "output_type": "execute_result"
    }
   ],
   "source": [
    "base_sieve = df[(df.phb_all < df.phb_all.quantile(0.1)) & (df.all_reviews_cnt > quant.at[0.75, 'all_reviews_cnt'])]\n",
    "base_sieve"
   ],
   "metadata": {
    "collapsed": false,
    "pycharm": {
     "name": "#%%\n"
    }
   }
  },
  {
   "cell_type": "code",
   "execution_count": null,
   "outputs": [],
   "source": [
    "df.rating_2gis.replace(0.0, -1, inplace = True)"
   ],
   "metadata": {
    "collapsed": false,
    "pycharm": {
     "name": "#%%\n"
    }
   }
  },
  {
   "cell_type": "code",
   "execution_count": 96,
   "outputs": [
    {
     "data": {
      "text/plain": "                 id                 date  phones_num  phb_fraud  phb_dirty  \\\n1      a7706752171a  2022-01-15 00:00:00          16        0.0        0.0   \n4      a7728551510a  2022-04-28 00:00:00         161        4.0        2.0   \n5      a2311124588a  2022-10-12 00:00:00           8        1.0        0.0   \n35     a3444106290a  2022-02-24 00:00:00           7        0.0        0.0   \n45     a5047080709a  2022-06-01 00:00:00           9        2.0        0.0   \n...             ...                  ...         ...        ...        ...   \n14689  a3800000220a  2022-10-10 00:00:00          94       97.0       31.0   \n14690  a2627026682a  2021-11-16 00:00:00          34        1.0        0.0   \n14791  a3905019765a  2022-11-02 00:00:00          72        0.0        0.0   \n14802  a4825125008a  2022-04-28 00:00:00          34        0.0        0.0   \n14890  a7710045520a  2017-03-03 13:35:35         753        0.0        0.0   \n\n       phb_all_bad  phb_all  phb_bad_perc  found_phones  phb_fraud_dir  ...  \\\n1              0.0   2421.0          0.00          16.0            0.0  ...   \n4              6.0  17842.0          0.03         145.0            0.0  ...   \n5              1.0   4222.0          0.02           6.0            0.0  ...   \n35             0.0    572.0          0.00           5.0            0.0  ...   \n45             2.0   2578.0          0.08           9.0            0.0  ...   \n...            ...      ...           ...           ...            ...  ...   \n14689        128.0  33638.0          0.38          80.0            0.0  ...   \n14690          1.0   5278.0          0.02          29.0            0.0  ...   \n14791          0.0  25517.0          0.00          63.0            0.0  ...   \n14802          0.0   1590.0          0.00          31.0            0.0  ...   \n14890          0.0      1.0          0.00           1.0            0.0  ...   \n\n       reviews_cnt_ya  rating_yell  reviews_cnt_yell  rating_2gis  \\\n1                39.0     3.700000               1.0     0.142857   \n4              5772.0     4.244828             308.0     1.358362   \n5               183.0     4.500000               0.0     2.000000   \n35               30.0     2.500000               3.0    -1.000000   \n45             1089.0     4.333333               1.0     1.500000   \n...               ...          ...               ...          ...   \n14689           683.0     4.230769               0.0     0.350000   \n14690            55.0     4.125000               0.0     0.095238   \n14791            88.0     4.406250             144.0     0.680952   \n14802          1003.0     4.000000               0.0     0.090909   \n14890          4030.0     4.248344               3.0     0.367384   \n\n       reviews_cnt_2gis  rating_avito  reviews_cnt_avito  all_reviews_cnt  \\\n1                   2.0           4.8                5.0             47.0   \n4                2943.0          -1.0                0.0           9023.0   \n5                   1.0          -1.0                0.0            184.0   \n35                  0.0          -1.0                0.0             33.0   \n45                  2.0          -1.0                0.0           1092.0   \n...                 ...           ...                ...              ...   \n14689              34.0          -1.0                0.0            717.0   \n14690               4.0          -1.0                0.0             59.0   \n14791              56.0          -1.0                0.0            288.0   \n14802               3.0          -1.0                0.0           1006.0   \n14890             607.0          -1.0                0.0           4640.0   \n\n       mean_rating  popularity  \n1         3.198214           4  \n4         3.251063           4  \n5         3.800000           4  \n35        3.550000           2  \n45        3.391111           4  \n...            ...         ...  \n14689     1.586923           4  \n14690     2.306746           4  \n14791     3.169067           4  \n14802     2.486970           4  \n14890     2.875243           1  \n\n[907 rows x 38 columns]",
      "text/html": "<div>\n<style scoped>\n    .dataframe tbody tr th:only-of-type {\n        vertical-align: middle;\n    }\n\n    .dataframe tbody tr th {\n        vertical-align: top;\n    }\n\n    .dataframe thead th {\n        text-align: right;\n    }\n</style>\n<table border=\"1\" class=\"dataframe\">\n  <thead>\n    <tr style=\"text-align: right;\">\n      <th></th>\n      <th>id</th>\n      <th>date</th>\n      <th>phones_num</th>\n      <th>phb_fraud</th>\n      <th>phb_dirty</th>\n      <th>phb_all_bad</th>\n      <th>phb_all</th>\n      <th>phb_bad_perc</th>\n      <th>found_phones</th>\n      <th>phb_fraud_dir</th>\n      <th>...</th>\n      <th>reviews_cnt_ya</th>\n      <th>rating_yell</th>\n      <th>reviews_cnt_yell</th>\n      <th>rating_2gis</th>\n      <th>reviews_cnt_2gis</th>\n      <th>rating_avito</th>\n      <th>reviews_cnt_avito</th>\n      <th>all_reviews_cnt</th>\n      <th>mean_rating</th>\n      <th>popularity</th>\n    </tr>\n  </thead>\n  <tbody>\n    <tr>\n      <th>1</th>\n      <td>a7706752171a</td>\n      <td>2022-01-15 00:00:00</td>\n      <td>16</td>\n      <td>0.0</td>\n      <td>0.0</td>\n      <td>0.0</td>\n      <td>2421.0</td>\n      <td>0.00</td>\n      <td>16.0</td>\n      <td>0.0</td>\n      <td>...</td>\n      <td>39.0</td>\n      <td>3.700000</td>\n      <td>1.0</td>\n      <td>0.142857</td>\n      <td>2.0</td>\n      <td>4.8</td>\n      <td>5.0</td>\n      <td>47.0</td>\n      <td>3.198214</td>\n      <td>4</td>\n    </tr>\n    <tr>\n      <th>4</th>\n      <td>a7728551510a</td>\n      <td>2022-04-28 00:00:00</td>\n      <td>161</td>\n      <td>4.0</td>\n      <td>2.0</td>\n      <td>6.0</td>\n      <td>17842.0</td>\n      <td>0.03</td>\n      <td>145.0</td>\n      <td>0.0</td>\n      <td>...</td>\n      <td>5772.0</td>\n      <td>4.244828</td>\n      <td>308.0</td>\n      <td>1.358362</td>\n      <td>2943.0</td>\n      <td>-1.0</td>\n      <td>0.0</td>\n      <td>9023.0</td>\n      <td>3.251063</td>\n      <td>4</td>\n    </tr>\n    <tr>\n      <th>5</th>\n      <td>a2311124588a</td>\n      <td>2022-10-12 00:00:00</td>\n      <td>8</td>\n      <td>1.0</td>\n      <td>0.0</td>\n      <td>1.0</td>\n      <td>4222.0</td>\n      <td>0.02</td>\n      <td>6.0</td>\n      <td>0.0</td>\n      <td>...</td>\n      <td>183.0</td>\n      <td>4.500000</td>\n      <td>0.0</td>\n      <td>2.000000</td>\n      <td>1.0</td>\n      <td>-1.0</td>\n      <td>0.0</td>\n      <td>184.0</td>\n      <td>3.800000</td>\n      <td>4</td>\n    </tr>\n    <tr>\n      <th>35</th>\n      <td>a3444106290a</td>\n      <td>2022-02-24 00:00:00</td>\n      <td>7</td>\n      <td>0.0</td>\n      <td>0.0</td>\n      <td>0.0</td>\n      <td>572.0</td>\n      <td>0.00</td>\n      <td>5.0</td>\n      <td>0.0</td>\n      <td>...</td>\n      <td>30.0</td>\n      <td>2.500000</td>\n      <td>3.0</td>\n      <td>-1.000000</td>\n      <td>0.0</td>\n      <td>-1.0</td>\n      <td>0.0</td>\n      <td>33.0</td>\n      <td>3.550000</td>\n      <td>2</td>\n    </tr>\n    <tr>\n      <th>45</th>\n      <td>a5047080709a</td>\n      <td>2022-06-01 00:00:00</td>\n      <td>9</td>\n      <td>2.0</td>\n      <td>0.0</td>\n      <td>2.0</td>\n      <td>2578.0</td>\n      <td>0.08</td>\n      <td>9.0</td>\n      <td>0.0</td>\n      <td>...</td>\n      <td>1089.0</td>\n      <td>4.333333</td>\n      <td>1.0</td>\n      <td>1.500000</td>\n      <td>2.0</td>\n      <td>-1.0</td>\n      <td>0.0</td>\n      <td>1092.0</td>\n      <td>3.391111</td>\n      <td>4</td>\n    </tr>\n    <tr>\n      <th>...</th>\n      <td>...</td>\n      <td>...</td>\n      <td>...</td>\n      <td>...</td>\n      <td>...</td>\n      <td>...</td>\n      <td>...</td>\n      <td>...</td>\n      <td>...</td>\n      <td>...</td>\n      <td>...</td>\n      <td>...</td>\n      <td>...</td>\n      <td>...</td>\n      <td>...</td>\n      <td>...</td>\n      <td>...</td>\n      <td>...</td>\n      <td>...</td>\n      <td>...</td>\n      <td>...</td>\n    </tr>\n    <tr>\n      <th>14689</th>\n      <td>a3800000220a</td>\n      <td>2022-10-10 00:00:00</td>\n      <td>94</td>\n      <td>97.0</td>\n      <td>31.0</td>\n      <td>128.0</td>\n      <td>33638.0</td>\n      <td>0.38</td>\n      <td>80.0</td>\n      <td>0.0</td>\n      <td>...</td>\n      <td>683.0</td>\n      <td>4.230769</td>\n      <td>0.0</td>\n      <td>0.350000</td>\n      <td>34.0</td>\n      <td>-1.0</td>\n      <td>0.0</td>\n      <td>717.0</td>\n      <td>1.586923</td>\n      <td>4</td>\n    </tr>\n    <tr>\n      <th>14690</th>\n      <td>a2627026682a</td>\n      <td>2021-11-16 00:00:00</td>\n      <td>34</td>\n      <td>1.0</td>\n      <td>0.0</td>\n      <td>1.0</td>\n      <td>5278.0</td>\n      <td>0.02</td>\n      <td>29.0</td>\n      <td>0.0</td>\n      <td>...</td>\n      <td>55.0</td>\n      <td>4.125000</td>\n      <td>0.0</td>\n      <td>0.095238</td>\n      <td>4.0</td>\n      <td>-1.0</td>\n      <td>0.0</td>\n      <td>59.0</td>\n      <td>2.306746</td>\n      <td>4</td>\n    </tr>\n    <tr>\n      <th>14791</th>\n      <td>a3905019765a</td>\n      <td>2022-11-02 00:00:00</td>\n      <td>72</td>\n      <td>0.0</td>\n      <td>0.0</td>\n      <td>0.0</td>\n      <td>25517.0</td>\n      <td>0.00</td>\n      <td>63.0</td>\n      <td>0.0</td>\n      <td>...</td>\n      <td>88.0</td>\n      <td>4.406250</td>\n      <td>144.0</td>\n      <td>0.680952</td>\n      <td>56.0</td>\n      <td>-1.0</td>\n      <td>0.0</td>\n      <td>288.0</td>\n      <td>3.169067</td>\n      <td>4</td>\n    </tr>\n    <tr>\n      <th>14802</th>\n      <td>a4825125008a</td>\n      <td>2022-04-28 00:00:00</td>\n      <td>34</td>\n      <td>0.0</td>\n      <td>0.0</td>\n      <td>0.0</td>\n      <td>1590.0</td>\n      <td>0.00</td>\n      <td>31.0</td>\n      <td>0.0</td>\n      <td>...</td>\n      <td>1003.0</td>\n      <td>4.000000</td>\n      <td>0.0</td>\n      <td>0.090909</td>\n      <td>3.0</td>\n      <td>-1.0</td>\n      <td>0.0</td>\n      <td>1006.0</td>\n      <td>2.486970</td>\n      <td>4</td>\n    </tr>\n    <tr>\n      <th>14890</th>\n      <td>a7710045520a</td>\n      <td>2017-03-03 13:35:35</td>\n      <td>753</td>\n      <td>0.0</td>\n      <td>0.0</td>\n      <td>0.0</td>\n      <td>1.0</td>\n      <td>0.00</td>\n      <td>1.0</td>\n      <td>0.0</td>\n      <td>...</td>\n      <td>4030.0</td>\n      <td>4.248344</td>\n      <td>3.0</td>\n      <td>0.367384</td>\n      <td>607.0</td>\n      <td>-1.0</td>\n      <td>0.0</td>\n      <td>4640.0</td>\n      <td>2.875243</td>\n      <td>1</td>\n    </tr>\n  </tbody>\n</table>\n<p>907 rows × 38 columns</p>\n</div>"
     },
     "execution_count": 96,
     "metadata": {},
     "output_type": "execute_result"
    }
   ],
   "source": [
    "def susp_rating(columns):\n",
    "    for a in columns:\n",
    "        if a == -1:\n",
    "            continue\n",
    "        for b in columns:\n",
    "            if b == -1:\n",
    "                continue\n",
    "            if abs(a - b) > 2:\n",
    "                return True\n",
    "    return False\n",
    "\n",
    "\n",
    "df[(df[rating_columns].apply(lambda x: susp_rating(x), axis=1)) & (df.all_reviews_cnt > 10)]"
   ],
   "metadata": {
    "collapsed": false,
    "pycharm": {
     "name": "#%%\n"
    }
   }
  },
  {
   "cell_type": "code",
   "execution_count": null,
   "outputs": [],
   "source": [],
   "metadata": {
    "collapsed": false,
    "pycharm": {
     "name": "#%%\n"
    }
   }
  }
 ],
 "metadata": {
  "kernelspec": {
   "display_name": "Python 3",
   "language": "python",
   "name": "python3"
  },
  "language_info": {
   "codemirror_mode": {
    "name": "ipython",
    "version": 2
   },
   "file_extension": ".py",
   "mimetype": "text/x-python",
   "name": "python",
   "nbconvert_exporter": "python",
   "pygments_lexer": "ipython2",
   "version": "2.7.6"
  }
 },
 "nbformat": 4,
 "nbformat_minor": 0
}