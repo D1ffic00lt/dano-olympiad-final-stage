{
 "cells": [
  {
   "cell_type": "code",
   "execution_count": null,
   "metadata": {
    "collapsed": true
   },
   "outputs": [],
   "source": [
    "import pandas as pd\n",
    "from matplotlib import pyplot as plt\n",
    "import seaborn as sns\n",
    "import numpy as np"
   ]
  },
  {
   "cell_type": "code",
   "execution_count": 3,
   "outputs": [
    {
     "data": {
      "text/plain": "               id                 date  phones_num  phb_fraud  phb_dirty  \\\n0  a782615660478a  2022-10-30 00:00:00           1        0.0        2.0   \n1    a7706752171a  2022-01-15 00:00:00          16        0.0        0.0   \n2  a745212602258a  2021-06-03 00:00:00           4        0.0        0.0   \n3    a2466264323a  2022-09-25 00:00:00           3        0.0        0.0   \n4    a7728551510a  2022-04-28 00:00:00         161        4.0        2.0   \n\n   phb_all_bad  phb_all  phb_bad_perc  found_phones  phb_fraud_dir  ...  \\\n0          2.0   1498.0          0.13           1.0            0.0  ...   \n1          0.0   2421.0          0.00          16.0            0.0  ...   \n2          0.0   1503.0          0.00           3.0            0.0  ...   \n3          0.0     77.0          0.00           2.0            0.0  ...   \n4          6.0  17842.0          0.03         145.0            0.0  ...   \n\n   defendant_case_perc  rating_ya  ratings_cnt_ya  reviews_cnt_ya  \\\n0                  0.0      -1.00             0.0            15.0   \n1                  0.0       4.15           114.0            39.0   \n2                  0.0      -1.00             0.0             4.0   \n3                  0.0      -1.00             0.0             2.0   \n4                  0.0       4.15         21338.0          5772.0   \n\n   rating_yell  reviews_cnt_yell  rating_2gis  reviews_cnt_2gis  rating_avito  \\\n0     4.000000               0.0     0.000000               0.0          -1.0   \n1     3.700000               1.0     0.142857               2.0           4.8   \n2     4.000000               0.0     0.000000               0.0          -1.0   \n3     4.500000               0.0     4.800000               5.0          -1.0   \n4     4.244828             308.0     1.358362            2943.0          -1.0   \n\n   reviews_cnt_avito  \n0               -1.0  \n1                5.0  \n2               -1.0  \n3               -1.0  \n4               -1.0  \n\n[5 rows x 35 columns]",
      "text/html": "<div>\n<style scoped>\n    .dataframe tbody tr th:only-of-type {\n        vertical-align: middle;\n    }\n\n    .dataframe tbody tr th {\n        vertical-align: top;\n    }\n\n    .dataframe thead th {\n        text-align: right;\n    }\n</style>\n<table border=\"1\" class=\"dataframe\">\n  <thead>\n    <tr style=\"text-align: right;\">\n      <th></th>\n      <th>id</th>\n      <th>date</th>\n      <th>phones_num</th>\n      <th>phb_fraud</th>\n      <th>phb_dirty</th>\n      <th>phb_all_bad</th>\n      <th>phb_all</th>\n      <th>phb_bad_perc</th>\n      <th>found_phones</th>\n      <th>phb_fraud_dir</th>\n      <th>...</th>\n      <th>defendant_case_perc</th>\n      <th>rating_ya</th>\n      <th>ratings_cnt_ya</th>\n      <th>reviews_cnt_ya</th>\n      <th>rating_yell</th>\n      <th>reviews_cnt_yell</th>\n      <th>rating_2gis</th>\n      <th>reviews_cnt_2gis</th>\n      <th>rating_avito</th>\n      <th>reviews_cnt_avito</th>\n    </tr>\n  </thead>\n  <tbody>\n    <tr>\n      <th>0</th>\n      <td>a782615660478a</td>\n      <td>2022-10-30 00:00:00</td>\n      <td>1</td>\n      <td>0.0</td>\n      <td>2.0</td>\n      <td>2.0</td>\n      <td>1498.0</td>\n      <td>0.13</td>\n      <td>1.0</td>\n      <td>0.0</td>\n      <td>...</td>\n      <td>0.0</td>\n      <td>-1.00</td>\n      <td>0.0</td>\n      <td>15.0</td>\n      <td>4.000000</td>\n      <td>0.0</td>\n      <td>0.000000</td>\n      <td>0.0</td>\n      <td>-1.0</td>\n      <td>-1.0</td>\n    </tr>\n    <tr>\n      <th>1</th>\n      <td>a7706752171a</td>\n      <td>2022-01-15 00:00:00</td>\n      <td>16</td>\n      <td>0.0</td>\n      <td>0.0</td>\n      <td>0.0</td>\n      <td>2421.0</td>\n      <td>0.00</td>\n      <td>16.0</td>\n      <td>0.0</td>\n      <td>...</td>\n      <td>0.0</td>\n      <td>4.15</td>\n      <td>114.0</td>\n      <td>39.0</td>\n      <td>3.700000</td>\n      <td>1.0</td>\n      <td>0.142857</td>\n      <td>2.0</td>\n      <td>4.8</td>\n      <td>5.0</td>\n    </tr>\n    <tr>\n      <th>2</th>\n      <td>a745212602258a</td>\n      <td>2021-06-03 00:00:00</td>\n      <td>4</td>\n      <td>0.0</td>\n      <td>0.0</td>\n      <td>0.0</td>\n      <td>1503.0</td>\n      <td>0.00</td>\n      <td>3.0</td>\n      <td>0.0</td>\n      <td>...</td>\n      <td>0.0</td>\n      <td>-1.00</td>\n      <td>0.0</td>\n      <td>4.0</td>\n      <td>4.000000</td>\n      <td>0.0</td>\n      <td>0.000000</td>\n      <td>0.0</td>\n      <td>-1.0</td>\n      <td>-1.0</td>\n    </tr>\n    <tr>\n      <th>3</th>\n      <td>a2466264323a</td>\n      <td>2022-09-25 00:00:00</td>\n      <td>3</td>\n      <td>0.0</td>\n      <td>0.0</td>\n      <td>0.0</td>\n      <td>77.0</td>\n      <td>0.00</td>\n      <td>2.0</td>\n      <td>0.0</td>\n      <td>...</td>\n      <td>0.0</td>\n      <td>-1.00</td>\n      <td>0.0</td>\n      <td>2.0</td>\n      <td>4.500000</td>\n      <td>0.0</td>\n      <td>4.800000</td>\n      <td>5.0</td>\n      <td>-1.0</td>\n      <td>-1.0</td>\n    </tr>\n    <tr>\n      <th>4</th>\n      <td>a7728551510a</td>\n      <td>2022-04-28 00:00:00</td>\n      <td>161</td>\n      <td>4.0</td>\n      <td>2.0</td>\n      <td>6.0</td>\n      <td>17842.0</td>\n      <td>0.03</td>\n      <td>145.0</td>\n      <td>0.0</td>\n      <td>...</td>\n      <td>0.0</td>\n      <td>4.15</td>\n      <td>21338.0</td>\n      <td>5772.0</td>\n      <td>4.244828</td>\n      <td>308.0</td>\n      <td>1.358362</td>\n      <td>2943.0</td>\n      <td>-1.0</td>\n      <td>-1.0</td>\n    </tr>\n  </tbody>\n</table>\n<p>5 rows × 35 columns</p>\n</div>"
     },
     "execution_count": 3,
     "metadata": {},
     "output_type": "execute_result"
    }
   ],
   "source": [
    "df = pd.read_csv('../data/clean_data.csv')\n",
    "df.head()"
   ],
   "metadata": {
    "collapsed": false,
    "pycharm": {
     "name": "#%%\n"
    }
   }
  },
  {
   "cell_type": "code",
   "execution_count": 4,
   "outputs": [],
   "source": [
    "rating_columns = [\n",
    "    \"rating_ya\",\n",
    "    \"rating_yell\",\n",
    "    \"rating_avito\",\n",
    "    \"rating_2gis\",\n",
    "]\n",
    "\n",
    "reviews_count_columns = [\n",
    "    \"reviews_cnt_ya\",\n",
    "    \"reviews_cnt_yell\",\n",
    "    \"reviews_cnt_2gis\",\n",
    "    \"reviews_cnt_avito\",\n",
    "    \"ratings_cnt_ya\"\n",
    "]\n",
    "\n",
    "phones = [\n",
    "    \"phb_bad_perc_dir\",\n",
    "    \"phb_all_dir\",  # !\n",
    "    \"phb_all_bad_dir\",  # !\n",
    "    \"phb_dirty_dir\",\n",
    "    \"phb_fraud_dir\",\n",
    "    \"phb_bad_perc\",\n",
    "    \"found_phones_dir\",\n",
    "    \"phb_all\",\n",
    "    \"phb_all_bad\",\n",
    "    \"phb_dirty\",\n",
    "    \"phb_fraud\",\n",
    "    \"found_phones\",\n",
    "    \"phones_num\"\n",
    "\n",
    "]\n",
    "\n",
    "bank_and_police = [\n",
    "    \"total_defendant_case_amt\",\n",
    "    \"defendant_case_perc\",\n",
    "    \"total_defendant_case_cnt\",\n",
    "    \"total_case_cnt\",\n",
    "    \"mvd_request_num\",\n",
    "    \"complaints_num_dir\",\n",
    "    \"complaints_num\",\n",
    "    \"claims_percent\",\n",
    "    \"appl_num\",\n",
    "    \"bad_rep_tcb\"\n",
    "]\n",
    "\n",
    "data_without_description = [\n",
    "    \"claims_num\"\n",
    "]"
   ],
   "metadata": {
    "collapsed": false,
    "pycharm": {
     "name": "#%%\n"
    }
   }
  },
  {
   "cell_type": "code",
   "execution_count": 5,
   "outputs": [],
   "source": [
    "df['all_reviews_cnt'] = df[reviews_count_columns].sum(axis=1)"
   ],
   "metadata": {
    "collapsed": false,
    "pycharm": {
     "name": "#%%\n"
    }
   }
  },
  {
   "cell_type": "code",
   "execution_count": 6,
   "outputs": [],
   "source": [
    "def get_mean_rating(row):\n",
    "    sm = n = 0\n",
    "    for r in row[rating_columns]:\n",
    "        if r > 0:\n",
    "            sm += r\n",
    "            n += 1\n",
    "    if n == 0:\n",
    "        return 0\n",
    "    return sm / n\n",
    "\n",
    "df['mean_rating'] = df.apply(lambda x: get_mean_rating(x), axis=1)"
   ],
   "metadata": {
    "collapsed": false,
    "pycharm": {
     "name": "#%%\n"
    }
   }
  },
  {
   "cell_type": "code",
   "execution_count": 7,
   "outputs": [
    {
     "data": {
      "text/plain": "3697.0"
     },
     "execution_count": 7,
     "metadata": {},
     "output_type": "execute_result"
    }
   ],
   "source": [
    "size_columns = ['phb_all',  'appl_num', 'all_reviews_cnt']\n",
    "has_reviews = df[df['all_reviews_cnt'] > 0]\n",
    "\n",
    "q90 = has_reviews[size_columns].quantile(0.9)\n",
    "q75 = has_reviews[size_columns].quantile(0.75)\n",
    "q50 = has_reviews[size_columns].quantile(0.50)\n",
    "q25 = has_reviews[size_columns].quantile(0.25)\n",
    "\n",
    "q = has_reviews[size_columns].quantile([0.25, 0.5, 0.75, 0.9])\n",
    "q.at[0.75, 'phb_all']"
   ],
   "metadata": {
    "collapsed": false,
    "pycharm": {
     "name": "#%%\n"
    }
   }
  },
  {
   "cell_type": "code",
   "execution_count": 8,
   "outputs": [
    {
     "data": {
      "text/plain": "       phones_num    phb_fraud   phb_dirty  phb_all_bad       phb_all  \\\ncount    11.00000    11.000000    11.00000    11.000000  1.100000e+01   \nmean   1035.00000   454.454545   350.00000   804.454545  6.945040e+05   \nstd    2367.55963  1287.842565   848.20316  2133.215946  1.678388e+06   \nmin       6.00000     0.000000     0.00000     0.000000  1.092300e+04   \n25%      55.00000     1.000000     3.00000     4.000000  2.990600e+04   \n50%     368.00000    26.000000    22.00000    62.000000  7.838400e+04   \n75%     572.00000   125.500000   239.50000   365.000000  3.175160e+05   \nmax    8090.00000  4326.000000  2867.00000  7193.000000  5.693618e+06   \n\n       phb_bad_perc  found_phones  phb_fraud_dir  phb_dirty_dir  \\\ncount      11.00000     11.000000      11.000000      11.000000   \nmean        0.06000    993.909091       0.727273       3.272727   \nstd         0.04899   2301.069728       2.412091      10.854408   \nmin         0.00000      6.000000       0.000000       0.000000   \n25%         0.01500     53.000000       0.000000       0.000000   \n50%         0.08000    301.000000       0.000000       0.000000   \n75%         0.09500    540.500000       0.000000       0.000000   \nmax         0.13000   7851.000000       8.000000      36.000000   \n\n       phb_all_bad_dir  ...  ratings_cnt_ya  reviews_cnt_ya  rating_yell  \\\ncount        11.000000  ...       11.000000       11.000000    11.000000   \nmean          4.000000  ...    10021.545455     3106.000000     4.223635   \nstd          13.266499  ...    16752.205672     5182.214025     0.104146   \nmin           0.000000  ...      402.000000      140.000000     4.000000   \n25%           0.000000  ...      973.000000      327.500000     4.230598   \n50%           0.000000  ...     2385.000000      741.000000     4.240574   \n75%           0.000000  ...    13268.000000     4359.500000     4.276551   \nmax          44.000000  ...    56712.000000    17681.000000     4.350000   \n\n       reviews_cnt_yell  rating_2gis  reviews_cnt_2gis  rating_avito  \\\ncount         11.000000    11.000000         11.000000     11.000000   \nmean          26.818182     1.425632        759.272727     -0.544444   \nstd           39.104522     1.507144       1082.265410      1.510907   \nmin            0.000000     0.071642          1.000000     -1.000000   \n25%            1.000000     0.570321         33.500000     -1.000000   \n50%            9.000000     0.759524        120.000000     -1.000000   \n75%           42.000000     1.711729       1169.000000     -1.000000   \nmax          131.000000     4.700000       2677.000000      4.011111   \n\n       reviews_cnt_avito  all_reviews_cnt  mean_rating  \ncount          11.000000        11.000000    11.000000  \nmean           18.545455     13932.181818     3.252823  \nstd            64.824939     22689.927205     0.583005  \nmin            -1.000000      1046.000000     2.694167  \n25%            -1.000000      1272.000000     2.844690  \n50%            -1.000000      3247.000000     3.059784  \n75%            -1.000000     19010.000000     3.480976  \nmax           214.000000     76542.000000     4.400000  \n\n[8 rows x 35 columns]",
      "text/html": "<div>\n<style scoped>\n    .dataframe tbody tr th:only-of-type {\n        vertical-align: middle;\n    }\n\n    .dataframe tbody tr th {\n        vertical-align: top;\n    }\n\n    .dataframe thead th {\n        text-align: right;\n    }\n</style>\n<table border=\"1\" class=\"dataframe\">\n  <thead>\n    <tr style=\"text-align: right;\">\n      <th></th>\n      <th>phones_num</th>\n      <th>phb_fraud</th>\n      <th>phb_dirty</th>\n      <th>phb_all_bad</th>\n      <th>phb_all</th>\n      <th>phb_bad_perc</th>\n      <th>found_phones</th>\n      <th>phb_fraud_dir</th>\n      <th>phb_dirty_dir</th>\n      <th>phb_all_bad_dir</th>\n      <th>...</th>\n      <th>ratings_cnt_ya</th>\n      <th>reviews_cnt_ya</th>\n      <th>rating_yell</th>\n      <th>reviews_cnt_yell</th>\n      <th>rating_2gis</th>\n      <th>reviews_cnt_2gis</th>\n      <th>rating_avito</th>\n      <th>reviews_cnt_avito</th>\n      <th>all_reviews_cnt</th>\n      <th>mean_rating</th>\n    </tr>\n  </thead>\n  <tbody>\n    <tr>\n      <th>count</th>\n      <td>11.00000</td>\n      <td>11.000000</td>\n      <td>11.00000</td>\n      <td>11.000000</td>\n      <td>1.100000e+01</td>\n      <td>11.00000</td>\n      <td>11.000000</td>\n      <td>11.000000</td>\n      <td>11.000000</td>\n      <td>11.000000</td>\n      <td>...</td>\n      <td>11.000000</td>\n      <td>11.000000</td>\n      <td>11.000000</td>\n      <td>11.000000</td>\n      <td>11.000000</td>\n      <td>11.000000</td>\n      <td>11.000000</td>\n      <td>11.000000</td>\n      <td>11.000000</td>\n      <td>11.000000</td>\n    </tr>\n    <tr>\n      <th>mean</th>\n      <td>1035.00000</td>\n      <td>454.454545</td>\n      <td>350.00000</td>\n      <td>804.454545</td>\n      <td>6.945040e+05</td>\n      <td>0.06000</td>\n      <td>993.909091</td>\n      <td>0.727273</td>\n      <td>3.272727</td>\n      <td>4.000000</td>\n      <td>...</td>\n      <td>10021.545455</td>\n      <td>3106.000000</td>\n      <td>4.223635</td>\n      <td>26.818182</td>\n      <td>1.425632</td>\n      <td>759.272727</td>\n      <td>-0.544444</td>\n      <td>18.545455</td>\n      <td>13932.181818</td>\n      <td>3.252823</td>\n    </tr>\n    <tr>\n      <th>std</th>\n      <td>2367.55963</td>\n      <td>1287.842565</td>\n      <td>848.20316</td>\n      <td>2133.215946</td>\n      <td>1.678388e+06</td>\n      <td>0.04899</td>\n      <td>2301.069728</td>\n      <td>2.412091</td>\n      <td>10.854408</td>\n      <td>13.266499</td>\n      <td>...</td>\n      <td>16752.205672</td>\n      <td>5182.214025</td>\n      <td>0.104146</td>\n      <td>39.104522</td>\n      <td>1.507144</td>\n      <td>1082.265410</td>\n      <td>1.510907</td>\n      <td>64.824939</td>\n      <td>22689.927205</td>\n      <td>0.583005</td>\n    </tr>\n    <tr>\n      <th>min</th>\n      <td>6.00000</td>\n      <td>0.000000</td>\n      <td>0.00000</td>\n      <td>0.000000</td>\n      <td>1.092300e+04</td>\n      <td>0.00000</td>\n      <td>6.000000</td>\n      <td>0.000000</td>\n      <td>0.000000</td>\n      <td>0.000000</td>\n      <td>...</td>\n      <td>402.000000</td>\n      <td>140.000000</td>\n      <td>4.000000</td>\n      <td>0.000000</td>\n      <td>0.071642</td>\n      <td>1.000000</td>\n      <td>-1.000000</td>\n      <td>-1.000000</td>\n      <td>1046.000000</td>\n      <td>2.694167</td>\n    </tr>\n    <tr>\n      <th>25%</th>\n      <td>55.00000</td>\n      <td>1.000000</td>\n      <td>3.00000</td>\n      <td>4.000000</td>\n      <td>2.990600e+04</td>\n      <td>0.01500</td>\n      <td>53.000000</td>\n      <td>0.000000</td>\n      <td>0.000000</td>\n      <td>0.000000</td>\n      <td>...</td>\n      <td>973.000000</td>\n      <td>327.500000</td>\n      <td>4.230598</td>\n      <td>1.000000</td>\n      <td>0.570321</td>\n      <td>33.500000</td>\n      <td>-1.000000</td>\n      <td>-1.000000</td>\n      <td>1272.000000</td>\n      <td>2.844690</td>\n    </tr>\n    <tr>\n      <th>50%</th>\n      <td>368.00000</td>\n      <td>26.000000</td>\n      <td>22.00000</td>\n      <td>62.000000</td>\n      <td>7.838400e+04</td>\n      <td>0.08000</td>\n      <td>301.000000</td>\n      <td>0.000000</td>\n      <td>0.000000</td>\n      <td>0.000000</td>\n      <td>...</td>\n      <td>2385.000000</td>\n      <td>741.000000</td>\n      <td>4.240574</td>\n      <td>9.000000</td>\n      <td>0.759524</td>\n      <td>120.000000</td>\n      <td>-1.000000</td>\n      <td>-1.000000</td>\n      <td>3247.000000</td>\n      <td>3.059784</td>\n    </tr>\n    <tr>\n      <th>75%</th>\n      <td>572.00000</td>\n      <td>125.500000</td>\n      <td>239.50000</td>\n      <td>365.000000</td>\n      <td>3.175160e+05</td>\n      <td>0.09500</td>\n      <td>540.500000</td>\n      <td>0.000000</td>\n      <td>0.000000</td>\n      <td>0.000000</td>\n      <td>...</td>\n      <td>13268.000000</td>\n      <td>4359.500000</td>\n      <td>4.276551</td>\n      <td>42.000000</td>\n      <td>1.711729</td>\n      <td>1169.000000</td>\n      <td>-1.000000</td>\n      <td>-1.000000</td>\n      <td>19010.000000</td>\n      <td>3.480976</td>\n    </tr>\n    <tr>\n      <th>max</th>\n      <td>8090.00000</td>\n      <td>4326.000000</td>\n      <td>2867.00000</td>\n      <td>7193.000000</td>\n      <td>5.693618e+06</td>\n      <td>0.13000</td>\n      <td>7851.000000</td>\n      <td>8.000000</td>\n      <td>36.000000</td>\n      <td>44.000000</td>\n      <td>...</td>\n      <td>56712.000000</td>\n      <td>17681.000000</td>\n      <td>4.350000</td>\n      <td>131.000000</td>\n      <td>4.700000</td>\n      <td>2677.000000</td>\n      <td>4.011111</td>\n      <td>214.000000</td>\n      <td>76542.000000</td>\n      <td>4.400000</td>\n    </tr>\n  </tbody>\n</table>\n<p>8 rows × 35 columns</p>\n</div>"
     },
     "execution_count": 8,
     "metadata": {},
     "output_type": "execute_result"
    }
   ],
   "source": [
    "real_huge_companies = df[(df['phb_all'] > q90['phb_all']) & (df['appl_num'] > q90['appl_num']) & (df['all_reviews_cnt'] > q90['all_reviews_cnt'])]\n",
    "real_huge_companies.describe()"
   ],
   "metadata": {
    "collapsed": false,
    "pycharm": {
     "name": "#%%\n"
    }
   }
  },
  {
   "cell_type": "code",
   "execution_count": 9,
   "outputs": [
    {
     "data": {
      "text/plain": "        phones_num    phb_fraud    phb_dirty  phb_all_bad       phb_all  \\\ncount  2665.000000  2665.000000  2665.000000  2665.000000  2.665000e+03   \nmean     51.488931    13.381614     7.113321    20.494934  1.818190e+04   \nstd     356.431866   120.375590    65.213814   180.041527  1.417487e+05   \nmin       1.000000     0.000000     0.000000     0.000000  0.000000e+00   \n25%       1.000000     0.000000     0.000000     0.000000  4.840000e+02   \n50%       2.000000     0.000000     0.000000     0.000000  1.200000e+03   \n75%       6.000000     0.000000     0.000000     1.000000  3.500000e+03   \nmax    8090.000000  4326.000000  2867.000000  7193.000000  5.693618e+06   \n\n       phb_bad_perc  found_phones  phb_fraud_dir  phb_dirty_dir  \\\ncount   2665.000000   2665.000000    2665.000000    2665.000000   \nmean       0.096608     42.144465       0.634522       0.435272   \nstd        0.553600    311.425313       6.310295       3.525597   \nmin        0.000000      0.000000       0.000000       0.000000   \n25%        0.000000      1.000000       0.000000       0.000000   \n50%        0.000000      2.000000       0.000000       0.000000   \n75%        0.030000      5.000000       0.000000       0.000000   \nmax       14.490000   7851.000000     212.000000      92.000000   \n\n       phb_all_bad_dir  ...  ratings_cnt_ya  reviews_cnt_ya  rating_yell  \\\ncount      2665.000000  ...    2.665000e+03     2665.000000  2665.000000   \nmean          1.069794  ...    1.850109e+03      574.296435     1.029702   \nstd           9.208484  ...    2.734710e+04     8014.958277     2.575928   \nmin           0.000000  ...   -1.000000e+00       -1.000000    -1.000000   \n25%           0.000000  ...   -1.000000e+00       -1.000000    -1.000000   \n50%           0.000000  ...   -1.000000e+00       -1.000000    -1.000000   \n75%           0.000000  ...    2.400000e+01       11.000000     4.214667   \nmax         293.000000  ...    1.126416e+06   326694.000000     5.000000   \n\n       reviews_cnt_yell  rating_2gis  reviews_cnt_2gis  rating_avito  \\\ncount       2665.000000  2665.000000       2665.000000   2665.000000   \nmean           5.992871    -0.150009         43.792120     -0.835121   \nstd           43.729842     1.314240        380.944862      0.933234   \nmin           -1.000000    -1.000000         -1.000000     -1.000000   \n25%           -1.000000    -1.000000         -1.000000     -1.000000   \n50%           -1.000000    -1.000000         -1.000000     -1.000000   \n75%            0.000000     0.000000          0.000000     -1.000000   \nmax          964.000000     5.000000      14269.000000      5.000000   \n\n       reviews_cnt_avito  all_reviews_cnt  mean_rating  \ncount        2665.000000     2.665000e+03  2665.000000  \nmean            0.339587     2.474530e+03     1.646742  \nstd            18.276978     3.564468e+04     1.941008  \nmin            -1.000000    -5.000000e+00     0.000000  \n25%            -1.000000    -5.000000e+00     0.000000  \n50%            -1.000000    -4.000000e+00     0.000000  \n75%            -1.000000     5.300000e+01     3.800000  \nmax           707.000000     1.467875e+06     5.000000  \n\n[8 rows x 35 columns]",
      "text/html": "<div>\n<style scoped>\n    .dataframe tbody tr th:only-of-type {\n        vertical-align: middle;\n    }\n\n    .dataframe tbody tr th {\n        vertical-align: top;\n    }\n\n    .dataframe thead th {\n        text-align: right;\n    }\n</style>\n<table border=\"1\" class=\"dataframe\">\n  <thead>\n    <tr style=\"text-align: right;\">\n      <th></th>\n      <th>phones_num</th>\n      <th>phb_fraud</th>\n      <th>phb_dirty</th>\n      <th>phb_all_bad</th>\n      <th>phb_all</th>\n      <th>phb_bad_perc</th>\n      <th>found_phones</th>\n      <th>phb_fraud_dir</th>\n      <th>phb_dirty_dir</th>\n      <th>phb_all_bad_dir</th>\n      <th>...</th>\n      <th>ratings_cnt_ya</th>\n      <th>reviews_cnt_ya</th>\n      <th>rating_yell</th>\n      <th>reviews_cnt_yell</th>\n      <th>rating_2gis</th>\n      <th>reviews_cnt_2gis</th>\n      <th>rating_avito</th>\n      <th>reviews_cnt_avito</th>\n      <th>all_reviews_cnt</th>\n      <th>mean_rating</th>\n    </tr>\n  </thead>\n  <tbody>\n    <tr>\n      <th>count</th>\n      <td>2665.000000</td>\n      <td>2665.000000</td>\n      <td>2665.000000</td>\n      <td>2665.000000</td>\n      <td>2.665000e+03</td>\n      <td>2665.000000</td>\n      <td>2665.000000</td>\n      <td>2665.000000</td>\n      <td>2665.000000</td>\n      <td>2665.000000</td>\n      <td>...</td>\n      <td>2.665000e+03</td>\n      <td>2665.000000</td>\n      <td>2665.000000</td>\n      <td>2665.000000</td>\n      <td>2665.000000</td>\n      <td>2665.000000</td>\n      <td>2665.000000</td>\n      <td>2665.000000</td>\n      <td>2.665000e+03</td>\n      <td>2665.000000</td>\n    </tr>\n    <tr>\n      <th>mean</th>\n      <td>51.488931</td>\n      <td>13.381614</td>\n      <td>7.113321</td>\n      <td>20.494934</td>\n      <td>1.818190e+04</td>\n      <td>0.096608</td>\n      <td>42.144465</td>\n      <td>0.634522</td>\n      <td>0.435272</td>\n      <td>1.069794</td>\n      <td>...</td>\n      <td>1.850109e+03</td>\n      <td>574.296435</td>\n      <td>1.029702</td>\n      <td>5.992871</td>\n      <td>-0.150009</td>\n      <td>43.792120</td>\n      <td>-0.835121</td>\n      <td>0.339587</td>\n      <td>2.474530e+03</td>\n      <td>1.646742</td>\n    </tr>\n    <tr>\n      <th>std</th>\n      <td>356.431866</td>\n      <td>120.375590</td>\n      <td>65.213814</td>\n      <td>180.041527</td>\n      <td>1.417487e+05</td>\n      <td>0.553600</td>\n      <td>311.425313</td>\n      <td>6.310295</td>\n      <td>3.525597</td>\n      <td>9.208484</td>\n      <td>...</td>\n      <td>2.734710e+04</td>\n      <td>8014.958277</td>\n      <td>2.575928</td>\n      <td>43.729842</td>\n      <td>1.314240</td>\n      <td>380.944862</td>\n      <td>0.933234</td>\n      <td>18.276978</td>\n      <td>3.564468e+04</td>\n      <td>1.941008</td>\n    </tr>\n    <tr>\n      <th>min</th>\n      <td>1.000000</td>\n      <td>0.000000</td>\n      <td>0.000000</td>\n      <td>0.000000</td>\n      <td>0.000000e+00</td>\n      <td>0.000000</td>\n      <td>0.000000</td>\n      <td>0.000000</td>\n      <td>0.000000</td>\n      <td>0.000000</td>\n      <td>...</td>\n      <td>-1.000000e+00</td>\n      <td>-1.000000</td>\n      <td>-1.000000</td>\n      <td>-1.000000</td>\n      <td>-1.000000</td>\n      <td>-1.000000</td>\n      <td>-1.000000</td>\n      <td>-1.000000</td>\n      <td>-5.000000e+00</td>\n      <td>0.000000</td>\n    </tr>\n    <tr>\n      <th>25%</th>\n      <td>1.000000</td>\n      <td>0.000000</td>\n      <td>0.000000</td>\n      <td>0.000000</td>\n      <td>4.840000e+02</td>\n      <td>0.000000</td>\n      <td>1.000000</td>\n      <td>0.000000</td>\n      <td>0.000000</td>\n      <td>0.000000</td>\n      <td>...</td>\n      <td>-1.000000e+00</td>\n      <td>-1.000000</td>\n      <td>-1.000000</td>\n      <td>-1.000000</td>\n      <td>-1.000000</td>\n      <td>-1.000000</td>\n      <td>-1.000000</td>\n      <td>-1.000000</td>\n      <td>-5.000000e+00</td>\n      <td>0.000000</td>\n    </tr>\n    <tr>\n      <th>50%</th>\n      <td>2.000000</td>\n      <td>0.000000</td>\n      <td>0.000000</td>\n      <td>0.000000</td>\n      <td>1.200000e+03</td>\n      <td>0.000000</td>\n      <td>2.000000</td>\n      <td>0.000000</td>\n      <td>0.000000</td>\n      <td>0.000000</td>\n      <td>...</td>\n      <td>-1.000000e+00</td>\n      <td>-1.000000</td>\n      <td>-1.000000</td>\n      <td>-1.000000</td>\n      <td>-1.000000</td>\n      <td>-1.000000</td>\n      <td>-1.000000</td>\n      <td>-1.000000</td>\n      <td>-4.000000e+00</td>\n      <td>0.000000</td>\n    </tr>\n    <tr>\n      <th>75%</th>\n      <td>6.000000</td>\n      <td>0.000000</td>\n      <td>0.000000</td>\n      <td>1.000000</td>\n      <td>3.500000e+03</td>\n      <td>0.030000</td>\n      <td>5.000000</td>\n      <td>0.000000</td>\n      <td>0.000000</td>\n      <td>0.000000</td>\n      <td>...</td>\n      <td>2.400000e+01</td>\n      <td>11.000000</td>\n      <td>4.214667</td>\n      <td>0.000000</td>\n      <td>0.000000</td>\n      <td>0.000000</td>\n      <td>-1.000000</td>\n      <td>-1.000000</td>\n      <td>5.300000e+01</td>\n      <td>3.800000</td>\n    </tr>\n    <tr>\n      <th>max</th>\n      <td>8090.000000</td>\n      <td>4326.000000</td>\n      <td>2867.000000</td>\n      <td>7193.000000</td>\n      <td>5.693618e+06</td>\n      <td>14.490000</td>\n      <td>7851.000000</td>\n      <td>212.000000</td>\n      <td>92.000000</td>\n      <td>293.000000</td>\n      <td>...</td>\n      <td>1.126416e+06</td>\n      <td>326694.000000</td>\n      <td>5.000000</td>\n      <td>964.000000</td>\n      <td>5.000000</td>\n      <td>14269.000000</td>\n      <td>5.000000</td>\n      <td>707.000000</td>\n      <td>1.467875e+06</td>\n      <td>5.000000</td>\n    </tr>\n  </tbody>\n</table>\n<p>8 rows × 35 columns</p>\n</div>"
     },
     "execution_count": 9,
     "metadata": {},
     "output_type": "execute_result"
    }
   ],
   "source": [
    "huge_companies = df[(df['phb_all'] > q90['phb_all']) | (df['appl_num'] > q90['appl_num']) | (df['all_reviews_cnt'] > q90['all_reviews_cnt'])]\n",
    "huge_companies.describe()"
   ],
   "metadata": {
    "collapsed": false,
    "pycharm": {
     "name": "#%%\n"
    }
   }
  },
  {
   "cell_type": "code",
   "execution_count": 10,
   "outputs": [
    {
     "data": {
      "text/plain": "       phb_all  all_reviews_cnt  bad_rep_tcb\n107      116.0           1264.0          0.0\n856       15.0          11866.0          0.0\n1238     112.0           2538.0          0.0\n1437     520.0            848.0          0.0\n1936     380.0            879.0          0.0\n1978      22.0           1022.0          0.0\n2035      18.0          17618.0          0.0\n2313       6.0        1467875.0          0.0\n2531      97.0           4477.0          0.0\n2596     145.0            939.0          0.0\n2926       1.0          15359.0          0.0\n2928       2.0          28800.0          0.0\n3272     311.0           1061.0          0.0\n3359     300.0           1820.0          0.0\n3361      15.0            954.0          0.0\n3751       5.0           2195.0          0.0\n4431       2.0           5496.0          0.0\n4588       8.0           4801.0          0.0\n5034       1.0          12167.0          0.0\n5077      13.0          29778.0          0.0\n5268      88.0            809.0          0.0\n5794     460.0           1230.0          0.0\n5852       1.0           1427.0          0.0\n5854       1.0            891.0          0.0\n6501      13.0           1432.0          0.0\n6548      47.0          16221.0          0.0\n7076      15.0            954.0          0.0\n7357      15.0         304228.0          0.0\n7412       2.0          28800.0          0.0\n7518       2.0           1867.0          0.0\n7694      53.0           4176.0          0.0\n9104     302.0           3728.0          0.0\n9253       2.0          24151.0          0.0\n10038    118.0          25006.0          0.0\n10159    147.0           1249.0          0.0\n10169     15.0            954.0          0.0\n11082      1.0          15359.0          0.0\n11296      0.0            961.0          0.0\n13652     38.0           1212.0          0.0\n14374      2.0           3521.0          0.0\n14890      1.0          15359.0          0.0",
      "text/html": "<div>\n<style scoped>\n    .dataframe tbody tr th:only-of-type {\n        vertical-align: middle;\n    }\n\n    .dataframe tbody tr th {\n        vertical-align: top;\n    }\n\n    .dataframe thead th {\n        text-align: right;\n    }\n</style>\n<table border=\"1\" class=\"dataframe\">\n  <thead>\n    <tr style=\"text-align: right;\">\n      <th></th>\n      <th>phb_all</th>\n      <th>all_reviews_cnt</th>\n      <th>bad_rep_tcb</th>\n    </tr>\n  </thead>\n  <tbody>\n    <tr>\n      <th>107</th>\n      <td>116.0</td>\n      <td>1264.0</td>\n      <td>0.0</td>\n    </tr>\n    <tr>\n      <th>856</th>\n      <td>15.0</td>\n      <td>11866.0</td>\n      <td>0.0</td>\n    </tr>\n    <tr>\n      <th>1238</th>\n      <td>112.0</td>\n      <td>2538.0</td>\n      <td>0.0</td>\n    </tr>\n    <tr>\n      <th>1437</th>\n      <td>520.0</td>\n      <td>848.0</td>\n      <td>0.0</td>\n    </tr>\n    <tr>\n      <th>1936</th>\n      <td>380.0</td>\n      <td>879.0</td>\n      <td>0.0</td>\n    </tr>\n    <tr>\n      <th>1978</th>\n      <td>22.0</td>\n      <td>1022.0</td>\n      <td>0.0</td>\n    </tr>\n    <tr>\n      <th>2035</th>\n      <td>18.0</td>\n      <td>17618.0</td>\n      <td>0.0</td>\n    </tr>\n    <tr>\n      <th>2313</th>\n      <td>6.0</td>\n      <td>1467875.0</td>\n      <td>0.0</td>\n    </tr>\n    <tr>\n      <th>2531</th>\n      <td>97.0</td>\n      <td>4477.0</td>\n      <td>0.0</td>\n    </tr>\n    <tr>\n      <th>2596</th>\n      <td>145.0</td>\n      <td>939.0</td>\n      <td>0.0</td>\n    </tr>\n    <tr>\n      <th>2926</th>\n      <td>1.0</td>\n      <td>15359.0</td>\n      <td>0.0</td>\n    </tr>\n    <tr>\n      <th>2928</th>\n      <td>2.0</td>\n      <td>28800.0</td>\n      <td>0.0</td>\n    </tr>\n    <tr>\n      <th>3272</th>\n      <td>311.0</td>\n      <td>1061.0</td>\n      <td>0.0</td>\n    </tr>\n    <tr>\n      <th>3359</th>\n      <td>300.0</td>\n      <td>1820.0</td>\n      <td>0.0</td>\n    </tr>\n    <tr>\n      <th>3361</th>\n      <td>15.0</td>\n      <td>954.0</td>\n      <td>0.0</td>\n    </tr>\n    <tr>\n      <th>3751</th>\n      <td>5.0</td>\n      <td>2195.0</td>\n      <td>0.0</td>\n    </tr>\n    <tr>\n      <th>4431</th>\n      <td>2.0</td>\n      <td>5496.0</td>\n      <td>0.0</td>\n    </tr>\n    <tr>\n      <th>4588</th>\n      <td>8.0</td>\n      <td>4801.0</td>\n      <td>0.0</td>\n    </tr>\n    <tr>\n      <th>5034</th>\n      <td>1.0</td>\n      <td>12167.0</td>\n      <td>0.0</td>\n    </tr>\n    <tr>\n      <th>5077</th>\n      <td>13.0</td>\n      <td>29778.0</td>\n      <td>0.0</td>\n    </tr>\n    <tr>\n      <th>5268</th>\n      <td>88.0</td>\n      <td>809.0</td>\n      <td>0.0</td>\n    </tr>\n    <tr>\n      <th>5794</th>\n      <td>460.0</td>\n      <td>1230.0</td>\n      <td>0.0</td>\n    </tr>\n    <tr>\n      <th>5852</th>\n      <td>1.0</td>\n      <td>1427.0</td>\n      <td>0.0</td>\n    </tr>\n    <tr>\n      <th>5854</th>\n      <td>1.0</td>\n      <td>891.0</td>\n      <td>0.0</td>\n    </tr>\n    <tr>\n      <th>6501</th>\n      <td>13.0</td>\n      <td>1432.0</td>\n      <td>0.0</td>\n    </tr>\n    <tr>\n      <th>6548</th>\n      <td>47.0</td>\n      <td>16221.0</td>\n      <td>0.0</td>\n    </tr>\n    <tr>\n      <th>7076</th>\n      <td>15.0</td>\n      <td>954.0</td>\n      <td>0.0</td>\n    </tr>\n    <tr>\n      <th>7357</th>\n      <td>15.0</td>\n      <td>304228.0</td>\n      <td>0.0</td>\n    </tr>\n    <tr>\n      <th>7412</th>\n      <td>2.0</td>\n      <td>28800.0</td>\n      <td>0.0</td>\n    </tr>\n    <tr>\n      <th>7518</th>\n      <td>2.0</td>\n      <td>1867.0</td>\n      <td>0.0</td>\n    </tr>\n    <tr>\n      <th>7694</th>\n      <td>53.0</td>\n      <td>4176.0</td>\n      <td>0.0</td>\n    </tr>\n    <tr>\n      <th>9104</th>\n      <td>302.0</td>\n      <td>3728.0</td>\n      <td>0.0</td>\n    </tr>\n    <tr>\n      <th>9253</th>\n      <td>2.0</td>\n      <td>24151.0</td>\n      <td>0.0</td>\n    </tr>\n    <tr>\n      <th>10038</th>\n      <td>118.0</td>\n      <td>25006.0</td>\n      <td>0.0</td>\n    </tr>\n    <tr>\n      <th>10159</th>\n      <td>147.0</td>\n      <td>1249.0</td>\n      <td>0.0</td>\n    </tr>\n    <tr>\n      <th>10169</th>\n      <td>15.0</td>\n      <td>954.0</td>\n      <td>0.0</td>\n    </tr>\n    <tr>\n      <th>11082</th>\n      <td>1.0</td>\n      <td>15359.0</td>\n      <td>0.0</td>\n    </tr>\n    <tr>\n      <th>11296</th>\n      <td>0.0</td>\n      <td>961.0</td>\n      <td>0.0</td>\n    </tr>\n    <tr>\n      <th>13652</th>\n      <td>38.0</td>\n      <td>1212.0</td>\n      <td>0.0</td>\n    </tr>\n    <tr>\n      <th>14374</th>\n      <td>2.0</td>\n      <td>3521.0</td>\n      <td>0.0</td>\n    </tr>\n    <tr>\n      <th>14890</th>\n      <td>1.0</td>\n      <td>15359.0</td>\n      <td>0.0</td>\n    </tr>\n  </tbody>\n</table>\n</div>"
     },
     "execution_count": 10,
     "metadata": {},
     "output_type": "execute_result"
    }
   ],
   "source": [
    "susp_reviews = df[(df['phb_all'] < q25['phb_all']) & (df['all_reviews_cnt'] > q90['all_reviews_cnt'])]\n",
    "susp_reviews[['phb_all', 'all_reviews_cnt', 'bad_rep_tcb']]"
   ],
   "metadata": {
    "collapsed": false,
    "pycharm": {
     "name": "#%%\n"
    }
   }
  },
  {
   "cell_type": "code",
   "execution_count": 11,
   "outputs": [
    {
     "name": "stdout",
     "output_type": "stream",
     "text": [
      "0.00          0.0\n",
      "0.25        228.0\n",
      "0.50        662.0\n",
      "0.75       1549.0\n",
      "1.00    5693618.0\n",
      "Name: phb_all, dtype: float64\n"
     ]
    },
    {
     "data": {
      "text/plain": "               id                 date  phones_num  phb_fraud  phb_dirty  \\\n0  a782615660478a  2022-10-30 00:00:00           1        0.0        2.0   \n1    a7706752171a  2022-01-15 00:00:00          16        0.0        0.0   \n2  a745212602258a  2021-06-03 00:00:00           4        0.0        0.0   \n3    a2466264323a  2022-09-25 00:00:00           3        0.0        0.0   \n4    a7728551510a  2022-04-28 00:00:00         161        4.0        2.0   \n\n   phb_all_bad  phb_all  phb_bad_perc  found_phones  phb_fraud_dir  ...  \\\n0          2.0   1498.0          0.13           1.0            0.0  ...   \n1          0.0   2421.0          0.00          16.0            0.0  ...   \n2          0.0   1503.0          0.00           3.0            0.0  ...   \n3          0.0     77.0          0.00           2.0            0.0  ...   \n4          6.0  17842.0          0.03         145.0            0.0  ...   \n\n   reviews_cnt_ya  rating_yell  reviews_cnt_yell  rating_2gis  \\\n0            15.0     4.000000               0.0     0.000000   \n1            39.0     3.700000               1.0     0.142857   \n2             4.0     4.000000               0.0     0.000000   \n3             2.0     4.500000               0.0     4.800000   \n4          5772.0     4.244828             308.0     1.358362   \n\n   reviews_cnt_2gis  rating_avito  reviews_cnt_avito  all_reviews_cnt  \\\n0               0.0          -1.0               -1.0             14.0   \n1               2.0           4.8                5.0            161.0   \n2               0.0          -1.0               -1.0              3.0   \n3               5.0          -1.0               -1.0              6.0   \n4            2943.0          -1.0               -1.0          30360.0   \n\n   mean_rating  popularity  \n0     4.000000           3  \n1     3.198214           4  \n2     4.000000           3  \n3     4.650000           1  \n4     3.251063           4  \n\n[5 rows x 38 columns]",
      "text/html": "<div>\n<style scoped>\n    .dataframe tbody tr th:only-of-type {\n        vertical-align: middle;\n    }\n\n    .dataframe tbody tr th {\n        vertical-align: top;\n    }\n\n    .dataframe thead th {\n        text-align: right;\n    }\n</style>\n<table border=\"1\" class=\"dataframe\">\n  <thead>\n    <tr style=\"text-align: right;\">\n      <th></th>\n      <th>id</th>\n      <th>date</th>\n      <th>phones_num</th>\n      <th>phb_fraud</th>\n      <th>phb_dirty</th>\n      <th>phb_all_bad</th>\n      <th>phb_all</th>\n      <th>phb_bad_perc</th>\n      <th>found_phones</th>\n      <th>phb_fraud_dir</th>\n      <th>...</th>\n      <th>reviews_cnt_ya</th>\n      <th>rating_yell</th>\n      <th>reviews_cnt_yell</th>\n      <th>rating_2gis</th>\n      <th>reviews_cnt_2gis</th>\n      <th>rating_avito</th>\n      <th>reviews_cnt_avito</th>\n      <th>all_reviews_cnt</th>\n      <th>mean_rating</th>\n      <th>popularity</th>\n    </tr>\n  </thead>\n  <tbody>\n    <tr>\n      <th>0</th>\n      <td>a782615660478a</td>\n      <td>2022-10-30 00:00:00</td>\n      <td>1</td>\n      <td>0.0</td>\n      <td>2.0</td>\n      <td>2.0</td>\n      <td>1498.0</td>\n      <td>0.13</td>\n      <td>1.0</td>\n      <td>0.0</td>\n      <td>...</td>\n      <td>15.0</td>\n      <td>4.000000</td>\n      <td>0.0</td>\n      <td>0.000000</td>\n      <td>0.0</td>\n      <td>-1.0</td>\n      <td>-1.0</td>\n      <td>14.0</td>\n      <td>4.000000</td>\n      <td>3</td>\n    </tr>\n    <tr>\n      <th>1</th>\n      <td>a7706752171a</td>\n      <td>2022-01-15 00:00:00</td>\n      <td>16</td>\n      <td>0.0</td>\n      <td>0.0</td>\n      <td>0.0</td>\n      <td>2421.0</td>\n      <td>0.00</td>\n      <td>16.0</td>\n      <td>0.0</td>\n      <td>...</td>\n      <td>39.0</td>\n      <td>3.700000</td>\n      <td>1.0</td>\n      <td>0.142857</td>\n      <td>2.0</td>\n      <td>4.8</td>\n      <td>5.0</td>\n      <td>161.0</td>\n      <td>3.198214</td>\n      <td>4</td>\n    </tr>\n    <tr>\n      <th>2</th>\n      <td>a745212602258a</td>\n      <td>2021-06-03 00:00:00</td>\n      <td>4</td>\n      <td>0.0</td>\n      <td>0.0</td>\n      <td>0.0</td>\n      <td>1503.0</td>\n      <td>0.00</td>\n      <td>3.0</td>\n      <td>0.0</td>\n      <td>...</td>\n      <td>4.0</td>\n      <td>4.000000</td>\n      <td>0.0</td>\n      <td>0.000000</td>\n      <td>0.0</td>\n      <td>-1.0</td>\n      <td>-1.0</td>\n      <td>3.0</td>\n      <td>4.000000</td>\n      <td>3</td>\n    </tr>\n    <tr>\n      <th>3</th>\n      <td>a2466264323a</td>\n      <td>2022-09-25 00:00:00</td>\n      <td>3</td>\n      <td>0.0</td>\n      <td>0.0</td>\n      <td>0.0</td>\n      <td>77.0</td>\n      <td>0.00</td>\n      <td>2.0</td>\n      <td>0.0</td>\n      <td>...</td>\n      <td>2.0</td>\n      <td>4.500000</td>\n      <td>0.0</td>\n      <td>4.800000</td>\n      <td>5.0</td>\n      <td>-1.0</td>\n      <td>-1.0</td>\n      <td>6.0</td>\n      <td>4.650000</td>\n      <td>1</td>\n    </tr>\n    <tr>\n      <th>4</th>\n      <td>a7728551510a</td>\n      <td>2022-04-28 00:00:00</td>\n      <td>161</td>\n      <td>4.0</td>\n      <td>2.0</td>\n      <td>6.0</td>\n      <td>17842.0</td>\n      <td>0.03</td>\n      <td>145.0</td>\n      <td>0.0</td>\n      <td>...</td>\n      <td>5772.0</td>\n      <td>4.244828</td>\n      <td>308.0</td>\n      <td>1.358362</td>\n      <td>2943.0</td>\n      <td>-1.0</td>\n      <td>-1.0</td>\n      <td>30360.0</td>\n      <td>3.251063</td>\n      <td>4</td>\n    </tr>\n  </tbody>\n</table>\n<p>5 rows × 38 columns</p>\n</div>"
     },
     "execution_count": 11,
     "metadata": {},
     "output_type": "execute_result"
    }
   ],
   "source": [
    "q = df.phb_all.quantile([0, 0.25, 0.50, 0.75, 1])\n",
    "print(q)\n",
    "def get_size(phb_cnt):\n",
    "    for i, v in enumerate(q.values):\n",
    "        if phb_cnt <= v:\n",
    "            return i\n",
    "\n",
    "df['popularity'] = df['phb_all'].apply(lambda x: get_size(x))\n",
    "df.head()"
   ],
   "metadata": {
    "collapsed": false,
    "pycharm": {
     "name": "#%%\n"
    }
   }
  },
  {
   "cell_type": "code",
   "execution_count": 30,
   "outputs": [],
   "source": [
    "def score(df, column_name):  # [0; 10]\n",
    "    mn = df[df][column_name].min()\n",
    "    mx = df[column_name].max()\n",
    "    df[column_name + \"_score\"] = 10 * (1 - (df[column_name] - mn) / (mx - mn))"
   ],
   "metadata": {
    "collapsed": false,
    "pycharm": {
     "name": "#%%\n"
    }
   }
  },
  {
   "cell_type": "code",
   "execution_count": 31,
   "outputs": [],
   "source": [
    "columns_to_score = ['phb_bad_perc', 'phb_bad_perc_dir', 'claims_percent']"
   ],
   "metadata": {
    "collapsed": false,
    "pycharm": {
     "name": "#%%\n"
    }
   }
  },
  {
   "cell_type": "code",
   "execution_count": 32,
   "outputs": [],
   "source": [
    "for col in columns_to_score:\n",
    "    score(df, col)"
   ],
   "metadata": {
    "collapsed": false,
    "pycharm": {
     "name": "#%%\n"
    }
   }
  },
  {
   "cell_type": "code",
   "execution_count": 33,
   "outputs": [
    {
     "data": {
      "text/plain": "               id                 date  phones_num  phb_fraud  phb_dirty  \\\n0  a782615660478a  2022-10-30 00:00:00           1        0.0        2.0   \n1    a7706752171a  2022-01-15 00:00:00          16        0.0        0.0   \n2  a745212602258a  2021-06-03 00:00:00           4        0.0        0.0   \n3    a2466264323a  2022-09-25 00:00:00           3        0.0        0.0   \n4    a7728551510a  2022-04-28 00:00:00         161        4.0        2.0   \n\n   phb_all_bad  phb_all  phb_bad_perc  found_phones  phb_fraud_dir  ...  \\\n0          2.0   1498.0          0.13           1.0            0.0  ...   \n1          0.0   2421.0          0.00          16.0            0.0  ...   \n2          0.0   1503.0          0.00           3.0            0.0  ...   \n3          0.0     77.0          0.00           2.0            0.0  ...   \n4          6.0  17842.0          0.03         145.0            0.0  ...   \n\n   rating_2gis  reviews_cnt_2gis  rating_avito  reviews_cnt_avito  \\\n0     0.000000               0.0          -1.0               -1.0   \n1     0.142857               2.0           4.8                5.0   \n2     0.000000               0.0          -1.0               -1.0   \n3     4.800000               5.0          -1.0               -1.0   \n4     1.358362            2943.0          -1.0               -1.0   \n\n   all_reviews_cnt  mean_rating  popularity  phb_bad_perc_score  \\\n0             14.0     4.000000           3               9.974   \n1            161.0     3.198214           4              10.000   \n2              3.0     4.000000           3              10.000   \n3              6.0     4.650000           1              10.000   \n4          30360.0     3.251063           4               9.994   \n\n   phb_bad_perc_dir_score  claims_percent_score  \n0                   10.00                  10.0  \n1                   10.00                  10.0  \n2                   10.00                  10.0  \n3                    9.96                  10.0  \n4                   10.00                  10.0  \n\n[5 rows x 41 columns]",
      "text/html": "<div>\n<style scoped>\n    .dataframe tbody tr th:only-of-type {\n        vertical-align: middle;\n    }\n\n    .dataframe tbody tr th {\n        vertical-align: top;\n    }\n\n    .dataframe thead th {\n        text-align: right;\n    }\n</style>\n<table border=\"1\" class=\"dataframe\">\n  <thead>\n    <tr style=\"text-align: right;\">\n      <th></th>\n      <th>id</th>\n      <th>date</th>\n      <th>phones_num</th>\n      <th>phb_fraud</th>\n      <th>phb_dirty</th>\n      <th>phb_all_bad</th>\n      <th>phb_all</th>\n      <th>phb_bad_perc</th>\n      <th>found_phones</th>\n      <th>phb_fraud_dir</th>\n      <th>...</th>\n      <th>rating_2gis</th>\n      <th>reviews_cnt_2gis</th>\n      <th>rating_avito</th>\n      <th>reviews_cnt_avito</th>\n      <th>all_reviews_cnt</th>\n      <th>mean_rating</th>\n      <th>popularity</th>\n      <th>phb_bad_perc_score</th>\n      <th>phb_bad_perc_dir_score</th>\n      <th>claims_percent_score</th>\n    </tr>\n  </thead>\n  <tbody>\n    <tr>\n      <th>0</th>\n      <td>a782615660478a</td>\n      <td>2022-10-30 00:00:00</td>\n      <td>1</td>\n      <td>0.0</td>\n      <td>2.0</td>\n      <td>2.0</td>\n      <td>1498.0</td>\n      <td>0.13</td>\n      <td>1.0</td>\n      <td>0.0</td>\n      <td>...</td>\n      <td>0.000000</td>\n      <td>0.0</td>\n      <td>-1.0</td>\n      <td>-1.0</td>\n      <td>14.0</td>\n      <td>4.000000</td>\n      <td>3</td>\n      <td>9.974</td>\n      <td>10.00</td>\n      <td>10.0</td>\n    </tr>\n    <tr>\n      <th>1</th>\n      <td>a7706752171a</td>\n      <td>2022-01-15 00:00:00</td>\n      <td>16</td>\n      <td>0.0</td>\n      <td>0.0</td>\n      <td>0.0</td>\n      <td>2421.0</td>\n      <td>0.00</td>\n      <td>16.0</td>\n      <td>0.0</td>\n      <td>...</td>\n      <td>0.142857</td>\n      <td>2.0</td>\n      <td>4.8</td>\n      <td>5.0</td>\n      <td>161.0</td>\n      <td>3.198214</td>\n      <td>4</td>\n      <td>10.000</td>\n      <td>10.00</td>\n      <td>10.0</td>\n    </tr>\n    <tr>\n      <th>2</th>\n      <td>a745212602258a</td>\n      <td>2021-06-03 00:00:00</td>\n      <td>4</td>\n      <td>0.0</td>\n      <td>0.0</td>\n      <td>0.0</td>\n      <td>1503.0</td>\n      <td>0.00</td>\n      <td>3.0</td>\n      <td>0.0</td>\n      <td>...</td>\n      <td>0.000000</td>\n      <td>0.0</td>\n      <td>-1.0</td>\n      <td>-1.0</td>\n      <td>3.0</td>\n      <td>4.000000</td>\n      <td>3</td>\n      <td>10.000</td>\n      <td>10.00</td>\n      <td>10.0</td>\n    </tr>\n    <tr>\n      <th>3</th>\n      <td>a2466264323a</td>\n      <td>2022-09-25 00:00:00</td>\n      <td>3</td>\n      <td>0.0</td>\n      <td>0.0</td>\n      <td>0.0</td>\n      <td>77.0</td>\n      <td>0.00</td>\n      <td>2.0</td>\n      <td>0.0</td>\n      <td>...</td>\n      <td>4.800000</td>\n      <td>5.0</td>\n      <td>-1.0</td>\n      <td>-1.0</td>\n      <td>6.0</td>\n      <td>4.650000</td>\n      <td>1</td>\n      <td>10.000</td>\n      <td>9.96</td>\n      <td>10.0</td>\n    </tr>\n    <tr>\n      <th>4</th>\n      <td>a7728551510a</td>\n      <td>2022-04-28 00:00:00</td>\n      <td>161</td>\n      <td>4.0</td>\n      <td>2.0</td>\n      <td>6.0</td>\n      <td>17842.0</td>\n      <td>0.03</td>\n      <td>145.0</td>\n      <td>0.0</td>\n      <td>...</td>\n      <td>1.358362</td>\n      <td>2943.0</td>\n      <td>-1.0</td>\n      <td>-1.0</td>\n      <td>30360.0</td>\n      <td>3.251063</td>\n      <td>4</td>\n      <td>9.994</td>\n      <td>10.00</td>\n      <td>10.0</td>\n    </tr>\n  </tbody>\n</table>\n<p>5 rows × 41 columns</p>\n</div>"
     },
     "execution_count": 33,
     "metadata": {},
     "output_type": "execute_result"
    }
   ],
   "source": [
    "df.head()"
   ],
   "metadata": {
    "collapsed": false,
    "pycharm": {
     "name": "#%%\n"
    }
   }
  },
  {
   "cell_type": "code",
   "execution_count": 34,
   "outputs": [
    {
     "data": {
      "text/plain": "                   id                 date  phones_num  phb_fraud  phb_dirty  \\\n0      a782615660478a  2022-10-30 00:00:00           1        0.0        2.0   \n1        a7706752171a  2022-01-15 00:00:00          16        0.0        0.0   \n2      a745212602258a  2021-06-03 00:00:00           4        0.0        0.0   \n3        a2466264323a  2022-09-25 00:00:00           3        0.0        0.0   \n4        a7728551510a  2022-04-28 00:00:00         161        4.0        2.0   \n...               ...                  ...         ...        ...        ...   \n14799  a590300406972a  2022-05-27 00:00:00           5        0.0        0.0   \n14802    a4825125008a  2022-04-28 00:00:00          34        0.0        0.0   \n14887    a7743857750a  2022-07-07 00:00:00           9        0.0        0.0   \n14888    a6606003385a  2021-11-16 00:00:00         165        4.0        1.0   \n14890    a7710045520a  2017-03-03 13:35:35         753        0.0        0.0   \n\n       phb_all_bad  phb_all  phb_bad_perc  found_phones  phb_fraud_dir  ...  \\\n0              2.0   1498.0          0.13           1.0            0.0  ...   \n1              0.0   2421.0          0.00          16.0            0.0  ...   \n2              0.0   1503.0          0.00           3.0            0.0  ...   \n3              0.0     77.0          0.00           2.0            0.0  ...   \n4              6.0  17842.0          0.03         145.0            0.0  ...   \n...            ...      ...           ...           ...            ...  ...   \n14799          0.0    979.0          0.00           5.0            0.0  ...   \n14802          0.0   1590.0          0.00          31.0            0.0  ...   \n14887          0.0   3354.0          0.00           5.0            0.0  ...   \n14888          5.0  20287.0          0.02         155.0            0.0  ...   \n14890          0.0      1.0          0.00           1.0            0.0  ...   \n\n       rating_2gis  reviews_cnt_2gis  rating_avito  reviews_cnt_avito  \\\n0         0.000000               0.0          -1.0               -1.0   \n1         0.142857               2.0           4.8                5.0   \n2         0.000000               0.0          -1.0               -1.0   \n3         4.800000               5.0          -1.0               -1.0   \n4         1.358362            2943.0          -1.0               -1.0   \n...            ...               ...           ...                ...   \n14799     0.000000               0.0          -1.0               -1.0   \n14802     0.090909               3.0          -1.0               -1.0   \n14887     0.000000               0.0          -1.0               -1.0   \n14888     0.000000               0.0          -1.0               -1.0   \n14890     0.367384             607.0          -1.0               -1.0   \n\n       all_reviews_cnt  mean_rating  popularity  phb_bad_perc_score  \\\n0                 14.0     4.000000           3               9.974   \n1                161.0     3.198214           4              10.000   \n2                  3.0     4.000000           3              10.000   \n3                  6.0     4.650000           1              10.000   \n4              30360.0     3.251063           4               9.994   \n...                ...          ...         ...                 ...   \n14799              9.0     4.500000           3              10.000   \n14802           4964.0     2.486970           4              10.000   \n14887              5.0     4.000000           4              10.000   \n14888            730.0     4.351429           4               9.996   \n14890          15359.0     2.875243           1              10.000   \n\n       phb_bad_perc_dir_score  claims_percent_score  \n0                       10.00                  10.0  \n1                       10.00                  10.0  \n2                       10.00                  10.0  \n3                        9.96                  10.0  \n4                       10.00                  10.0  \n...                       ...                   ...  \n14799                   10.00                  10.0  \n14802                   10.00                  10.0  \n14887                   10.00                  10.0  \n14888                   10.00                  10.0  \n14890                   10.00                  10.0  \n\n[3982 rows x 41 columns]",
      "text/html": "<div>\n<style scoped>\n    .dataframe tbody tr th:only-of-type {\n        vertical-align: middle;\n    }\n\n    .dataframe tbody tr th {\n        vertical-align: top;\n    }\n\n    .dataframe thead th {\n        text-align: right;\n    }\n</style>\n<table border=\"1\" class=\"dataframe\">\n  <thead>\n    <tr style=\"text-align: right;\">\n      <th></th>\n      <th>id</th>\n      <th>date</th>\n      <th>phones_num</th>\n      <th>phb_fraud</th>\n      <th>phb_dirty</th>\n      <th>phb_all_bad</th>\n      <th>phb_all</th>\n      <th>phb_bad_perc</th>\n      <th>found_phones</th>\n      <th>phb_fraud_dir</th>\n      <th>...</th>\n      <th>rating_2gis</th>\n      <th>reviews_cnt_2gis</th>\n      <th>rating_avito</th>\n      <th>reviews_cnt_avito</th>\n      <th>all_reviews_cnt</th>\n      <th>mean_rating</th>\n      <th>popularity</th>\n      <th>phb_bad_perc_score</th>\n      <th>phb_bad_perc_dir_score</th>\n      <th>claims_percent_score</th>\n    </tr>\n  </thead>\n  <tbody>\n    <tr>\n      <th>0</th>\n      <td>a782615660478a</td>\n      <td>2022-10-30 00:00:00</td>\n      <td>1</td>\n      <td>0.0</td>\n      <td>2.0</td>\n      <td>2.0</td>\n      <td>1498.0</td>\n      <td>0.13</td>\n      <td>1.0</td>\n      <td>0.0</td>\n      <td>...</td>\n      <td>0.000000</td>\n      <td>0.0</td>\n      <td>-1.0</td>\n      <td>-1.0</td>\n      <td>14.0</td>\n      <td>4.000000</td>\n      <td>3</td>\n      <td>9.974</td>\n      <td>10.00</td>\n      <td>10.0</td>\n    </tr>\n    <tr>\n      <th>1</th>\n      <td>a7706752171a</td>\n      <td>2022-01-15 00:00:00</td>\n      <td>16</td>\n      <td>0.0</td>\n      <td>0.0</td>\n      <td>0.0</td>\n      <td>2421.0</td>\n      <td>0.00</td>\n      <td>16.0</td>\n      <td>0.0</td>\n      <td>...</td>\n      <td>0.142857</td>\n      <td>2.0</td>\n      <td>4.8</td>\n      <td>5.0</td>\n      <td>161.0</td>\n      <td>3.198214</td>\n      <td>4</td>\n      <td>10.000</td>\n      <td>10.00</td>\n      <td>10.0</td>\n    </tr>\n    <tr>\n      <th>2</th>\n      <td>a745212602258a</td>\n      <td>2021-06-03 00:00:00</td>\n      <td>4</td>\n      <td>0.0</td>\n      <td>0.0</td>\n      <td>0.0</td>\n      <td>1503.0</td>\n      <td>0.00</td>\n      <td>3.0</td>\n      <td>0.0</td>\n      <td>...</td>\n      <td>0.000000</td>\n      <td>0.0</td>\n      <td>-1.0</td>\n      <td>-1.0</td>\n      <td>3.0</td>\n      <td>4.000000</td>\n      <td>3</td>\n      <td>10.000</td>\n      <td>10.00</td>\n      <td>10.0</td>\n    </tr>\n    <tr>\n      <th>3</th>\n      <td>a2466264323a</td>\n      <td>2022-09-25 00:00:00</td>\n      <td>3</td>\n      <td>0.0</td>\n      <td>0.0</td>\n      <td>0.0</td>\n      <td>77.0</td>\n      <td>0.00</td>\n      <td>2.0</td>\n      <td>0.0</td>\n      <td>...</td>\n      <td>4.800000</td>\n      <td>5.0</td>\n      <td>-1.0</td>\n      <td>-1.0</td>\n      <td>6.0</td>\n      <td>4.650000</td>\n      <td>1</td>\n      <td>10.000</td>\n      <td>9.96</td>\n      <td>10.0</td>\n    </tr>\n    <tr>\n      <th>4</th>\n      <td>a7728551510a</td>\n      <td>2022-04-28 00:00:00</td>\n      <td>161</td>\n      <td>4.0</td>\n      <td>2.0</td>\n      <td>6.0</td>\n      <td>17842.0</td>\n      <td>0.03</td>\n      <td>145.0</td>\n      <td>0.0</td>\n      <td>...</td>\n      <td>1.358362</td>\n      <td>2943.0</td>\n      <td>-1.0</td>\n      <td>-1.0</td>\n      <td>30360.0</td>\n      <td>3.251063</td>\n      <td>4</td>\n      <td>9.994</td>\n      <td>10.00</td>\n      <td>10.0</td>\n    </tr>\n    <tr>\n      <th>...</th>\n      <td>...</td>\n      <td>...</td>\n      <td>...</td>\n      <td>...</td>\n      <td>...</td>\n      <td>...</td>\n      <td>...</td>\n      <td>...</td>\n      <td>...</td>\n      <td>...</td>\n      <td>...</td>\n      <td>...</td>\n      <td>...</td>\n      <td>...</td>\n      <td>...</td>\n      <td>...</td>\n      <td>...</td>\n      <td>...</td>\n      <td>...</td>\n      <td>...</td>\n      <td>...</td>\n    </tr>\n    <tr>\n      <th>14799</th>\n      <td>a590300406972a</td>\n      <td>2022-05-27 00:00:00</td>\n      <td>5</td>\n      <td>0.0</td>\n      <td>0.0</td>\n      <td>0.0</td>\n      <td>979.0</td>\n      <td>0.00</td>\n      <td>5.0</td>\n      <td>0.0</td>\n      <td>...</td>\n      <td>0.000000</td>\n      <td>0.0</td>\n      <td>-1.0</td>\n      <td>-1.0</td>\n      <td>9.0</td>\n      <td>4.500000</td>\n      <td>3</td>\n      <td>10.000</td>\n      <td>10.00</td>\n      <td>10.0</td>\n    </tr>\n    <tr>\n      <th>14802</th>\n      <td>a4825125008a</td>\n      <td>2022-04-28 00:00:00</td>\n      <td>34</td>\n      <td>0.0</td>\n      <td>0.0</td>\n      <td>0.0</td>\n      <td>1590.0</td>\n      <td>0.00</td>\n      <td>31.0</td>\n      <td>0.0</td>\n      <td>...</td>\n      <td>0.090909</td>\n      <td>3.0</td>\n      <td>-1.0</td>\n      <td>-1.0</td>\n      <td>4964.0</td>\n      <td>2.486970</td>\n      <td>4</td>\n      <td>10.000</td>\n      <td>10.00</td>\n      <td>10.0</td>\n    </tr>\n    <tr>\n      <th>14887</th>\n      <td>a7743857750a</td>\n      <td>2022-07-07 00:00:00</td>\n      <td>9</td>\n      <td>0.0</td>\n      <td>0.0</td>\n      <td>0.0</td>\n      <td>3354.0</td>\n      <td>0.00</td>\n      <td>5.0</td>\n      <td>0.0</td>\n      <td>...</td>\n      <td>0.000000</td>\n      <td>0.0</td>\n      <td>-1.0</td>\n      <td>-1.0</td>\n      <td>5.0</td>\n      <td>4.000000</td>\n      <td>4</td>\n      <td>10.000</td>\n      <td>10.00</td>\n      <td>10.0</td>\n    </tr>\n    <tr>\n      <th>14888</th>\n      <td>a6606003385a</td>\n      <td>2021-11-16 00:00:00</td>\n      <td>165</td>\n      <td>4.0</td>\n      <td>1.0</td>\n      <td>5.0</td>\n      <td>20287.0</td>\n      <td>0.02</td>\n      <td>155.0</td>\n      <td>0.0</td>\n      <td>...</td>\n      <td>0.000000</td>\n      <td>0.0</td>\n      <td>-1.0</td>\n      <td>-1.0</td>\n      <td>730.0</td>\n      <td>4.351429</td>\n      <td>4</td>\n      <td>9.996</td>\n      <td>10.00</td>\n      <td>10.0</td>\n    </tr>\n    <tr>\n      <th>14890</th>\n      <td>a7710045520a</td>\n      <td>2017-03-03 13:35:35</td>\n      <td>753</td>\n      <td>0.0</td>\n      <td>0.0</td>\n      <td>0.0</td>\n      <td>1.0</td>\n      <td>0.00</td>\n      <td>1.0</td>\n      <td>0.0</td>\n      <td>...</td>\n      <td>0.367384</td>\n      <td>607.0</td>\n      <td>-1.0</td>\n      <td>-1.0</td>\n      <td>15359.0</td>\n      <td>2.875243</td>\n      <td>1</td>\n      <td>10.000</td>\n      <td>10.00</td>\n      <td>10.0</td>\n    </tr>\n  </tbody>\n</table>\n<p>3982 rows × 41 columns</p>\n</div>"
     },
     "execution_count": 34,
     "metadata": {},
     "output_type": "execute_result"
    }
   ],
   "source": [
    "df[df['all_reviews_cnt'] > 0]"
   ],
   "metadata": {
    "collapsed": false,
    "pycharm": {
     "name": "#%%\n"
    }
   }
  },
  {
   "cell_type": "code",
   "execution_count": null,
   "outputs": [],
   "source": [],
   "metadata": {
    "collapsed": false,
    "pycharm": {
     "name": "#%%\n"
    }
   }
  }
 ],
 "metadata": {
  "kernelspec": {
   "display_name": "Python 3",
   "language": "python",
   "name": "python3"
  },
  "language_info": {
   "codemirror_mode": {
    "name": "ipython",
    "version": 2
   },
   "file_extension": ".py",
   "mimetype": "text/x-python",
   "name": "python",
   "nbconvert_exporter": "python",
   "pygments_lexer": "ipython2",
   "version": "2.7.6"
  }
 },
 "nbformat": 4,
 "nbformat_minor": 0
}