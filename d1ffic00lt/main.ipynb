{
 "cells": [
  {
   "cell_type": "code",
   "execution_count": null,
   "outputs": [],
   "source": [
    "import pandas as pd\n",
    "import matplotlib.pyplot as plt\n",
    "import seaborn as sns\n",
    "sns.set()"
   ],
   "metadata": {
    "collapsed": false,
    "pycharm": {
     "name": "#%%\n"
    }
   }
  },
  {
   "cell_type": "code",
   "execution_count": null,
   "outputs": [],
   "source": [],
   "metadata": {
    "collapsed": false,
    "pycharm": {
     "name": "#%%\n"
    }
   }
  },
  {
   "cell_type": "code",
   "execution_count": null,
   "outputs": [],
   "source": [
    "per = lambda x: x / 15000 * 100"
   ],
   "metadata": {
    "collapsed": false,
    "pycharm": {
     "name": "#%%\n"
    }
   }
  },
  {
   "cell_type": "markdown",
   "source": [
    "# Обработка данных"
   ],
   "metadata": {
    "collapsed": false,
    "pycharm": {
     "name": "#%% md\n"
    }
   }
  },
  {
   "cell_type": "code",
   "execution_count": null,
   "outputs": [],
   "source": [
    "data = pd.read_csv(\"tinkoff_legal_entities_new.csv\")"
   ],
   "metadata": {
    "collapsed": false,
    "pycharm": {
     "name": "#%%\n"
    }
   }
  },
  {
   "cell_type": "code",
   "execution_count": null,
   "outputs": [],
   "source": [
    "data.sample(5)"
   ],
   "metadata": {
    "collapsed": false,
    "pycharm": {
     "name": "#%%\n"
    }
   }
  },
  {
   "cell_type": "code",
   "execution_count": null,
   "outputs": [],
   "source": [
    "data.shape"
   ],
   "metadata": {
    "collapsed": false,
    "pycharm": {
     "name": "#%%\n"
    }
   }
  },
  {
   "cell_type": "markdown",
   "source": [
    "## работа с NaN"
   ],
   "metadata": {
    "collapsed": false,
    "pycharm": {
     "name": "#%% md\n"
    }
   }
  },
  {
   "cell_type": "code",
   "execution_count": null,
   "outputs": [],
   "source": [
    "data.isna().sum() / data.shape[0] * 100"
   ],
   "metadata": {
    "collapsed": false,
    "pycharm": {
     "name": "#%%\n"
    }
   }
  },
  {
   "cell_type": "code",
   "execution_count": null,
   "outputs": [],
   "source": [
    "plt.figure(figsize=(20, 20))\n",
    "sns.heatmap(data.corr())"
   ],
   "metadata": {
    "collapsed": false,
    "pycharm": {
     "name": "#%%\n"
    }
   }
  },
  {
   "cell_type": "code",
   "execution_count": null,
   "outputs": [],
   "source": [
    "data.columns"
   ],
   "metadata": {
    "collapsed": false,
    "pycharm": {
     "name": "#%%\n"
    }
   }
  },
  {
   "cell_type": "code",
   "execution_count": null,
   "outputs": [],
   "source": [
    "data.phb_bad_perc_dir.isna().sum()"
   ],
   "metadata": {
    "collapsed": false,
    "pycharm": {
     "name": "#%%\n"
    }
   }
  },
  {
   "cell_type": "code",
   "execution_count": null,
   "outputs": [],
   "source": [
    "data.phb_all_dir.isna().sum()"
   ],
   "metadata": {
    "collapsed": false,
    "pycharm": {
     "name": "#%%\n"
    }
   }
  },
  {
   "cell_type": "code",
   "execution_count": null,
   "outputs": [],
   "source": [
    "data.phones_num.isna().sum()"
   ],
   "metadata": {
    "collapsed": false,
    "pycharm": {
     "name": "#%%\n"
    }
   }
  },
  {
   "cell_type": "code",
   "execution_count": null,
   "outputs": [],
   "source": [
    "data.claims_percent.value_counts()"
   ],
   "metadata": {
    "collapsed": false,
    "pycharm": {
     "name": "#%%\n"
    }
   }
  },
  {
   "cell_type": "code",
   "execution_count": null,
   "outputs": [],
   "source": [
    "rating_columns = [\n",
    "    \"rating_ya\",\n",
    "    \"rating_yell\",\n",
    "    \"rating_avito\",\n",
    "    \"rating_2gis\",\n",
    "    \"ratings_cnt_ya\"\n",
    "]\n",
    "\n",
    "reviews_count_columns = [\n",
    "    \"reviews_cnt_ya\",\n",
    "    \"reviews_cnt_yell\",\n",
    "    \"reviews_cnt_2gis\",\n",
    "    \"reviews_cnt_avito\"\n",
    "]\n",
    "\n",
    "phones = [\n",
    "    \"phb_bad_perc_dir\",\n",
    "    \"phb_all_dir\", # !\n",
    "    \"phb_all_bad_dir\", # !\n",
    "    \"phb_dirty_dir\",\n",
    "    \"phb_fraud_dir\",\n",
    "    \"phb_bad_perc\",\n",
    "    \"found_phones_dir\",\n",
    "    \"phb_all\",\n",
    "    \"phb_all_bad\",\n",
    "    \"phb_dirty\",\n",
    "    \"phb_fraud\",\n",
    "    \"found_phones\",\n",
    "    \"phones_num\"\n",
    "\n",
    "]\n",
    "\n",
    "bank_and_police = [\n",
    "    \"total_defendant_case_amt\",\n",
    "    \"defendant_case_perc\",\n",
    "    \"total_defendant_case_cnt\",\n",
    "    \"total_case_cnt\",\n",
    "    \"mvd_request_num\",\n",
    "    \"complaints_num_dir\",\n",
    "    \"complaints_num\",\n",
    "    \"claims_percent\",\n",
    "    \"appl_num\",\n",
    "    \"bad_rep_tcb\"\n",
    "]\n",
    "\n",
    "data_without_description = [\n",
    "    \"claims_num\"\n",
    "]"
   ],
   "metadata": {
    "collapsed": false,
    "pycharm": {
     "name": "#%%\n"
    }
   }
  },
  {
   "cell_type": "code",
   "execution_count": null,
   "outputs": [],
   "source": [
    "data[rating_columns] = data[rating_columns].fillna(-1)"
   ],
   "metadata": {
    "collapsed": false,
    "pycharm": {
     "name": "#%%\n"
    }
   }
  },
  {
   "cell_type": "code",
   "execution_count": null,
   "outputs": [],
   "source": [
    "data[reviews_count_columns] = data[reviews_count_columns].fillna(-1)"
   ],
   "metadata": {
    "collapsed": false,
    "pycharm": {
     "name": "#%%\n"
    }
   }
  },
  {
   "cell_type": "code",
   "execution_count": null,
   "outputs": [],
   "source": [
    "data[phones] = data[phones].fillna(0)"
   ],
   "metadata": {
    "collapsed": false,
    "pycharm": {
     "name": "#%%\n"
    }
   }
  },
  {
   "cell_type": "code",
   "execution_count": null,
   "outputs": [],
   "source": [
    "data[bank_and_police] = data[bank_and_police].fillna(0)"
   ],
   "metadata": {
    "collapsed": false,
    "pycharm": {
     "name": "#%%\n"
    }
   }
  },
  {
   "cell_type": "code",
   "execution_count": null,
   "outputs": [],
   "source": [
    "data.isna().sum()"
   ],
   "metadata": {
    "collapsed": false,
    "pycharm": {
     "name": "#%%\n"
    }
   }
  },
  {
   "cell_type": "code",
   "execution_count": null,
   "outputs": [],
   "source": [
    "data[data_without_description] = data[data_without_description].fillna(0)"
   ],
   "metadata": {
    "collapsed": false,
    "pycharm": {
     "name": "#%%\n"
    }
   }
  },
  {
   "cell_type": "code",
   "execution_count": null,
   "outputs": [],
   "source": [
    "data.isna().sum()"
   ],
   "metadata": {
    "collapsed": false,
    "pycharm": {
     "name": "#%%\n"
    }
   }
  },
  {
   "cell_type": "code",
   "execution_count": null,
   "outputs": [],
   "source": [
    "data.to_csv(\"clean_data.csv\", index=False)"
   ],
   "metadata": {
    "collapsed": false,
    "pycharm": {
     "name": "#%%\n"
    }
   }
  },
  {
   "cell_type": "code",
   "execution_count": null,
   "outputs": [],
   "source": [
    "plt.figure(figsize=(20, 20))\n",
    "sns.heatmap(data.corr())\n",
    "plt.savefig(\"corr.png\")"
   ],
   "metadata": {
    "collapsed": false,
    "pycharm": {
     "name": "#%%\n"
    }
   }
  },
  {
   "cell_type": "code",
   "execution_count": null,
   "outputs": [],
   "source": [
    "data.info()"
   ],
   "metadata": {
    "collapsed": false,
    "pycharm": {
     "name": "#%%\n"
    }
   }
  },
  {
   "cell_type": "code",
   "execution_count": null,
   "outputs": [],
   "source": [
    "data.date = pd.to_datetime(data.date)"
   ],
   "metadata": {
    "collapsed": false,
    "pycharm": {
     "name": "#%%\n"
    }
   }
  },
  {
   "cell_type": "code",
   "execution_count": null,
   "outputs": [],
   "source": [
    "to_int_columns = [\n",
    "    \"appl_num\",\n",
    "    \"bad_rep_tcb\",\n",
    "    \"claims_num\",\n",
    "    \"complaints_num\",\n",
    "    \"complaints_num_dir\",\n",
    "    \"found_phones\",\n",
    "    \"found_phones_dir\",\n",
    "    \"mvd_request_num\",\n",
    "    \"phb_all\",\n",
    "    \"phb_all_bad\",\n",
    "    \"phb_all_bad_dir\",\n",
    "    \"phb_all_dir\",\n",
    "    \"phb_dirty\",\n",
    "    \"phb_dirty_dir\",\n",
    "    \"phb_fraud\",\n",
    "    \"phb_fraud_dir\",\n",
    "    \"phones_num\",\n",
    "    \"ratings_cnt_ya\",\n",
    "    \"reviews_cnt_2gis\",\n",
    "    \"reviews_cnt_avito\",\n",
    "    \"reviews_cnt_ya\",\n",
    "    \"reviews_cnt_yell\",\n",
    "    \"total_case_cnt\",\n",
    "    \"total_defendant_case_amt\",\n",
    "    \"total_defendant_case_cnt\"\n",
    "]"
   ],
   "metadata": {
    "collapsed": false,
    "pycharm": {
     "name": "#%%\n"
    }
   }
  },
  {
   "cell_type": "code",
   "execution_count": null,
   "outputs": [],
   "source": [
    "data.isna().sum()"
   ],
   "metadata": {
    "collapsed": false,
    "pycharm": {
     "name": "#%%\n"
    }
   }
  },
  {
   "cell_type": "code",
   "execution_count": null,
   "outputs": [],
   "source": [
    "data[to_int_columns] = data[to_int_columns].astype(int)"
   ],
   "metadata": {
    "collapsed": false,
    "pycharm": {
     "name": "#%%\n"
    }
   }
  },
  {
   "cell_type": "code",
   "execution_count": null,
   "outputs": [],
   "source": [
    "data.id.nunique()"
   ],
   "metadata": {
    "collapsed": false,
    "pycharm": {
     "name": "#%%\n"
    }
   }
  },
  {
   "cell_type": "code",
   "execution_count": null,
   "outputs": [],
   "source": [
    "data.duplicated().sum()"
   ],
   "metadata": {
    "collapsed": false,
    "pycharm": {
     "name": "#%%\n"
    }
   }
  },
  {
   "cell_type": "code",
   "execution_count": null,
   "outputs": [],
   "source": [
    "plt.figure(figsize=(20, 15))\n",
    "plt.hist(data.date)\n",
    "plt.show()"
   ],
   "metadata": {
    "collapsed": false,
    "pycharm": {
     "name": "#%%\n"
    }
   }
  },
  {
   "cell_type": "code",
   "execution_count": null,
   "outputs": [],
   "source": [
    "rating_columns = [\n",
    "    \"rating_ya\",\n",
    "    \"rating_yell\",\n",
    "    \"rating_avito\",\n",
    "    \"rating_2gis\",\n",
    "    \"ratings_cnt_ya\"\n",
    "]"
   ],
   "metadata": {
    "collapsed": false,
    "pycharm": {
     "name": "#%%\n"
    }
   }
  },
  {
   "cell_type": "code",
   "execution_count": null,
   "outputs": [],
   "source": [
    "data.loc[\n",
    "    (data.rating_ya != -1) |\n",
    "    (data.rating_yell != -1) |\n",
    "    (data.rating_avito != -1) |\n",
    "    (data.rating_2gis != -1) |\n",
    "    (data.ratings_cnt_ya != -1)\n",
    "].shape"
   ],
   "metadata": {
    "collapsed": false,
    "pycharm": {
     "name": "#%%\n"
    }
   }
  },
  {
   "cell_type": "code",
   "execution_count": null,
   "outputs": [],
   "source": [
    "per(7713)"
   ],
   "metadata": {
    "collapsed": false,
    "pycharm": {
     "name": "#%%\n"
    }
   }
  },
  {
   "cell_type": "code",
   "execution_count": null,
   "outputs": [],
   "source": [
    "data.loc[\n",
    "    (data.rating_ya != -1) &\n",
    "    (data.rating_yell != -1) &\n",
    "    (data.rating_avito != -1) &\n",
    "    (data.rating_2gis != -1) &\n",
    "    (data.ratings_cnt_ya != -1)\n",
    "].shape"
   ],
   "metadata": {
    "collapsed": false,
    "pycharm": {
     "name": "#%%\n"
    }
   }
  },
  {
   "cell_type": "code",
   "execution_count": null,
   "outputs": [],
   "source": [
    "per(135)"
   ],
   "metadata": {
    "collapsed": false,
    "pycharm": {
     "name": "#%%\n"
    }
   }
  },
  {
   "cell_type": "code",
   "execution_count": null,
   "outputs": [],
   "source": [
    "data.loc[\n",
    "    (data.rating_ya != -1) &\n",
    "    (data.rating_yell != -1) &\n",
    "    (data.rating_avito != -1) &\n",
    "    (data.rating_2gis != -1) &\n",
    "    (data.ratings_cnt_ya != -1)\n",
    "].phones_num.mean()"
   ],
   "metadata": {
    "collapsed": false,
    "pycharm": {
     "name": "#%%\n"
    }
   }
  },
  {
   "cell_type": "code",
   "execution_count": null,
   "outputs": [],
   "source": [
    "rating_columns"
   ],
   "metadata": {
    "collapsed": false,
    "pycharm": {
     "name": "#%%\n"
    }
   }
  },
  {
   "cell_type": "code",
   "execution_count": null,
   "outputs": [],
   "source": [
    "data.loc[data.rating_yell != -1].rating_yell.mean()"
   ],
   "metadata": {
    "collapsed": false,
    "pycharm": {
     "name": "#%%\n"
    }
   }
  },
  {
   "cell_type": "code",
   "execution_count": null,
   "outputs": [],
   "source": [
    "fig, ax = plt.subplots(2, 2, figsize=(15, 10))\n",
    "ax = ax.flatten()\n",
    "k = 0\n",
    "for i in rating_columns[:-1]:\n",
    "    # ax[k].set_title(i)\n",
    "    ax[k].set_xlabel(i)\n",
    "    data.loc[data[i] != -1][i].plot(kind=\"hist\", ax=ax[k])\n",
    "    k += 1"
   ],
   "metadata": {
    "collapsed": false,
    "pycharm": {
     "name": "#%%\n"
    }
   }
  },
  {
   "cell_type": "code",
   "execution_count": null,
   "outputs": [],
   "source": [
    "data.loc[data.rating_2gis != -1].rating_2gis.mean()"
   ],
   "metadata": {
    "collapsed": false,
    "pycharm": {
     "name": "#%%\n"
    }
   }
  },
  {
   "cell_type": "code",
   "execution_count": null,
   "outputs": [],
   "source": [
    "data.loc[data.rating_2gis != -1].rating_2gis.min()"
   ],
   "metadata": {
    "collapsed": false,
    "pycharm": {
     "name": "#%%\n"
    }
   }
  },
  {
   "cell_type": "code",
   "execution_count": null,
   "outputs": [],
   "source": [
    "data.loc[data.rating_ya != -1].rating_ya.mean()"
   ],
   "metadata": {
    "collapsed": false,
    "pycharm": {
     "name": "#%%\n"
    }
   }
  },
  {
   "cell_type": "code",
   "execution_count": null,
   "outputs": [],
   "source": [
    "data.loc[data.rating_avito != -1].rating_avito.mean()"
   ],
   "metadata": {
    "collapsed": false,
    "pycharm": {
     "name": "#%%\n"
    }
   }
  },
  {
   "cell_type": "code",
   "execution_count": null,
   "outputs": [],
   "source": [
    "fig, ax = plt.subplots(2, 2, figsize=(15, 10))\n",
    "ax = ax.flatten()\n",
    "k = 0\n",
    "for i in rating_columns[:-1]:\n",
    "    # ax[k].set_title(i)\n",
    "    data_rating = data.copy()\n",
    "    data_rating[i] = data_rating[i].apply(lambda x: round(x * 2) / 2)\n",
    "    sns.barplot(\n",
    "        ax=ax[k],\n",
    "        x=data_rating.groupby(i).mean().index,\n",
    "        y=data_rating.groupby(i).mean().appl_num\n",
    "    )\n",
    "    k += 1"
   ],
   "metadata": {
    "collapsed": false,
    "pycharm": {
     "name": "#%%\n"
    }
   }
  },
  {
   "cell_type": "code",
   "execution_count": null,
   "outputs": [],
   "source": [
    "data.loc[\n",
    "    (data.rating_ya == -1) |\n",
    "    (data.rating_yell == -1) |\n",
    "    (data.rating_avito == -1) |\n",
    "    (data.rating_2gis == -1) |\n",
    "    (data.ratings_cnt_ya == -1)\n",
    "].appl_num.mean()"
   ],
   "metadata": {
    "collapsed": false,
    "pycharm": {
     "name": "#%%\n"
    }
   }
  },
  {
   "cell_type": "code",
   "execution_count": null,
   "outputs": [],
   "source": [
    "fig = plt.figure(1, figsize=(8, 14), frameon=False, dpi=100)\n",
    "sns.palplot(data)\n",
    "plt.savefig(\"pair.jpg\")"
   ],
   "metadata": {
    "collapsed": false,
    "pycharm": {
     "name": "#%%\n"
    }
   }
  }
 ],
 "metadata": {
  "kernelspec": {
   "display_name": "Python 3",
   "language": "python",
   "name": "python3"
  },
  "language_info": {
   "codemirror_mode": {
    "name": "ipython",
    "version": 2
   },
   "file_extension": ".py",
   "mimetype": "text/x-python",
   "name": "python",
   "nbconvert_exporter": "python",
   "pygments_lexer": "ipython2",
   "version": "2.7.6"
  }
 },
 "nbformat": 4,
 "nbformat_minor": 0
}