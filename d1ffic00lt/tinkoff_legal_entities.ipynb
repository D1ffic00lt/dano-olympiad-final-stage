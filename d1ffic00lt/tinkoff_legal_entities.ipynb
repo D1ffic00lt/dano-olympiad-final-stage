{
 "cells": [
  {
   "cell_type": "code",
   "execution_count": 3,
   "metadata": {
    "collapsed": true
   },
   "outputs": [],
   "source": [
    "import pandas as pd\n",
    "from matplotlib import pyplot as plt\n",
    "import seaborn as sns\n",
    "import numpy as np"
   ]
  },
  {
   "cell_type": "code",
   "execution_count": 4,
   "outputs": [
    {
     "data": {
      "text/plain": "               id                 date  phones_num  phb_fraud  phb_dirty  \\\n0  a782615660478a  2022-10-30 00:00:00           1        0.0        2.0   \n1    a7706752171a  2022-01-15 00:00:00          16        0.0        0.0   \n2  a745212602258a  2021-06-03 00:00:00           4        0.0        0.0   \n3    a2466264323a  2022-09-25 00:00:00           3        0.0        0.0   \n4    a7728551510a  2022-04-28 00:00:00         161        4.0        2.0   \n\n   phb_all_bad  phb_all  phb_bad_perc  found_phones  phb_fraud_dir  ...  \\\n0          2.0   1498.0          0.13           1.0            0.0  ...   \n1          0.0   2421.0          0.00          16.0            0.0  ...   \n2          0.0   1503.0          0.00           3.0            0.0  ...   \n3          0.0     77.0          0.00           2.0            0.0  ...   \n4          6.0  17842.0          0.03         145.0            0.0  ...   \n\n   defendant_case_perc  rating_ya  ratings_cnt_ya  reviews_cnt_ya  \\\n0                  NaN        NaN             0.0            15.0   \n1                  NaN       4.15           114.0            39.0   \n2                  NaN        NaN             0.0             4.0   \n3                  NaN        NaN             0.0             2.0   \n4                  NaN       4.15         21338.0          5772.0   \n\n   rating_yell  reviews_cnt_yell  rating_2gis  reviews_cnt_2gis  rating_avito  \\\n0     4.000000               0.0     0.000000               0.0           NaN   \n1     3.700000               1.0     0.142857               2.0           4.8   \n2     4.000000               0.0     0.000000               0.0           NaN   \n3     4.500000               0.0     4.800000               5.0           NaN   \n4     4.244828             308.0     1.358362            2943.0           NaN   \n\n   reviews_cnt_avito  \n0                NaN  \n1                5.0  \n2                NaN  \n3                NaN  \n4                NaN  \n\n[5 rows x 35 columns]",
      "text/html": "<div>\n<style scoped>\n    .dataframe tbody tr th:only-of-type {\n        vertical-align: middle;\n    }\n\n    .dataframe tbody tr th {\n        vertical-align: top;\n    }\n\n    .dataframe thead th {\n        text-align: right;\n    }\n</style>\n<table border=\"1\" class=\"dataframe\">\n  <thead>\n    <tr style=\"text-align: right;\">\n      <th></th>\n      <th>id</th>\n      <th>date</th>\n      <th>phones_num</th>\n      <th>phb_fraud</th>\n      <th>phb_dirty</th>\n      <th>phb_all_bad</th>\n      <th>phb_all</th>\n      <th>phb_bad_perc</th>\n      <th>found_phones</th>\n      <th>phb_fraud_dir</th>\n      <th>...</th>\n      <th>defendant_case_perc</th>\n      <th>rating_ya</th>\n      <th>ratings_cnt_ya</th>\n      <th>reviews_cnt_ya</th>\n      <th>rating_yell</th>\n      <th>reviews_cnt_yell</th>\n      <th>rating_2gis</th>\n      <th>reviews_cnt_2gis</th>\n      <th>rating_avito</th>\n      <th>reviews_cnt_avito</th>\n    </tr>\n  </thead>\n  <tbody>\n    <tr>\n      <th>0</th>\n      <td>a782615660478a</td>\n      <td>2022-10-30 00:00:00</td>\n      <td>1</td>\n      <td>0.0</td>\n      <td>2.0</td>\n      <td>2.0</td>\n      <td>1498.0</td>\n      <td>0.13</td>\n      <td>1.0</td>\n      <td>0.0</td>\n      <td>...</td>\n      <td>NaN</td>\n      <td>NaN</td>\n      <td>0.0</td>\n      <td>15.0</td>\n      <td>4.000000</td>\n      <td>0.0</td>\n      <td>0.000000</td>\n      <td>0.0</td>\n      <td>NaN</td>\n      <td>NaN</td>\n    </tr>\n    <tr>\n      <th>1</th>\n      <td>a7706752171a</td>\n      <td>2022-01-15 00:00:00</td>\n      <td>16</td>\n      <td>0.0</td>\n      <td>0.0</td>\n      <td>0.0</td>\n      <td>2421.0</td>\n      <td>0.00</td>\n      <td>16.0</td>\n      <td>0.0</td>\n      <td>...</td>\n      <td>NaN</td>\n      <td>4.15</td>\n      <td>114.0</td>\n      <td>39.0</td>\n      <td>3.700000</td>\n      <td>1.0</td>\n      <td>0.142857</td>\n      <td>2.0</td>\n      <td>4.8</td>\n      <td>5.0</td>\n    </tr>\n    <tr>\n      <th>2</th>\n      <td>a745212602258a</td>\n      <td>2021-06-03 00:00:00</td>\n      <td>4</td>\n      <td>0.0</td>\n      <td>0.0</td>\n      <td>0.0</td>\n      <td>1503.0</td>\n      <td>0.00</td>\n      <td>3.0</td>\n      <td>0.0</td>\n      <td>...</td>\n      <td>NaN</td>\n      <td>NaN</td>\n      <td>0.0</td>\n      <td>4.0</td>\n      <td>4.000000</td>\n      <td>0.0</td>\n      <td>0.000000</td>\n      <td>0.0</td>\n      <td>NaN</td>\n      <td>NaN</td>\n    </tr>\n    <tr>\n      <th>3</th>\n      <td>a2466264323a</td>\n      <td>2022-09-25 00:00:00</td>\n      <td>3</td>\n      <td>0.0</td>\n      <td>0.0</td>\n      <td>0.0</td>\n      <td>77.0</td>\n      <td>0.00</td>\n      <td>2.0</td>\n      <td>0.0</td>\n      <td>...</td>\n      <td>NaN</td>\n      <td>NaN</td>\n      <td>0.0</td>\n      <td>2.0</td>\n      <td>4.500000</td>\n      <td>0.0</td>\n      <td>4.800000</td>\n      <td>5.0</td>\n      <td>NaN</td>\n      <td>NaN</td>\n    </tr>\n    <tr>\n      <th>4</th>\n      <td>a7728551510a</td>\n      <td>2022-04-28 00:00:00</td>\n      <td>161</td>\n      <td>4.0</td>\n      <td>2.0</td>\n      <td>6.0</td>\n      <td>17842.0</td>\n      <td>0.03</td>\n      <td>145.0</td>\n      <td>0.0</td>\n      <td>...</td>\n      <td>NaN</td>\n      <td>4.15</td>\n      <td>21338.0</td>\n      <td>5772.0</td>\n      <td>4.244828</td>\n      <td>308.0</td>\n      <td>1.358362</td>\n      <td>2943.0</td>\n      <td>NaN</td>\n      <td>NaN</td>\n    </tr>\n  </tbody>\n</table>\n<p>5 rows × 35 columns</p>\n</div>"
     },
     "execution_count": 4,
     "metadata": {},
     "output_type": "execute_result"
    }
   ],
   "source": [
    "df = pd.read_csv(\"tinkoff_legal_entities_new.csv\")\n",
    "df.head()"
   ],
   "metadata": {
    "collapsed": false,
    "pycharm": {
     "name": "#%%\n"
    }
   }
  },
  {
   "cell_type": "markdown",
   "source": [
    "# Fill Nan"
   ],
   "metadata": {
    "collapsed": false,
    "pycharm": {
     "name": "#%% md\n"
    }
   }
  },
  {
   "cell_type": "code",
   "execution_count": 5,
   "outputs": [],
   "source": [
    "rating_columns = [\n",
    "    \"rating_ya\",\n",
    "    \"rating_yell\",\n",
    "    \"rating_avito\",\n",
    "    \"rating_2gis\",\n",
    "]\n",
    "\n",
    "reviews_count_columns = [\n",
    "    \"reviews_cnt_ya\",\n",
    "    \"reviews_cnt_yell\",\n",
    "    \"reviews_cnt_2gis\",\n",
    "    \"reviews_cnt_avito\",\n",
    "    \"ratings_cnt_ya\"\n",
    "]\n",
    "\n",
    "phones = [\n",
    "    \"phb_bad_perc_dir\",\n",
    "    \"phb_all_dir\",  # !\n",
    "    \"phb_all_bad_dir\",  # !\n",
    "    \"phb_dirty_dir\",\n",
    "    \"phb_fraud_dir\",\n",
    "    \"phb_bad_perc\",\n",
    "    \"found_phones_dir\",\n",
    "    \"phb_all\",\n",
    "    \"phb_all_bad\",\n",
    "    \"phb_dirty\",\n",
    "    \"phb_fraud\",\n",
    "    \"found_phones\",\n",
    "    \"phones_num\"\n",
    "\n",
    "]\n",
    "\n",
    "bank_and_police = [\n",
    "    \"total_defendant_case_amt\",\n",
    "    \"defendant_case_perc\",\n",
    "    \"total_defendant_case_cnt\",\n",
    "    \"total_case_cnt\",\n",
    "    \"mvd_request_num\",\n",
    "    \"complaints_num_dir\",\n",
    "    \"complaints_num\",\n",
    "    \"claims_percent\",\n",
    "    \"appl_num\",\n",
    "    \"bad_rep_tcb\"\n",
    "]\n",
    "\n",
    "data_without_description = [\n",
    "    \"claims_num\"\n",
    "]"
   ],
   "metadata": {
    "collapsed": false,
    "pycharm": {
     "name": "#%%\n"
    }
   }
  },
  {
   "cell_type": "code",
   "execution_count": 6,
   "outputs": [
    {
     "data": {
      "text/plain": "id                           0.000000\ndate                         0.000000\nphones_num                   0.000000\nphb_fraud                    0.073333\nphb_dirty                    0.073333\nphb_all_bad                  0.073333\nphb_all                      0.073333\nphb_bad_perc                 0.073333\nfound_phones                 0.073333\nphb_fraud_dir                8.206667\nphb_dirty_dir                8.206667\nphb_all_bad_dir              8.206667\nphb_all_dir                  8.206667\nphb_bad_perc_dir             8.206667\nfound_phones_dir             8.206667\nclaims_percent              34.013333\nclaims_num                  34.013333\nappl_num                    34.013333\ncomplaints_num              99.880000\ncomplaints_num_dir          99.693333\nmvd_request_num             93.320000\nbad_rep_tcb                 99.153333\ntotal_case_cnt              99.573333\ntotal_defendant_case_cnt    99.573333\ntotal_defendant_case_amt    99.573333\ndefendant_case_perc         99.573333\nrating_ya                   77.360000\nratings_cnt_ya              70.153333\nreviews_cnt_ya              70.153333\nrating_yell                 62.753333\nreviews_cnt_yell            62.753333\nrating_2gis                 55.453333\nreviews_cnt_2gis            55.453333\nrating_avito                97.906667\nreviews_cnt_avito           97.180000\ndtype: float64"
     },
     "execution_count": 6,
     "metadata": {},
     "output_type": "execute_result"
    }
   ],
   "source": [
    "df.isna().sum() / df.shape[0] * 100"
   ],
   "metadata": {
    "collapsed": false,
    "pycharm": {
     "name": "#%%\n"
    }
   }
  },
  {
   "cell_type": "code",
   "source": [
    "df[rating_columns] = df[rating_columns].fillna(-1)\n",
    "df[reviews_count_columns] = df[reviews_count_columns].fillna(0)\n",
    "df[phones] = df[phones].fillna(0)\n",
    "df[bank_and_police] = df[bank_and_police].fillna(0)\n",
    "df[data_without_description] = df[data_without_description].fillna(0)"
   ],
   "metadata": {
    "collapsed": false,
    "pycharm": {
     "name": "#%%\n"
    }
   },
   "execution_count": 7,
   "outputs": []
  },
  {
   "cell_type": "code",
   "execution_count": 8,
   "outputs": [
    {
     "data": {
      "text/plain": "id                          0\ndate                        0\nphones_num                  0\nphb_fraud                   0\nphb_dirty                   0\nphb_all_bad                 0\nphb_all                     0\nphb_bad_perc                0\nfound_phones                0\nphb_fraud_dir               0\nphb_dirty_dir               0\nphb_all_bad_dir             0\nphb_all_dir                 0\nphb_bad_perc_dir            0\nfound_phones_dir            0\nclaims_percent              0\nclaims_num                  0\nappl_num                    0\ncomplaints_num              0\ncomplaints_num_dir          0\nmvd_request_num             0\nbad_rep_tcb                 0\ntotal_case_cnt              0\ntotal_defendant_case_cnt    0\ntotal_defendant_case_amt    0\ndefendant_case_perc         0\nrating_ya                   0\nratings_cnt_ya              0\nreviews_cnt_ya              0\nrating_yell                 0\nreviews_cnt_yell            0\nrating_2gis                 0\nreviews_cnt_2gis            0\nrating_avito                0\nreviews_cnt_avito           0\ndtype: int64"
     },
     "execution_count": 8,
     "metadata": {},
     "output_type": "execute_result"
    }
   ],
   "source": [
    "df.isna().sum()"
   ],
   "metadata": {
    "collapsed": false,
    "pycharm": {
     "name": "#%%\n"
    }
   }
  },
  {
   "cell_type": "code",
   "execution_count": 9,
   "outputs": [],
   "source": [
    "df.to_csv(\"clean_data.csv\", index=False)"
   ],
   "metadata": {
    "collapsed": false,
    "pycharm": {
     "name": "#%%\n"
    }
   }
  },
  {
   "cell_type": "code",
   "execution_count": 10,
   "outputs": [
    {
     "data": {
      "text/plain": "14787"
     },
     "execution_count": 10,
     "metadata": {},
     "output_type": "execute_result"
    }
   ],
   "source": [
    "df.id.nunique()"
   ],
   "metadata": {
    "collapsed": false,
    "pycharm": {
     "name": "#%%\n"
    }
   }
  },
  {
   "cell_type": "markdown",
   "source": [
    "- посмотреть отзывы\n",
    "- номера\n",
    "- зависимость отзывов от номеров"
   ],
   "metadata": {
    "collapsed": false,
    "pycharm": {
     "name": "#%% md\n"
    }
   }
  },
  {
   "cell_type": "code",
   "execution_count": 11,
   "outputs": [
    {
     "data": {
      "text/plain": "(15000, 35)"
     },
     "execution_count": 11,
     "metadata": {},
     "output_type": "execute_result"
    }
   ],
   "source": [
    "with_rating = df[(df.rating_ya != -1) |\n",
    "                 (df.rating_yell != -1) |\n",
    "                 (df.rating_avito != -1) |\n",
    "                 (df.rating_2gis != -1) |\n",
    "                 (df.ratings_cnt_ya != -1)\n",
    "                 ]\n",
    "with_rating.shape"
   ],
   "metadata": {
    "collapsed": false,
    "pycharm": {
     "name": "#%%\n"
    }
   }
  },
  {
   "cell_type": "code",
   "execution_count": 12,
   "outputs": [
    {
     "data": {
      "text/plain": "(135, 35)"
     },
     "execution_count": 12,
     "metadata": {},
     "output_type": "execute_result"
    }
   ],
   "source": [
    "with_all_ratings = df[(df.rating_ya != -1) &\n",
    "                 (df.rating_yell != -1) &\n",
    "                 (df.rating_avito != -1) &\n",
    "                 (df.rating_2gis != -1) &\n",
    "                 (df.ratings_cnt_ya != -1)\n",
    "                 ]\n",
    "with_all_ratings.shape"
   ],
   "metadata": {
    "collapsed": false,
    "pycharm": {
     "name": "#%%\n"
    }
   }
  },
  {
   "cell_type": "code",
   "execution_count": 13,
   "outputs": [
    {
     "data": {
      "text/plain": "<Figure size 1080x720 with 4 Axes>",
      "image/png": "[encoded data removed]"
     },
     "metadata": {
      "needs_background": "light"
     },
     "output_type": "display_data"
    }
   ],
   "source": [
    "fig, ax = plt.subplots(2, 2, figsize=(15, 10))\n",
    "ax = ax.flatten()\n",
    "k = 0\n",
    "for i in rating_columns[:-1]:\n",
    "    ax[k].set_xlabel(i)\n",
    "    df.loc[df[i] != -1][i].plot(kind=\"hist\", ax=ax[k], edgecolor='black')\n",
    "    k += 1"
   ],
   "metadata": {
    "collapsed": false,
    "pycharm": {
     "name": "#%%\n"
    }
   }
  },
  {
   "cell_type": "code",
   "execution_count": 14,
   "outputs": [
    {
     "name": "stdout",
     "output_type": "stream",
     "text": [
      "rating_ya mean is 3.9337455830388692\n",
      "rating_yell mean is 4.2798102031744305\n",
      "rating_avito mean is 3.920486553432413\n",
      "rating_2gis mean is 0.7330523769195867\n"
     ]
    }
   ],
   "source": [
    "for name in rating_columns:\n",
    "    man = df[df[name] != -1][name].mean()\n",
    "    print(f'{name} mean is {man}')"
   ],
   "metadata": {
    "collapsed": false,
    "pycharm": {
     "name": "#%%\n"
    }
   }
  },
  {
   "cell_type": "code",
   "execution_count": 15,
   "outputs": [
    {
     "data": {
      "text/plain": "count    15000.000000\nmean        12.604400\nstd        151.777264\nmin          1.000000\n25%          1.000000\n50%          2.000000\n75%          4.000000\nmax       8090.000000\nName: phones_num, dtype: float64"
     },
     "execution_count": 15,
     "metadata": {},
     "output_type": "execute_result"
    }
   ],
   "source": [
    "df.phones_num.describe()"
   ],
   "metadata": {
    "collapsed": false,
    "pycharm": {
     "name": "#%%\n"
    }
   }
  },
  {
   "cell_type": "code",
   "execution_count": 46,
   "outputs": [
    {
     "name": "stdout",
     "output_type": "stream",
     "text": [
      "13540\n"
     ]
    },
    {
     "data": {
      "text/plain": "<Figure size 432x288 with 1 Axes>",
      "image/png": "[encoded data removed]"
     },
     "metadata": {
      "needs_background": "light"
     },
     "output_type": "display_data"
    }
   ],
   "source": [
    "small = df[(df.phones_num < 10)]\n",
    "print(small.shape[0])\n",
    "sns.histplot(data=small, x=small.phones_num)\n",
    "plt.yticks(np.arange(0, 5000, 500))\n",
    "plt.grid(True)"
   ],
   "metadata": {
    "collapsed": false,
    "pycharm": {
     "name": "#%%\n"
    }
   }
  },
  {
   "cell_type": "code",
   "execution_count": 47,
   "outputs": [
    {
     "name": "stdout",
     "output_type": "stream",
     "text": [
      "13730\n"
     ]
    },
    {
     "data": {
      "text/plain": "<Figure size 432x288 with 1 Axes>",
      "image/png": "[encoded data removed]"
     },
     "metadata": {
      "needs_background": "light"
     },
     "output_type": "display_data"
    }
   ],
   "source": [
    "small = df[(df.found_phones < 10)]\n",
    "print(small.shape[0])\n",
    "sns.histplot(data=small, x=small.found_phones)\n",
    "plt.yticks(np.arange(0, 6000, 500))\n",
    "plt.grid(True)"
   ],
   "metadata": {
    "collapsed": false,
    "pycharm": {
     "name": "#%%\n"
    }
   }
  },
  {
   "cell_type": "code",
   "execution_count": 48,
   "outputs": [
    {
     "data": {
      "text/plain": "<AxesSubplot:>"
     },
     "execution_count": 48,
     "metadata": {},
     "output_type": "execute_result"
    },
    {
     "data": {
      "text/plain": "<Figure size 432x288 with 1 Axes>",
      "image/png": "[encoded data removed]"
     },
     "metadata": {
      "needs_background": "light"
     },
     "output_type": "display_data"
    }
   ],
   "source": [
    "df[df.phb_all > 1_000].phb_all.hist(bins=20)"
   ],
   "metadata": {
    "collapsed": false,
    "pycharm": {
     "name": "#%%\n"
    }
   }
  },
  {
   "cell_type": "code",
   "execution_count": 49,
   "outputs": [
    {
     "data": {
      "text/plain": "<AxesSubplot:>"
     },
     "execution_count": 49,
     "metadata": {},
     "output_type": "execute_result"
    },
    {
     "data": {
      "text/plain": "<Figure size 432x288 with 2 Axes>",
      "image/png": "[encoded data removed]"
     },
     "metadata": {
      "needs_background": "light"
     },
     "output_type": "display_data"
    }
   ],
   "source": [
    "sns.heatmap(df.corr())"
   ],
   "metadata": {
    "collapsed": false,
    "pycharm": {
     "name": "#%%\n"
    }
   }
  },
  {
   "cell_type": "code",
   "execution_count": 50,
   "outputs": [
    {
     "data": {
      "text/plain": "<AxesSubplot:>"
     },
     "execution_count": 50,
     "metadata": {},
     "output_type": "execute_result"
    },
    {
     "data": {
      "text/plain": "<Figure size 432x288 with 1 Axes>",
      "image/png": "[encoded data removed]"
     },
     "metadata": {
      "needs_background": "light"
     },
     "output_type": "display_data"
    }
   ],
   "source": [
    "df.phb_bad_perc.hist(bins=np.arange(0, 10, 1))"
   ],
   "metadata": {
    "collapsed": false,
    "pycharm": {
     "name": "#%%\n"
    }
   }
  },
  {
   "cell_type": "code",
   "execution_count": 21,
   "outputs": [
    {
     "data": {
      "text/plain": "<AxesSubplot:>"
     },
     "execution_count": 21,
     "metadata": {},
     "output_type": "execute_result"
    },
    {
     "data": {
      "text/plain": "<Figure size 432x288 with 1 Axes>",
      "image/png": "[encoded data removed]"
     },
     "metadata": {
      "needs_background": "light"
     },
     "output_type": "display_data"
    }
   ],
   "source": [
    "df[df.phb_all_dir < 1_00].phb_all_dir.hist(bins=20)"
   ],
   "metadata": {
    "collapsed": false,
    "pycharm": {
     "name": "#%%\n"
    }
   }
  },
  {
   "cell_type": "code",
   "execution_count": 22,
   "outputs": [
    {
     "data": {
      "text/plain": "count     15000.000000\nmean        551.434867\nstd        4877.977318\nmin           0.000000\n25%          31.000000\n50%         167.000000\n75%         414.250000\nmax      435723.000000\nName: phb_all_dir, dtype: float64"
     },
     "execution_count": 22,
     "metadata": {},
     "output_type": "execute_result"
    }
   ],
   "source": [
    "df.phb_all_dir.describe()"
   ],
   "metadata": {
    "collapsed": false,
    "pycharm": {
     "name": "#%%\n"
    }
   }
  },
  {
   "cell_type": "code",
   "execution_count": 23,
   "outputs": [
    {
     "data": {
      "text/plain": "0.09588140724819848"
     },
     "execution_count": 23,
     "metadata": {},
     "output_type": "execute_result"
    }
   ],
   "source": [
    "df.phones_num.corr(df.rating_ya)"
   ],
   "metadata": {
    "collapsed": false,
    "pycharm": {
     "name": "#%%\n"
    }
   }
  },
  {
   "cell_type": "code",
   "execution_count": 24,
   "outputs": [
    {
     "data": {
      "text/plain": "-0.011790091573779665"
     },
     "execution_count": 24,
     "metadata": {},
     "output_type": "execute_result"
    }
   ],
   "source": [
    "df.phb_all_dir.corr(df.rating_ya)"
   ],
   "metadata": {
    "collapsed": false,
    "pycharm": {
     "name": "#%%\n"
    }
   }
  },
  {
   "cell_type": "code",
   "execution_count": 25,
   "outputs": [
    {
     "name": "stdout",
     "output_type": "stream",
     "text": [
      "['rating_ya', 'rating_yell', 'rating_avito', 'rating_2gis']\n"
     ]
    },
    {
     "data": {
      "text/plain": "<Figure size 1080x720 with 4 Axes>",
      "image/png": "[encoded data removed]"
     },
     "metadata": {
      "needs_background": "light"
     },
     "output_type": "display_data"
    }
   ],
   "source": [
    "fig, ax = plt.subplots(2, 2, figsize=(15, 10))\n",
    "ax = ax.flatten()\n",
    "print(rating_columns)\n",
    "for i, name in enumerate(rating_columns):\n",
    "    # ax[k].set_title(name)\n",
    "    data_rating = df.copy()\n",
    "    data_rating[name] = data_rating[name].apply(lambda x: round(x * 2) / 2)\n",
    "    sns.barplot(\n",
    "        ax=ax[i],\n",
    "        x=data_rating.groupby(name).mean().index,\n",
    "        y=data_rating.groupby(name).mean().phb_bad_perc\n",
    "    )"
   ],
   "metadata": {
    "collapsed": false,
    "pycharm": {
     "name": "#%%\n"
    }
   }
  },
  {
   "cell_type": "code",
   "execution_count": 26,
   "outputs": [
    {
     "data": {
      "text/plain": "<AxesSubplot:>"
     },
     "execution_count": 26,
     "metadata": {},
     "output_type": "execute_result"
    },
    {
     "data": {
      "text/plain": "<Figure size 432x288 with 1 Axes>",
      "image/png": "[encoded data removed]"
     },
     "metadata": {
      "needs_background": "light"
     },
     "output_type": "display_data"
    }
   ],
   "source": [
    "yell = df.rating_yell\n",
    "yell.apply(lambda x: (2 * x) / 2)\n",
    "yell.hist(bins=np.arange(0, 6, 0.5))"
   ],
   "metadata": {
    "collapsed": false,
    "pycharm": {
     "name": "#%%\n"
    }
   }
  },
  {
   "cell_type": "markdown",
   "source": [
    "# разделение по размеру"
   ],
   "metadata": {
    "collapsed": false
   }
  },
  {
   "cell_type": "code",
   "execution_count": 27,
   "outputs": [],
   "source": [
    "df['all_reviews_cnt'] = df[reviews_count_columns].sum(axis=1)"
   ],
   "metadata": {
    "collapsed": false,
    "pycharm": {
     "name": "#%%\n"
    }
   }
  },
  {
   "cell_type": "code",
   "execution_count": 28,
   "outputs": [],
   "source": [
    "def get_mean_rating(row):\n",
    "    sm = n = 0\n",
    "    for r in row[rating_columns]:\n",
    "        if r > 0:\n",
    "            sm += r\n",
    "            n += 1\n",
    "    if n == 0:\n",
    "        return 0\n",
    "    return sm / n\n",
    "\n",
    "df['mean_rating'] = df.apply(lambda x: get_mean_rating(x), axis=1)"
   ],
   "metadata": {
    "collapsed": false,
    "pycharm": {
     "name": "#%%\n"
    }
   }
  },
  {
   "cell_type": "code",
   "execution_count": 29,
   "outputs": [
    {
     "data": {
      "text/plain": "               id                 date  phones_num  phb_fraud  phb_dirty  \\\n0  a782615660478a  2022-10-30 00:00:00           1        0.0        2.0   \n1    a7706752171a  2022-01-15 00:00:00          16        0.0        0.0   \n2  a745212602258a  2021-06-03 00:00:00           4        0.0        0.0   \n3    a2466264323a  2022-09-25 00:00:00           3        0.0        0.0   \n4    a7728551510a  2022-04-28 00:00:00         161        4.0        2.0   \n\n   phb_all_bad  phb_all  phb_bad_perc  found_phones  phb_fraud_dir  ...  \\\n0          2.0   1498.0          0.13           1.0            0.0  ...   \n1          0.0   2421.0          0.00          16.0            0.0  ...   \n2          0.0   1503.0          0.00           3.0            0.0  ...   \n3          0.0     77.0          0.00           2.0            0.0  ...   \n4          6.0  17842.0          0.03         145.0            0.0  ...   \n\n   ratings_cnt_ya  reviews_cnt_ya  rating_yell  reviews_cnt_yell  rating_2gis  \\\n0             0.0            15.0     4.000000               0.0     0.000000   \n1           114.0            39.0     3.700000               1.0     0.142857   \n2             0.0             4.0     4.000000               0.0     0.000000   \n3             0.0             2.0     4.500000               0.0     4.800000   \n4         21338.0          5772.0     4.244828             308.0     1.358362   \n\n   reviews_cnt_2gis  rating_avito  reviews_cnt_avito  all_reviews_cnt  \\\n0               0.0          -1.0                0.0             15.0   \n1               2.0           4.8                5.0            161.0   \n2               0.0          -1.0                0.0              4.0   \n3               5.0          -1.0                0.0              7.0   \n4            2943.0          -1.0                0.0          30361.0   \n\n   mean_rating  \n0     4.000000  \n1     3.198214  \n2     4.000000  \n3     4.650000  \n4     3.251063  \n\n[5 rows x 37 columns]",
      "text/html": "<div>\n<style scoped>\n    .dataframe tbody tr th:only-of-type {\n        vertical-align: middle;\n    }\n\n    .dataframe tbody tr th {\n        vertical-align: top;\n    }\n\n    .dataframe thead th {\n        text-align: right;\n    }\n</style>\n<table border=\"1\" class=\"dataframe\">\n  <thead>\n    <tr style=\"text-align: right;\">\n      <th></th>\n      <th>id</th>\n      <th>date</th>\n      <th>phones_num</th>\n      <th>phb_fraud</th>\n      <th>phb_dirty</th>\n      <th>phb_all_bad</th>\n      <th>phb_all</th>\n      <th>phb_bad_perc</th>\n      <th>found_phones</th>\n      <th>phb_fraud_dir</th>\n      <th>...</th>\n      <th>ratings_cnt_ya</th>\n      <th>reviews_cnt_ya</th>\n      <th>rating_yell</th>\n      <th>reviews_cnt_yell</th>\n      <th>rating_2gis</th>\n      <th>reviews_cnt_2gis</th>\n      <th>rating_avito</th>\n      <th>reviews_cnt_avito</th>\n      <th>all_reviews_cnt</th>\n      <th>mean_rating</th>\n    </tr>\n  </thead>\n  <tbody>\n    <tr>\n      <th>0</th>\n      <td>a782615660478a</td>\n      <td>2022-10-30 00:00:00</td>\n      <td>1</td>\n      <td>0.0</td>\n      <td>2.0</td>\n      <td>2.0</td>\n      <td>1498.0</td>\n      <td>0.13</td>\n      <td>1.0</td>\n      <td>0.0</td>\n      <td>...</td>\n      <td>0.0</td>\n      <td>15.0</td>\n      <td>4.000000</td>\n      <td>0.0</td>\n      <td>0.000000</td>\n      <td>0.0</td>\n      <td>-1.0</td>\n      <td>0.0</td>\n      <td>15.0</td>\n      <td>4.000000</td>\n    </tr>\n    <tr>\n      <th>1</th>\n      <td>a7706752171a</td>\n      <td>2022-01-15 00:00:00</td>\n      <td>16</td>\n      <td>0.0</td>\n      <td>0.0</td>\n      <td>0.0</td>\n      <td>2421.0</td>\n      <td>0.00</td>\n      <td>16.0</td>\n      <td>0.0</td>\n      <td>...</td>\n      <td>114.0</td>\n      <td>39.0</td>\n      <td>3.700000</td>\n      <td>1.0</td>\n      <td>0.142857</td>\n      <td>2.0</td>\n      <td>4.8</td>\n      <td>5.0</td>\n      <td>161.0</td>\n      <td>3.198214</td>\n    </tr>\n    <tr>\n      <th>2</th>\n      <td>a745212602258a</td>\n      <td>2021-06-03 00:00:00</td>\n      <td>4</td>\n      <td>0.0</td>\n      <td>0.0</td>\n      <td>0.0</td>\n      <td>1503.0</td>\n      <td>0.00</td>\n      <td>3.0</td>\n      <td>0.0</td>\n      <td>...</td>\n      <td>0.0</td>\n      <td>4.0</td>\n      <td>4.000000</td>\n      <td>0.0</td>\n      <td>0.000000</td>\n      <td>0.0</td>\n      <td>-1.0</td>\n      <td>0.0</td>\n      <td>4.0</td>\n      <td>4.000000</td>\n    </tr>\n    <tr>\n      <th>3</th>\n      <td>a2466264323a</td>\n      <td>2022-09-25 00:00:00</td>\n      <td>3</td>\n      <td>0.0</td>\n      <td>0.0</td>\n      <td>0.0</td>\n      <td>77.0</td>\n      <td>0.00</td>\n      <td>2.0</td>\n      <td>0.0</td>\n      <td>...</td>\n      <td>0.0</td>\n      <td>2.0</td>\n      <td>4.500000</td>\n      <td>0.0</td>\n      <td>4.800000</td>\n      <td>5.0</td>\n      <td>-1.0</td>\n      <td>0.0</td>\n      <td>7.0</td>\n      <td>4.650000</td>\n    </tr>\n    <tr>\n      <th>4</th>\n      <td>a7728551510a</td>\n      <td>2022-04-28 00:00:00</td>\n      <td>161</td>\n      <td>4.0</td>\n      <td>2.0</td>\n      <td>6.0</td>\n      <td>17842.0</td>\n      <td>0.03</td>\n      <td>145.0</td>\n      <td>0.0</td>\n      <td>...</td>\n      <td>21338.0</td>\n      <td>5772.0</td>\n      <td>4.244828</td>\n      <td>308.0</td>\n      <td>1.358362</td>\n      <td>2943.0</td>\n      <td>-1.0</td>\n      <td>0.0</td>\n      <td>30361.0</td>\n      <td>3.251063</td>\n    </tr>\n  </tbody>\n</table>\n<p>5 rows × 37 columns</p>\n</div>"
     },
     "execution_count": 29,
     "metadata": {},
     "output_type": "execute_result"
    }
   ],
   "source": [
    "df.head()"
   ],
   "metadata": {
    "collapsed": false,
    "pycharm": {
     "name": "#%%\n"
    }
   }
  },
  {
   "cell_type": "code",
   "execution_count": 30,
   "outputs": [
    {
     "data": {
      "text/plain": "3320.0"
     },
     "execution_count": 30,
     "metadata": {},
     "output_type": "execute_result"
    }
   ],
   "source": [
    "size_columns = ['phb_all',  'appl_num', 'all_reviews_cnt']\n",
    "has_reviews = df[df['all_reviews_cnt'] > 0]\n",
    "\n",
    "q90 = has_reviews[size_columns].quantile(0.9)\n",
    "q75 = has_reviews[size_columns].quantile(0.75)\n",
    "q50 = has_reviews[size_columns].quantile(0.50)\n",
    "q25 = has_reviews[size_columns].quantile(0.25)\n",
    "\n",
    "q = has_reviews[size_columns].quantile([0.25, 0.5, 0.75, 0.9])\n",
    "q.at[0.75, 'phb_all']"
   ],
   "metadata": {
    "collapsed": false,
    "pycharm": {
     "name": "#%%\n"
    }
   }
  },
  {
   "cell_type": "code",
   "execution_count": 31,
   "outputs": [
    {
     "data": {
      "text/plain": "phb_all            491.0\nappl_num             0.0\nall_reviews_cnt      8.0\nName: 0.25, dtype: float64"
     },
     "execution_count": 31,
     "metadata": {},
     "output_type": "execute_result"
    }
   ],
   "source": [
    "q.loc[0.25]"
   ],
   "metadata": {
    "collapsed": false,
    "pycharm": {
     "name": "#%%\n"
    }
   }
  },
  {
   "cell_type": "code",
   "execution_count": 32,
   "outputs": [
    {
     "data": {
      "text/plain": "                id                 date  phones_num  phb_fraud  phb_dirty  \\\n428   a7704340310a  2022-02-18 00:00:00        8090     4326.0     2867.0   \n1992  a7714617793a  2022-08-26 00:00:00         368       90.0      151.0   \n2274  a7728178835a  2022-09-22 00:00:00          58       24.0        4.0   \n2389  a7740000076a  2022-10-18 00:00:00         470      161.0      328.0   \n2392  a7718947150a  2022-10-16 00:00:00          12        0.0        0.0   \n\n      phb_all_bad    phb_all  phb_bad_perc  found_phones  phb_fraud_dir  ...  \\\n428        7193.0  5693618.0          0.13        7851.0            0.0  ...   \n1992        241.0   233293.0          0.10         321.0            8.0  ...   \n2274         28.0    35774.0          0.08          55.0            0.0  ...   \n2389        489.0   401739.0          0.12         426.0            0.0  ...   \n2392          0.0    10923.0          0.00          12.0            0.0  ...   \n\n      ratings_cnt_ya  reviews_cnt_ya  rating_yell  reviews_cnt_yell  \\\n428          56712.0         17681.0     4.238974             131.0   \n1992         17153.0          4699.0     4.240574              43.0   \n2274           690.0           306.0     4.277778               0.0   \n2389          1027.0           349.0     4.312500               9.0   \n2392          9383.0          4020.0     4.350000              24.0   \n\n      rating_2gis  reviews_cnt_2gis  rating_avito  reviews_cnt_avito  \\\n428      0.759524            1804.0      4.011111              214.0   \n1992     0.640643            2677.0     -1.000000                0.0   \n2274     0.844444              51.0     -1.000000                0.0   \n2389     0.500000               1.0     -1.000000                0.0   \n2392     3.680000              23.0     -1.000000                0.0   \n\n      all_reviews_cnt  mean_rating  \n428           76542.0     3.339902  \n1992          24572.0     2.757072  \n2274           1047.0     3.090741  \n2389           1386.0     2.694167  \n2392          13450.0     4.186667  \n\n[5 rows x 37 columns]",
      "text/html": "<div>\n<style scoped>\n    .dataframe tbody tr th:only-of-type {\n        vertical-align: middle;\n    }\n\n    .dataframe tbody tr th {\n        vertical-align: top;\n    }\n\n    .dataframe thead th {\n        text-align: right;\n    }\n</style>\n<table border=\"1\" class=\"dataframe\">\n  <thead>\n    <tr style=\"text-align: right;\">\n      <th></th>\n      <th>id</th>\n      <th>date</th>\n      <th>phones_num</th>\n      <th>phb_fraud</th>\n      <th>phb_dirty</th>\n      <th>phb_all_bad</th>\n      <th>phb_all</th>\n      <th>phb_bad_perc</th>\n      <th>found_phones</th>\n      <th>phb_fraud_dir</th>\n      <th>...</th>\n      <th>ratings_cnt_ya</th>\n      <th>reviews_cnt_ya</th>\n      <th>rating_yell</th>\n      <th>reviews_cnt_yell</th>\n      <th>rating_2gis</th>\n      <th>reviews_cnt_2gis</th>\n      <th>rating_avito</th>\n      <th>reviews_cnt_avito</th>\n      <th>all_reviews_cnt</th>\n      <th>mean_rating</th>\n    </tr>\n  </thead>\n  <tbody>\n    <tr>\n      <th>428</th>\n      <td>a7704340310a</td>\n      <td>2022-02-18 00:00:00</td>\n      <td>8090</td>\n      <td>4326.0</td>\n      <td>2867.0</td>\n      <td>7193.0</td>\n      <td>5693618.0</td>\n      <td>0.13</td>\n      <td>7851.0</td>\n      <td>0.0</td>\n      <td>...</td>\n      <td>56712.0</td>\n      <td>17681.0</td>\n      <td>4.238974</td>\n      <td>131.0</td>\n      <td>0.759524</td>\n      <td>1804.0</td>\n      <td>4.011111</td>\n      <td>214.0</td>\n      <td>76542.0</td>\n      <td>3.339902</td>\n    </tr>\n    <tr>\n      <th>1992</th>\n      <td>a7714617793a</td>\n      <td>2022-08-26 00:00:00</td>\n      <td>368</td>\n      <td>90.0</td>\n      <td>151.0</td>\n      <td>241.0</td>\n      <td>233293.0</td>\n      <td>0.10</td>\n      <td>321.0</td>\n      <td>8.0</td>\n      <td>...</td>\n      <td>17153.0</td>\n      <td>4699.0</td>\n      <td>4.240574</td>\n      <td>43.0</td>\n      <td>0.640643</td>\n      <td>2677.0</td>\n      <td>-1.000000</td>\n      <td>0.0</td>\n      <td>24572.0</td>\n      <td>2.757072</td>\n    </tr>\n    <tr>\n      <th>2274</th>\n      <td>a7728178835a</td>\n      <td>2022-09-22 00:00:00</td>\n      <td>58</td>\n      <td>24.0</td>\n      <td>4.0</td>\n      <td>28.0</td>\n      <td>35774.0</td>\n      <td>0.08</td>\n      <td>55.0</td>\n      <td>0.0</td>\n      <td>...</td>\n      <td>690.0</td>\n      <td>306.0</td>\n      <td>4.277778</td>\n      <td>0.0</td>\n      <td>0.844444</td>\n      <td>51.0</td>\n      <td>-1.000000</td>\n      <td>0.0</td>\n      <td>1047.0</td>\n      <td>3.090741</td>\n    </tr>\n    <tr>\n      <th>2389</th>\n      <td>a7740000076a</td>\n      <td>2022-10-18 00:00:00</td>\n      <td>470</td>\n      <td>161.0</td>\n      <td>328.0</td>\n      <td>489.0</td>\n      <td>401739.0</td>\n      <td>0.12</td>\n      <td>426.0</td>\n      <td>0.0</td>\n      <td>...</td>\n      <td>1027.0</td>\n      <td>349.0</td>\n      <td>4.312500</td>\n      <td>9.0</td>\n      <td>0.500000</td>\n      <td>1.0</td>\n      <td>-1.000000</td>\n      <td>0.0</td>\n      <td>1386.0</td>\n      <td>2.694167</td>\n    </tr>\n    <tr>\n      <th>2392</th>\n      <td>a7718947150a</td>\n      <td>2022-10-16 00:00:00</td>\n      <td>12</td>\n      <td>0.0</td>\n      <td>0.0</td>\n      <td>0.0</td>\n      <td>10923.0</td>\n      <td>0.00</td>\n      <td>12.0</td>\n      <td>0.0</td>\n      <td>...</td>\n      <td>9383.0</td>\n      <td>4020.0</td>\n      <td>4.350000</td>\n      <td>24.0</td>\n      <td>3.680000</td>\n      <td>23.0</td>\n      <td>-1.000000</td>\n      <td>0.0</td>\n      <td>13450.0</td>\n      <td>4.186667</td>\n    </tr>\n  </tbody>\n</table>\n<p>5 rows × 37 columns</p>\n</div>"
     },
     "execution_count": 32,
     "metadata": {},
     "output_type": "execute_result"
    }
   ],
   "source": [
    "real_huge_companies = df[(df['phb_all'] > q90['phb_all']) & (df['appl_num'] > q90['appl_num']) & (df['all_reviews_cnt'] > q90['all_reviews_cnt'])]\n",
    "real_huge_companies.head()"
   ],
   "metadata": {
    "collapsed": false,
    "pycharm": {
     "name": "#%%\n"
    }
   }
  },
  {
   "cell_type": "code",
   "execution_count": 33,
   "outputs": [
    {
     "data": {
      "text/plain": "                   id                 date  phones_num  phb_fraud  phb_dirty  \\\n0      a782615660478a  2022-10-30 00:00:00           1        0.0        2.0   \n4        a7728551510a  2022-04-28 00:00:00         161        4.0        2.0   \n12     a631306312332a  2022-09-11 00:00:00           4        0.0        0.0   \n15     a366322685170a  2022-10-02 00:00:00           4        0.0        0.0   \n31       a7805486700a  2022-10-08 00:00:00           8        0.0        0.0   \n...               ...                  ...         ...        ...        ...   \n14955  a401122666601a  2022-11-05 00:00:00           1        2.0        3.0   \n14969  a773114875929a  2022-09-18 00:00:00           1        0.0        0.0   \n14971  a027712607104a  2022-10-22 00:00:00           1        0.0        0.0   \n14986  a242903863394a  2022-09-18 00:00:00           1        0.0        0.0   \n14995  a390609289521a  2022-10-25 00:00:00           1        0.0        0.0   \n\n       phb_all_bad  phb_all  phb_bad_perc  found_phones  phb_fraud_dir  ...  \\\n0              2.0   1498.0          0.13           1.0            0.0  ...   \n4              6.0  17842.0          0.03         145.0            0.0  ...   \n12             0.0    376.0          0.00           4.0            0.0  ...   \n15             0.0    559.0          0.00           2.0            0.0  ...   \n31             0.0   6645.0          0.00           6.0            0.0  ...   \n...            ...      ...           ...           ...            ...  ...   \n14955          5.0   3405.0          0.15           1.0            0.0  ...   \n14969          0.0    416.0          0.00           1.0            0.0  ...   \n14971          0.0    479.0          0.00           1.0            0.0  ...   \n14986          0.0    580.0          0.00           1.0            0.0  ...   \n14995          0.0    669.0          0.00           1.0            0.0  ...   \n\n       ratings_cnt_ya  reviews_cnt_ya  rating_yell  reviews_cnt_yell  \\\n0                 0.0            15.0     4.000000               0.0   \n4             21338.0          5772.0     4.244828             308.0   \n12               18.0             5.0    -1.000000               0.0   \n15                0.0             0.0     4.500000               0.0   \n31                0.0             0.0    -1.000000               0.0   \n...               ...             ...          ...               ...   \n14955             0.0             0.0    -1.000000               0.0   \n14969             0.0             0.0    -1.000000               0.0   \n14971             0.0             0.0    -1.000000               0.0   \n14986             0.0             0.0    -1.000000               0.0   \n14995             0.0             0.0    -1.000000               0.0   \n\n       rating_2gis  reviews_cnt_2gis  rating_avito  reviews_cnt_avito  \\\n0         0.000000               0.0          -1.0                0.0   \n4         1.358362            2943.0          -1.0                0.0   \n12        0.000000               0.0          -1.0                0.0   \n15        0.000000               0.0          -1.0                0.0   \n31        0.000000               0.0          -1.0                0.0   \n...            ...               ...           ...                ...   \n14955    -1.000000               0.0          -1.0                0.0   \n14969    -1.000000               0.0          -1.0                0.0   \n14971    -1.000000               0.0          -1.0                0.0   \n14986    -1.000000               0.0          -1.0                0.0   \n14995    -1.000000               0.0          -1.0                0.0   \n\n       all_reviews_cnt  mean_rating  \n0                 15.0     4.000000  \n4              30361.0     3.251063  \n12                23.0     3.700000  \n15                 0.0     4.500000  \n31                 0.0     0.000000  \n...                ...          ...  \n14955              0.0     0.000000  \n14969              0.0     0.000000  \n14971              0.0     0.000000  \n14986              0.0     0.000000  \n14995              0.0     0.000000  \n\n[2757 rows x 37 columns]",
      "text/html": "<div>\n<style scoped>\n    .dataframe tbody tr th:only-of-type {\n        vertical-align: middle;\n    }\n\n    .dataframe tbody tr th {\n        vertical-align: top;\n    }\n\n    .dataframe thead th {\n        text-align: right;\n    }\n</style>\n<table border=\"1\" class=\"dataframe\">\n  <thead>\n    <tr style=\"text-align: right;\">\n      <th></th>\n      <th>id</th>\n      <th>date</th>\n      <th>phones_num</th>\n      <th>phb_fraud</th>\n      <th>phb_dirty</th>\n      <th>phb_all_bad</th>\n      <th>phb_all</th>\n      <th>phb_bad_perc</th>\n      <th>found_phones</th>\n      <th>phb_fraud_dir</th>\n      <th>...</th>\n      <th>ratings_cnt_ya</th>\n      <th>reviews_cnt_ya</th>\n      <th>rating_yell</th>\n      <th>reviews_cnt_yell</th>\n      <th>rating_2gis</th>\n      <th>reviews_cnt_2gis</th>\n      <th>rating_avito</th>\n      <th>reviews_cnt_avito</th>\n      <th>all_reviews_cnt</th>\n      <th>mean_rating</th>\n    </tr>\n  </thead>\n  <tbody>\n    <tr>\n      <th>0</th>\n      <td>a782615660478a</td>\n      <td>2022-10-30 00:00:00</td>\n      <td>1</td>\n      <td>0.0</td>\n      <td>2.0</td>\n      <td>2.0</td>\n      <td>1498.0</td>\n      <td>0.13</td>\n      <td>1.0</td>\n      <td>0.0</td>\n      <td>...</td>\n      <td>0.0</td>\n      <td>15.0</td>\n      <td>4.000000</td>\n      <td>0.0</td>\n      <td>0.000000</td>\n      <td>0.0</td>\n      <td>-1.0</td>\n      <td>0.0</td>\n      <td>15.0</td>\n      <td>4.000000</td>\n    </tr>\n    <tr>\n      <th>4</th>\n      <td>a7728551510a</td>\n      <td>2022-04-28 00:00:00</td>\n      <td>161</td>\n      <td>4.0</td>\n      <td>2.0</td>\n      <td>6.0</td>\n      <td>17842.0</td>\n      <td>0.03</td>\n      <td>145.0</td>\n      <td>0.0</td>\n      <td>...</td>\n      <td>21338.0</td>\n      <td>5772.0</td>\n      <td>4.244828</td>\n      <td>308.0</td>\n      <td>1.358362</td>\n      <td>2943.0</td>\n      <td>-1.0</td>\n      <td>0.0</td>\n      <td>30361.0</td>\n      <td>3.251063</td>\n    </tr>\n    <tr>\n      <th>12</th>\n      <td>a631306312332a</td>\n      <td>2022-09-11 00:00:00</td>\n      <td>4</td>\n      <td>0.0</td>\n      <td>0.0</td>\n      <td>0.0</td>\n      <td>376.0</td>\n      <td>0.00</td>\n      <td>4.0</td>\n      <td>0.0</td>\n      <td>...</td>\n      <td>18.0</td>\n      <td>5.0</td>\n      <td>-1.000000</td>\n      <td>0.0</td>\n      <td>0.000000</td>\n      <td>0.0</td>\n      <td>-1.0</td>\n      <td>0.0</td>\n      <td>23.0</td>\n      <td>3.700000</td>\n    </tr>\n    <tr>\n      <th>15</th>\n      <td>a366322685170a</td>\n      <td>2022-10-02 00:00:00</td>\n      <td>4</td>\n      <td>0.0</td>\n      <td>0.0</td>\n      <td>0.0</td>\n      <td>559.0</td>\n      <td>0.00</td>\n      <td>2.0</td>\n      <td>0.0</td>\n      <td>...</td>\n      <td>0.0</td>\n      <td>0.0</td>\n      <td>4.500000</td>\n      <td>0.0</td>\n      <td>0.000000</td>\n      <td>0.0</td>\n      <td>-1.0</td>\n      <td>0.0</td>\n      <td>0.0</td>\n      <td>4.500000</td>\n    </tr>\n    <tr>\n      <th>31</th>\n      <td>a7805486700a</td>\n      <td>2022-10-08 00:00:00</td>\n      <td>8</td>\n      <td>0.0</td>\n      <td>0.0</td>\n      <td>0.0</td>\n      <td>6645.0</td>\n      <td>0.00</td>\n      <td>6.0</td>\n      <td>0.0</td>\n      <td>...</td>\n      <td>0.0</td>\n      <td>0.0</td>\n      <td>-1.000000</td>\n      <td>0.0</td>\n      <td>0.000000</td>\n      <td>0.0</td>\n      <td>-1.0</td>\n      <td>0.0</td>\n      <td>0.0</td>\n      <td>0.000000</td>\n    </tr>\n    <tr>\n      <th>...</th>\n      <td>...</td>\n      <td>...</td>\n      <td>...</td>\n      <td>...</td>\n      <td>...</td>\n      <td>...</td>\n      <td>...</td>\n      <td>...</td>\n      <td>...</td>\n      <td>...</td>\n      <td>...</td>\n      <td>...</td>\n      <td>...</td>\n      <td>...</td>\n      <td>...</td>\n      <td>...</td>\n      <td>...</td>\n      <td>...</td>\n      <td>...</td>\n      <td>...</td>\n      <td>...</td>\n    </tr>\n    <tr>\n      <th>14955</th>\n      <td>a401122666601a</td>\n      <td>2022-11-05 00:00:00</td>\n      <td>1</td>\n      <td>2.0</td>\n      <td>3.0</td>\n      <td>5.0</td>\n      <td>3405.0</td>\n      <td>0.15</td>\n      <td>1.0</td>\n      <td>0.0</td>\n      <td>...</td>\n      <td>0.0</td>\n      <td>0.0</td>\n      <td>-1.000000</td>\n      <td>0.0</td>\n      <td>-1.000000</td>\n      <td>0.0</td>\n      <td>-1.0</td>\n      <td>0.0</td>\n      <td>0.0</td>\n      <td>0.000000</td>\n    </tr>\n    <tr>\n      <th>14969</th>\n      <td>a773114875929a</td>\n      <td>2022-09-18 00:00:00</td>\n      <td>1</td>\n      <td>0.0</td>\n      <td>0.0</td>\n      <td>0.0</td>\n      <td>416.0</td>\n      <td>0.00</td>\n      <td>1.0</td>\n      <td>0.0</td>\n      <td>...</td>\n      <td>0.0</td>\n      <td>0.0</td>\n      <td>-1.000000</td>\n      <td>0.0</td>\n      <td>-1.000000</td>\n      <td>0.0</td>\n      <td>-1.0</td>\n      <td>0.0</td>\n      <td>0.0</td>\n      <td>0.000000</td>\n    </tr>\n    <tr>\n      <th>14971</th>\n      <td>a027712607104a</td>\n      <td>2022-10-22 00:00:00</td>\n      <td>1</td>\n      <td>0.0</td>\n      <td>0.0</td>\n      <td>0.0</td>\n      <td>479.0</td>\n      <td>0.00</td>\n      <td>1.0</td>\n      <td>0.0</td>\n      <td>...</td>\n      <td>0.0</td>\n      <td>0.0</td>\n      <td>-1.000000</td>\n      <td>0.0</td>\n      <td>-1.000000</td>\n      <td>0.0</td>\n      <td>-1.0</td>\n      <td>0.0</td>\n      <td>0.0</td>\n      <td>0.000000</td>\n    </tr>\n    <tr>\n      <th>14986</th>\n      <td>a242903863394a</td>\n      <td>2022-09-18 00:00:00</td>\n      <td>1</td>\n      <td>0.0</td>\n      <td>0.0</td>\n      <td>0.0</td>\n      <td>580.0</td>\n      <td>0.00</td>\n      <td>1.0</td>\n      <td>0.0</td>\n      <td>...</td>\n      <td>0.0</td>\n      <td>0.0</td>\n      <td>-1.000000</td>\n      <td>0.0</td>\n      <td>-1.000000</td>\n      <td>0.0</td>\n      <td>-1.0</td>\n      <td>0.0</td>\n      <td>0.0</td>\n      <td>0.000000</td>\n    </tr>\n    <tr>\n      <th>14995</th>\n      <td>a390609289521a</td>\n      <td>2022-10-25 00:00:00</td>\n      <td>1</td>\n      <td>0.0</td>\n      <td>0.0</td>\n      <td>0.0</td>\n      <td>669.0</td>\n      <td>0.00</td>\n      <td>1.0</td>\n      <td>0.0</td>\n      <td>...</td>\n      <td>0.0</td>\n      <td>0.0</td>\n      <td>-1.000000</td>\n      <td>0.0</td>\n      <td>-1.000000</td>\n      <td>0.0</td>\n      <td>-1.0</td>\n      <td>0.0</td>\n      <td>0.0</td>\n      <td>0.000000</td>\n    </tr>\n  </tbody>\n</table>\n<p>2757 rows × 37 columns</p>\n</div>"
     },
     "execution_count": 33,
     "metadata": {},
     "output_type": "execute_result"
    }
   ],
   "source": [
    "huge_companies = df[(df['phb_all'] > q90['phb_all']) | (df['appl_num'] > q90['appl_num']) | (df['all_reviews_cnt'] > q90['all_reviews_cnt'])]\n",
    "huge_companies"
   ],
   "metadata": {
    "collapsed": false,
    "pycharm": {
     "name": "#%%\n"
    }
   }
  },
  {
   "cell_type": "code",
   "execution_count": 34,
   "outputs": [
    {
     "data": {
      "text/plain": "       phb_all  all_reviews_cnt  bad_rep_tcb\n107      116.0           1265.0          0.0\n856       15.0          11867.0          0.0\n1073     249.0            759.0          0.0\n1131       4.0            735.0          0.0\n1238     112.0           2538.0          0.0\n1936     380.0            879.0          0.0\n1978      22.0           1023.0          0.0\n2035      18.0          17619.0          0.0\n2161     451.0            799.0          0.0\n2313       6.0        1467875.0          0.0\n2531      97.0           4478.0          0.0\n2596     145.0            940.0          0.0\n2672     258.0            795.0          0.0\n2926       1.0          15360.0          0.0\n2928       2.0          28801.0          0.0\n3272     311.0           1062.0          0.0\n3359     300.0           1821.0          0.0\n3361      15.0            955.0          0.0\n3751       5.0           2196.0          0.0\n4431       2.0           5497.0          0.0\n4588       8.0           4802.0          0.0\n4595     307.0            789.0          0.0\n4909      91.0            765.0          0.0\n4985       3.0            776.0          0.0\n5034       1.0          12168.0          0.0\n5077      13.0          29778.0          0.0\n5268      88.0            810.0          0.0\n5618     260.0            687.0          0.0\n5794     460.0           1231.0          0.0\n5852       1.0           1428.0          0.0\n5854       1.0            892.0          0.0\n5873     117.0            792.0          0.0\n6501      13.0           1433.0          0.0\n6548      47.0          16222.0          0.0\n7076      15.0            955.0          0.0\n7357      15.0         304229.0          0.0\n7412       2.0          28801.0          0.0\n7518       2.0           1868.0          0.0\n7694      53.0           4177.0          0.0\n9104     302.0           3729.0          0.0\n9253       2.0          24152.0          0.0\n10038    118.0          25008.0          0.0\n10125    369.0            765.0          0.0\n10159    147.0           1250.0          0.0\n10169     15.0            955.0          0.0\n11082      1.0          15360.0          0.0\n11296      0.0            961.0          0.0\n13598     20.0            769.0          0.0\n13652     38.0           1213.0          0.0\n14078     30.0            703.0          0.0\n14374      2.0           3522.0          0.0\n14890      1.0          15360.0          0.0",
      "text/html": "<div>\n<style scoped>\n    .dataframe tbody tr th:only-of-type {\n        vertical-align: middle;\n    }\n\n    .dataframe tbody tr th {\n        vertical-align: top;\n    }\n\n    .dataframe thead th {\n        text-align: right;\n    }\n</style>\n<table border=\"1\" class=\"dataframe\">\n  <thead>\n    <tr style=\"text-align: right;\">\n      <th></th>\n      <th>phb_all</th>\n      <th>all_reviews_cnt</th>\n      <th>bad_rep_tcb</th>\n    </tr>\n  </thead>\n  <tbody>\n    <tr>\n      <th>107</th>\n      <td>116.0</td>\n      <td>1265.0</td>\n      <td>0.0</td>\n    </tr>\n    <tr>\n      <th>856</th>\n      <td>15.0</td>\n      <td>11867.0</td>\n      <td>0.0</td>\n    </tr>\n    <tr>\n      <th>1073</th>\n      <td>249.0</td>\n      <td>759.0</td>\n      <td>0.0</td>\n    </tr>\n    <tr>\n      <th>1131</th>\n      <td>4.0</td>\n      <td>735.0</td>\n      <td>0.0</td>\n    </tr>\n    <tr>\n      <th>1238</th>\n      <td>112.0</td>\n      <td>2538.0</td>\n      <td>0.0</td>\n    </tr>\n    <tr>\n      <th>1936</th>\n      <td>380.0</td>\n      <td>879.0</td>\n      <td>0.0</td>\n    </tr>\n    <tr>\n      <th>1978</th>\n      <td>22.0</td>\n      <td>1023.0</td>\n      <td>0.0</td>\n    </tr>\n    <tr>\n      <th>2035</th>\n      <td>18.0</td>\n      <td>17619.0</td>\n      <td>0.0</td>\n    </tr>\n    <tr>\n      <th>2161</th>\n      <td>451.0</td>\n      <td>799.0</td>\n      <td>0.0</td>\n    </tr>\n    <tr>\n      <th>2313</th>\n      <td>6.0</td>\n      <td>1467875.0</td>\n      <td>0.0</td>\n    </tr>\n    <tr>\n      <th>2531</th>\n      <td>97.0</td>\n      <td>4478.0</td>\n      <td>0.0</td>\n    </tr>\n    <tr>\n      <th>2596</th>\n      <td>145.0</td>\n      <td>940.0</td>\n      <td>0.0</td>\n    </tr>\n    <tr>\n      <th>2672</th>\n      <td>258.0</td>\n      <td>795.0</td>\n      <td>0.0</td>\n    </tr>\n    <tr>\n      <th>2926</th>\n      <td>1.0</td>\n      <td>15360.0</td>\n      <td>0.0</td>\n    </tr>\n    <tr>\n      <th>2928</th>\n      <td>2.0</td>\n      <td>28801.0</td>\n      <td>0.0</td>\n    </tr>\n    <tr>\n      <th>3272</th>\n      <td>311.0</td>\n      <td>1062.0</td>\n      <td>0.0</td>\n    </tr>\n    <tr>\n      <th>3359</th>\n      <td>300.0</td>\n      <td>1821.0</td>\n      <td>0.0</td>\n    </tr>\n    <tr>\n      <th>3361</th>\n      <td>15.0</td>\n      <td>955.0</td>\n      <td>0.0</td>\n    </tr>\n    <tr>\n      <th>3751</th>\n      <td>5.0</td>\n      <td>2196.0</td>\n      <td>0.0</td>\n    </tr>\n    <tr>\n      <th>4431</th>\n      <td>2.0</td>\n      <td>5497.0</td>\n      <td>0.0</td>\n    </tr>\n    <tr>\n      <th>4588</th>\n      <td>8.0</td>\n      <td>4802.0</td>\n      <td>0.0</td>\n    </tr>\n    <tr>\n      <th>4595</th>\n      <td>307.0</td>\n      <td>789.0</td>\n      <td>0.0</td>\n    </tr>\n    <tr>\n      <th>4909</th>\n      <td>91.0</td>\n      <td>765.0</td>\n      <td>0.0</td>\n    </tr>\n    <tr>\n      <th>4985</th>\n      <td>3.0</td>\n      <td>776.0</td>\n      <td>0.0</td>\n    </tr>\n    <tr>\n      <th>5034</th>\n      <td>1.0</td>\n      <td>12168.0</td>\n      <td>0.0</td>\n    </tr>\n    <tr>\n      <th>5077</th>\n      <td>13.0</td>\n      <td>29778.0</td>\n      <td>0.0</td>\n    </tr>\n    <tr>\n      <th>5268</th>\n      <td>88.0</td>\n      <td>810.0</td>\n      <td>0.0</td>\n    </tr>\n    <tr>\n      <th>5618</th>\n      <td>260.0</td>\n      <td>687.0</td>\n      <td>0.0</td>\n    </tr>\n    <tr>\n      <th>5794</th>\n      <td>460.0</td>\n      <td>1231.0</td>\n      <td>0.0</td>\n    </tr>\n    <tr>\n      <th>5852</th>\n      <td>1.0</td>\n      <td>1428.0</td>\n      <td>0.0</td>\n    </tr>\n    <tr>\n      <th>5854</th>\n      <td>1.0</td>\n      <td>892.0</td>\n      <td>0.0</td>\n    </tr>\n    <tr>\n      <th>5873</th>\n      <td>117.0</td>\n      <td>792.0</td>\n      <td>0.0</td>\n    </tr>\n    <tr>\n      <th>6501</th>\n      <td>13.0</td>\n      <td>1433.0</td>\n      <td>0.0</td>\n    </tr>\n    <tr>\n      <th>6548</th>\n      <td>47.0</td>\n      <td>16222.0</td>\n      <td>0.0</td>\n    </tr>\n    <tr>\n      <th>7076</th>\n      <td>15.0</td>\n      <td>955.0</td>\n      <td>0.0</td>\n    </tr>\n    <tr>\n      <th>7357</th>\n      <td>15.0</td>\n      <td>304229.0</td>\n      <td>0.0</td>\n    </tr>\n    <tr>\n      <th>7412</th>\n      <td>2.0</td>\n      <td>28801.0</td>\n      <td>0.0</td>\n    </tr>\n    <tr>\n      <th>7518</th>\n      <td>2.0</td>\n      <td>1868.0</td>\n      <td>0.0</td>\n    </tr>\n    <tr>\n      <th>7694</th>\n      <td>53.0</td>\n      <td>4177.0</td>\n      <td>0.0</td>\n    </tr>\n    <tr>\n      <th>9104</th>\n      <td>302.0</td>\n      <td>3729.0</td>\n      <td>0.0</td>\n    </tr>\n    <tr>\n      <th>9253</th>\n      <td>2.0</td>\n      <td>24152.0</td>\n      <td>0.0</td>\n    </tr>\n    <tr>\n      <th>10038</th>\n      <td>118.0</td>\n      <td>25008.0</td>\n      <td>0.0</td>\n    </tr>\n    <tr>\n      <th>10125</th>\n      <td>369.0</td>\n      <td>765.0</td>\n      <td>0.0</td>\n    </tr>\n    <tr>\n      <th>10159</th>\n      <td>147.0</td>\n      <td>1250.0</td>\n      <td>0.0</td>\n    </tr>\n    <tr>\n      <th>10169</th>\n      <td>15.0</td>\n      <td>955.0</td>\n      <td>0.0</td>\n    </tr>\n    <tr>\n      <th>11082</th>\n      <td>1.0</td>\n      <td>15360.0</td>\n      <td>0.0</td>\n    </tr>\n    <tr>\n      <th>11296</th>\n      <td>0.0</td>\n      <td>961.0</td>\n      <td>0.0</td>\n    </tr>\n    <tr>\n      <th>13598</th>\n      <td>20.0</td>\n      <td>769.0</td>\n      <td>0.0</td>\n    </tr>\n    <tr>\n      <th>13652</th>\n      <td>38.0</td>\n      <td>1213.0</td>\n      <td>0.0</td>\n    </tr>\n    <tr>\n      <th>14078</th>\n      <td>30.0</td>\n      <td>703.0</td>\n      <td>0.0</td>\n    </tr>\n    <tr>\n      <th>14374</th>\n      <td>2.0</td>\n      <td>3522.0</td>\n      <td>0.0</td>\n    </tr>\n    <tr>\n      <th>14890</th>\n      <td>1.0</td>\n      <td>15360.0</td>\n      <td>0.0</td>\n    </tr>\n  </tbody>\n</table>\n</div>"
     },
     "execution_count": 34,
     "metadata": {},
     "output_type": "execute_result"
    }
   ],
   "source": [
    "susp_reviews = df[(df['phb_all'] < q25['phb_all']) & (df['all_reviews_cnt'] > q90['all_reviews_cnt'])]\n",
    "susp_reviews[['phb_all', 'all_reviews_cnt', 'bad_rep_tcb']]"
   ],
   "metadata": {
    "collapsed": false,
    "pycharm": {
     "name": "#%%\n"
    }
   }
  },
  {
   "cell_type": "code",
   "execution_count": 35,
   "outputs": [
    {
     "data": {
      "text/plain": "(10415, 37)"
     },
     "execution_count": 35,
     "metadata": {},
     "output_type": "execute_result"
    }
   ],
   "source": [
    "df[df['all_reviews_cnt'] == 0].shape"
   ],
   "metadata": {
    "collapsed": false,
    "pycharm": {
     "name": "#%%\n"
    }
   }
  },
  {
   "cell_type": "code",
   "execution_count": 36,
   "outputs": [
    {
     "data": {
      "text/plain": "0.0       14936\n1.0          18\n2.0          10\n3.0           5\n4.0           5\n13.0          4\n6.0           3\n8.0           3\n5.0           3\n12.0          2\n7.0           2\n51.0          1\n3561.0        1\n11.0          1\n16.0          1\n10.0          1\n17.0          1\n31.0          1\n50.0          1\n43.0          1\nName: total_case_cnt, dtype: int64"
     },
     "execution_count": 36,
     "metadata": {},
     "output_type": "execute_result"
    }
   ],
   "source": [
    "df.total_case_cnt.value_counts()"
   ],
   "metadata": {
    "collapsed": false,
    "pycharm": {
     "name": "#%%\n"
    }
   }
  },
  {
   "cell_type": "code",
   "execution_count": 37,
   "outputs": [
    {
     "data": {
      "text/plain": "                   id                 date  phones_num  phb_fraud  phb_dirty  \\\n411    a550510128162a  2021-06-03 00:00:00           2        0.0        0.0   \n653    a861006882625a  2022-09-06 00:00:00           9        8.0        7.0   \n756    a532113502270a  2022-10-28 00:00:00           4        7.0        0.0   \n1085   a390806572351a  2022-10-25 00:00:00           2        0.0        0.0   \n1144     a5921033506a  2021-06-03 00:00:00           2        0.0        0.0   \n1250   a510303305788a  2022-08-23 00:00:00           2        0.0        0.0   \n1432     a3625015743a  2022-01-05 00:00:00           1        0.0        0.0   \n2266   a771678932214a  2022-08-30 00:00:00           1        0.0        0.0   \n2532   a500409027693a  2022-08-23 00:00:00           1        0.0        0.0   \n2580   a470323355905a  2022-10-16 00:00:00           4       20.0        0.0   \n2702     a3443095110a  2022-08-29 00:00:00           7        0.0        0.0   \n2965   a511002822713a  2022-10-16 00:00:00           3        5.0        1.0   \n3237   a500705131359a  2022-03-02 00:00:00           1        0.0        0.0   \n3521   a430301136830a  2022-10-29 00:00:00           2        0.0        0.0   \n3541   a312700241553a  2022-10-27 00:00:00           3        0.0        0.0   \n4150     a5027198999a  2021-06-03 00:00:00           3        1.0        0.0   \n4812   a421703264891a  2022-10-31 00:00:00           2        1.0        0.0   \n5548   a540789046991a  2022-11-01 00:00:00           5        0.0        0.0   \n5960   a770476146456a  2022-04-19 00:00:00           3        4.0        3.0   \n7886   a615403608805a  2022-08-23 00:00:00           5        0.0        0.0   \n9112     a5407970160a  2022-10-29 00:00:00           1        0.0        0.0   \n9319     a7814731080a  2021-03-31 00:00:00           5        3.0        1.0   \n12648  a242600075203a  2021-08-20 00:00:00           4        0.0        0.0   \n14170    a6164112096a  2022-08-29 00:00:00           1        0.0        0.0   \n\n       phb_all_bad  phb_all  phb_bad_perc  found_phones  phb_fraud_dir  ...  \\\n411            0.0     54.0          0.00           2.0            0.0  ...   \n653           15.0   6175.0          0.24           7.0            3.0  ...   \n756            7.0   1944.0          0.36           4.0            1.0  ...   \n1085           0.0    418.0          0.00           1.0            0.0  ...   \n1144           0.0     75.0          0.00           2.0            0.0  ...   \n1250           0.0   1288.0          0.00           2.0            0.0  ...   \n1432           0.0    107.0          0.00           1.0            0.0  ...   \n2266           0.0   5178.0          0.00           1.0            0.0  ...   \n2532           0.0     72.0          0.00           1.0            0.0  ...   \n2580          20.0   6922.0          0.29           4.0           11.0  ...   \n2702           0.0   1281.0          0.00           7.0            2.0  ...   \n2965           6.0    651.0          0.92           3.0            0.0  ...   \n3237           0.0    637.0          0.00           1.0            0.0  ...   \n3521           0.0    561.0          0.00           2.0            0.0  ...   \n3541           0.0    929.0          0.00           3.0            0.0  ...   \n4150           1.0    224.0          0.45           3.0            0.0  ...   \n4812           1.0    304.0          0.33           2.0            1.0  ...   \n5548           0.0   5989.0          0.00           5.0            0.0  ...   \n5960           7.0   4141.0          0.17           3.0            2.0  ...   \n7886           0.0   2578.0          0.00           5.0            0.0  ...   \n9112           0.0    294.0          0.00           1.0            0.0  ...   \n9319           4.0    513.0          0.78           4.0            1.0  ...   \n12648          0.0    170.0          0.00           3.0            0.0  ...   \n14170          0.0   1474.0          0.00           1.0            2.0  ...   \n\n       ratings_cnt_ya  reviews_cnt_ya  rating_yell  reviews_cnt_yell  \\\n411               0.0             0.0        -1.00               0.0   \n653              58.0            48.0         4.40              21.0   \n756               0.0             0.0         5.00               2.0   \n1085              0.0             0.0        -1.00               0.0   \n1144              0.0             0.0        -1.00               0.0   \n1250              0.0             0.0        -1.00               0.0   \n1432              0.0             0.0        -1.00               0.0   \n2266              0.0             0.0        -1.00               0.0   \n2532              0.0             0.0        -1.00               0.0   \n2580              0.0             0.0        -1.00               0.0   \n2702              0.0             0.0        -1.00               0.0   \n2965              0.0             0.0        -1.00               0.0   \n3237              0.0             0.0        -1.00               0.0   \n3521              0.0             0.0        -1.00               0.0   \n3541              0.0             0.0         4.25               0.0   \n4150              0.0             0.0        -1.00               0.0   \n4812              0.0             0.0        -1.00               0.0   \n5548              0.0             0.0         4.50               1.0   \n5960              0.0             0.0        -1.00               0.0   \n7886             18.0             7.0         4.50               0.0   \n9112              0.0             0.0        -1.00               0.0   \n9319              0.0             0.0         4.10              16.0   \n12648             0.0             0.0        -1.00               0.0   \n14170             0.0             0.0        -1.00               0.0   \n\n       rating_2gis  reviews_cnt_2gis  rating_avito  reviews_cnt_avito  \\\n411          -1.00               0.0          -1.0                0.0   \n653           1.25               3.0          -1.0                0.0   \n756           1.90               8.0           4.8               17.0   \n1085         -1.00               0.0          -1.0                0.0   \n1144         -1.00               0.0          -1.0                0.0   \n1250         -1.00               0.0          -1.0                0.0   \n1432         -1.00               0.0          -1.0                0.0   \n2266         -1.00               0.0          -1.0                0.0   \n2532         -1.00               0.0          -1.0                0.0   \n2580         -1.00               0.0          -1.0                0.0   \n2702          0.00               0.0          -1.0                0.0   \n2965         -1.00               0.0          -1.0                0.0   \n3237         -1.00               0.0          -1.0                0.0   \n3521         -1.00               0.0          -1.0                0.0   \n3541          0.00               0.0          -1.0                0.0   \n4150         -1.00               0.0          -1.0                0.0   \n4812         -1.00               0.0          -1.0                0.0   \n5548          4.80             188.0          -1.0                0.0   \n5960         -1.00               0.0          -1.0                0.0   \n7886         -1.00               0.0          -1.0                0.0   \n9112         -1.00               0.0          -1.0                0.0   \n9319          5.00               1.0          -1.0                0.0   \n12648        -1.00               0.0          -1.0                0.0   \n14170        -1.00               0.0          -1.0                0.0   \n\n       all_reviews_cnt  mean_rating  \n411                0.0         0.00  \n653              130.0         3.35  \n756               27.0         3.90  \n1085               0.0         0.00  \n1144               0.0         0.00  \n1250               0.0         0.00  \n1432               0.0         0.00  \n2266               0.0         0.00  \n2532               0.0         0.00  \n2580               0.0         0.00  \n2702               0.0         0.00  \n2965               0.0         0.00  \n3237               0.0         0.00  \n3521               0.0         0.00  \n3541               0.0         4.25  \n4150               0.0         0.00  \n4812               0.0         0.00  \n5548             189.0         4.65  \n5960               0.0         0.00  \n7886              25.0         4.40  \n9112               0.0         0.00  \n9319              17.0         4.55  \n12648              0.0         0.00  \n14170              0.0         0.00  \n\n[24 rows x 37 columns]",
      "text/html": "<div>\n<style scoped>\n    .dataframe tbody tr th:only-of-type {\n        vertical-align: middle;\n    }\n\n    .dataframe tbody tr th {\n        vertical-align: top;\n    }\n\n    .dataframe thead th {\n        text-align: right;\n    }\n</style>\n<table border=\"1\" class=\"dataframe\">\n  <thead>\n    <tr style=\"text-align: right;\">\n      <th></th>\n      <th>id</th>\n      <th>date</th>\n      <th>phones_num</th>\n      <th>phb_fraud</th>\n      <th>phb_dirty</th>\n      <th>phb_all_bad</th>\n      <th>phb_all</th>\n      <th>phb_bad_perc</th>\n      <th>found_phones</th>\n      <th>phb_fraud_dir</th>\n      <th>...</th>\n      <th>ratings_cnt_ya</th>\n      <th>reviews_cnt_ya</th>\n      <th>rating_yell</th>\n      <th>reviews_cnt_yell</th>\n      <th>rating_2gis</th>\n      <th>reviews_cnt_2gis</th>\n      <th>rating_avito</th>\n      <th>reviews_cnt_avito</th>\n      <th>all_reviews_cnt</th>\n      <th>mean_rating</th>\n    </tr>\n  </thead>\n  <tbody>\n    <tr>\n      <th>411</th>\n      <td>a550510128162a</td>\n      <td>2021-06-03 00:00:00</td>\n      <td>2</td>\n      <td>0.0</td>\n      <td>0.0</td>\n      <td>0.0</td>\n      <td>54.0</td>\n      <td>0.00</td>\n      <td>2.0</td>\n      <td>0.0</td>\n      <td>...</td>\n      <td>0.0</td>\n      <td>0.0</td>\n      <td>-1.00</td>\n      <td>0.0</td>\n      <td>-1.00</td>\n      <td>0.0</td>\n      <td>-1.0</td>\n      <td>0.0</td>\n      <td>0.0</td>\n      <td>0.00</td>\n    </tr>\n    <tr>\n      <th>653</th>\n      <td>a861006882625a</td>\n      <td>2022-09-06 00:00:00</td>\n      <td>9</td>\n      <td>8.0</td>\n      <td>7.0</td>\n      <td>15.0</td>\n      <td>6175.0</td>\n      <td>0.24</td>\n      <td>7.0</td>\n      <td>3.0</td>\n      <td>...</td>\n      <td>58.0</td>\n      <td>48.0</td>\n      <td>4.40</td>\n      <td>21.0</td>\n      <td>1.25</td>\n      <td>3.0</td>\n      <td>-1.0</td>\n      <td>0.0</td>\n      <td>130.0</td>\n      <td>3.35</td>\n    </tr>\n    <tr>\n      <th>756</th>\n      <td>a532113502270a</td>\n      <td>2022-10-28 00:00:00</td>\n      <td>4</td>\n      <td>7.0</td>\n      <td>0.0</td>\n      <td>7.0</td>\n      <td>1944.0</td>\n      <td>0.36</td>\n      <td>4.0</td>\n      <td>1.0</td>\n      <td>...</td>\n      <td>0.0</td>\n      <td>0.0</td>\n      <td>5.00</td>\n      <td>2.0</td>\n      <td>1.90</td>\n      <td>8.0</td>\n      <td>4.8</td>\n      <td>17.0</td>\n      <td>27.0</td>\n      <td>3.90</td>\n    </tr>\n    <tr>\n      <th>1085</th>\n      <td>a390806572351a</td>\n      <td>2022-10-25 00:00:00</td>\n      <td>2</td>\n      <td>0.0</td>\n      <td>0.0</td>\n      <td>0.0</td>\n      <td>418.0</td>\n      <td>0.00</td>\n      <td>1.0</td>\n      <td>0.0</td>\n      <td>...</td>\n      <td>0.0</td>\n      <td>0.0</td>\n      <td>-1.00</td>\n      <td>0.0</td>\n      <td>-1.00</td>\n      <td>0.0</td>\n      <td>-1.0</td>\n      <td>0.0</td>\n      <td>0.0</td>\n      <td>0.00</td>\n    </tr>\n    <tr>\n      <th>1144</th>\n      <td>a5921033506a</td>\n      <td>2021-06-03 00:00:00</td>\n      <td>2</td>\n      <td>0.0</td>\n      <td>0.0</td>\n      <td>0.0</td>\n      <td>75.0</td>\n      <td>0.00</td>\n      <td>2.0</td>\n      <td>0.0</td>\n      <td>...</td>\n      <td>0.0</td>\n      <td>0.0</td>\n      <td>-1.00</td>\n      <td>0.0</td>\n      <td>-1.00</td>\n      <td>0.0</td>\n      <td>-1.0</td>\n      <td>0.0</td>\n      <td>0.0</td>\n      <td>0.00</td>\n    </tr>\n    <tr>\n      <th>1250</th>\n      <td>a510303305788a</td>\n      <td>2022-08-23 00:00:00</td>\n      <td>2</td>\n      <td>0.0</td>\n      <td>0.0</td>\n      <td>0.0</td>\n      <td>1288.0</td>\n      <td>0.00</td>\n      <td>2.0</td>\n      <td>0.0</td>\n      <td>...</td>\n      <td>0.0</td>\n      <td>0.0</td>\n      <td>-1.00</td>\n      <td>0.0</td>\n      <td>-1.00</td>\n      <td>0.0</td>\n      <td>-1.0</td>\n      <td>0.0</td>\n      <td>0.0</td>\n      <td>0.00</td>\n    </tr>\n    <tr>\n      <th>1432</th>\n      <td>a3625015743a</td>\n      <td>2022-01-05 00:00:00</td>\n      <td>1</td>\n      <td>0.0</td>\n      <td>0.0</td>\n      <td>0.0</td>\n      <td>107.0</td>\n      <td>0.00</td>\n      <td>1.0</td>\n      <td>0.0</td>\n      <td>...</td>\n      <td>0.0</td>\n      <td>0.0</td>\n      <td>-1.00</td>\n      <td>0.0</td>\n      <td>-1.00</td>\n      <td>0.0</td>\n      <td>-1.0</td>\n      <td>0.0</td>\n      <td>0.0</td>\n      <td>0.00</td>\n    </tr>\n    <tr>\n      <th>2266</th>\n      <td>a771678932214a</td>\n      <td>2022-08-30 00:00:00</td>\n      <td>1</td>\n      <td>0.0</td>\n      <td>0.0</td>\n      <td>0.0</td>\n      <td>5178.0</td>\n      <td>0.00</td>\n      <td>1.0</td>\n      <td>0.0</td>\n      <td>...</td>\n      <td>0.0</td>\n      <td>0.0</td>\n      <td>-1.00</td>\n      <td>0.0</td>\n      <td>-1.00</td>\n      <td>0.0</td>\n      <td>-1.0</td>\n      <td>0.0</td>\n      <td>0.0</td>\n      <td>0.00</td>\n    </tr>\n    <tr>\n      <th>2532</th>\n      <td>a500409027693a</td>\n      <td>2022-08-23 00:00:00</td>\n      <td>1</td>\n      <td>0.0</td>\n      <td>0.0</td>\n      <td>0.0</td>\n      <td>72.0</td>\n      <td>0.00</td>\n      <td>1.0</td>\n      <td>0.0</td>\n      <td>...</td>\n      <td>0.0</td>\n      <td>0.0</td>\n      <td>-1.00</td>\n      <td>0.0</td>\n      <td>-1.00</td>\n      <td>0.0</td>\n      <td>-1.0</td>\n      <td>0.0</td>\n      <td>0.0</td>\n      <td>0.00</td>\n    </tr>\n    <tr>\n      <th>2580</th>\n      <td>a470323355905a</td>\n      <td>2022-10-16 00:00:00</td>\n      <td>4</td>\n      <td>20.0</td>\n      <td>0.0</td>\n      <td>20.0</td>\n      <td>6922.0</td>\n      <td>0.29</td>\n      <td>4.0</td>\n      <td>11.0</td>\n      <td>...</td>\n      <td>0.0</td>\n      <td>0.0</td>\n      <td>-1.00</td>\n      <td>0.0</td>\n      <td>-1.00</td>\n      <td>0.0</td>\n      <td>-1.0</td>\n      <td>0.0</td>\n      <td>0.0</td>\n      <td>0.00</td>\n    </tr>\n    <tr>\n      <th>2702</th>\n      <td>a3443095110a</td>\n      <td>2022-08-29 00:00:00</td>\n      <td>7</td>\n      <td>0.0</td>\n      <td>0.0</td>\n      <td>0.0</td>\n      <td>1281.0</td>\n      <td>0.00</td>\n      <td>7.0</td>\n      <td>2.0</td>\n      <td>...</td>\n      <td>0.0</td>\n      <td>0.0</td>\n      <td>-1.00</td>\n      <td>0.0</td>\n      <td>0.00</td>\n      <td>0.0</td>\n      <td>-1.0</td>\n      <td>0.0</td>\n      <td>0.0</td>\n      <td>0.00</td>\n    </tr>\n    <tr>\n      <th>2965</th>\n      <td>a511002822713a</td>\n      <td>2022-10-16 00:00:00</td>\n      <td>3</td>\n      <td>5.0</td>\n      <td>1.0</td>\n      <td>6.0</td>\n      <td>651.0</td>\n      <td>0.92</td>\n      <td>3.0</td>\n      <td>0.0</td>\n      <td>...</td>\n      <td>0.0</td>\n      <td>0.0</td>\n      <td>-1.00</td>\n      <td>0.0</td>\n      <td>-1.00</td>\n      <td>0.0</td>\n      <td>-1.0</td>\n      <td>0.0</td>\n      <td>0.0</td>\n      <td>0.00</td>\n    </tr>\n    <tr>\n      <th>3237</th>\n      <td>a500705131359a</td>\n      <td>2022-03-02 00:00:00</td>\n      <td>1</td>\n      <td>0.0</td>\n      <td>0.0</td>\n      <td>0.0</td>\n      <td>637.0</td>\n      <td>0.00</td>\n      <td>1.0</td>\n      <td>0.0</td>\n      <td>...</td>\n      <td>0.0</td>\n      <td>0.0</td>\n      <td>-1.00</td>\n      <td>0.0</td>\n      <td>-1.00</td>\n      <td>0.0</td>\n      <td>-1.0</td>\n      <td>0.0</td>\n      <td>0.0</td>\n      <td>0.00</td>\n    </tr>\n    <tr>\n      <th>3521</th>\n      <td>a430301136830a</td>\n      <td>2022-10-29 00:00:00</td>\n      <td>2</td>\n      <td>0.0</td>\n      <td>0.0</td>\n      <td>0.0</td>\n      <td>561.0</td>\n      <td>0.00</td>\n      <td>2.0</td>\n      <td>0.0</td>\n      <td>...</td>\n      <td>0.0</td>\n      <td>0.0</td>\n      <td>-1.00</td>\n      <td>0.0</td>\n      <td>-1.00</td>\n      <td>0.0</td>\n      <td>-1.0</td>\n      <td>0.0</td>\n      <td>0.0</td>\n      <td>0.00</td>\n    </tr>\n    <tr>\n      <th>3541</th>\n      <td>a312700241553a</td>\n      <td>2022-10-27 00:00:00</td>\n      <td>3</td>\n      <td>0.0</td>\n      <td>0.0</td>\n      <td>0.0</td>\n      <td>929.0</td>\n      <td>0.00</td>\n      <td>3.0</td>\n      <td>0.0</td>\n      <td>...</td>\n      <td>0.0</td>\n      <td>0.0</td>\n      <td>4.25</td>\n      <td>0.0</td>\n      <td>0.00</td>\n      <td>0.0</td>\n      <td>-1.0</td>\n      <td>0.0</td>\n      <td>0.0</td>\n      <td>4.25</td>\n    </tr>\n    <tr>\n      <th>4150</th>\n      <td>a5027198999a</td>\n      <td>2021-06-03 00:00:00</td>\n      <td>3</td>\n      <td>1.0</td>\n      <td>0.0</td>\n      <td>1.0</td>\n      <td>224.0</td>\n      <td>0.45</td>\n      <td>3.0</td>\n      <td>0.0</td>\n      <td>...</td>\n      <td>0.0</td>\n      <td>0.0</td>\n      <td>-1.00</td>\n      <td>0.0</td>\n      <td>-1.00</td>\n      <td>0.0</td>\n      <td>-1.0</td>\n      <td>0.0</td>\n      <td>0.0</td>\n      <td>0.00</td>\n    </tr>\n    <tr>\n      <th>4812</th>\n      <td>a421703264891a</td>\n      <td>2022-10-31 00:00:00</td>\n      <td>2</td>\n      <td>1.0</td>\n      <td>0.0</td>\n      <td>1.0</td>\n      <td>304.0</td>\n      <td>0.33</td>\n      <td>2.0</td>\n      <td>1.0</td>\n      <td>...</td>\n      <td>0.0</td>\n      <td>0.0</td>\n      <td>-1.00</td>\n      <td>0.0</td>\n      <td>-1.00</td>\n      <td>0.0</td>\n      <td>-1.0</td>\n      <td>0.0</td>\n      <td>0.0</td>\n      <td>0.00</td>\n    </tr>\n    <tr>\n      <th>5548</th>\n      <td>a540789046991a</td>\n      <td>2022-11-01 00:00:00</td>\n      <td>5</td>\n      <td>0.0</td>\n      <td>0.0</td>\n      <td>0.0</td>\n      <td>5989.0</td>\n      <td>0.00</td>\n      <td>5.0</td>\n      <td>0.0</td>\n      <td>...</td>\n      <td>0.0</td>\n      <td>0.0</td>\n      <td>4.50</td>\n      <td>1.0</td>\n      <td>4.80</td>\n      <td>188.0</td>\n      <td>-1.0</td>\n      <td>0.0</td>\n      <td>189.0</td>\n      <td>4.65</td>\n    </tr>\n    <tr>\n      <th>5960</th>\n      <td>a770476146456a</td>\n      <td>2022-04-19 00:00:00</td>\n      <td>3</td>\n      <td>4.0</td>\n      <td>3.0</td>\n      <td>7.0</td>\n      <td>4141.0</td>\n      <td>0.17</td>\n      <td>3.0</td>\n      <td>2.0</td>\n      <td>...</td>\n      <td>0.0</td>\n      <td>0.0</td>\n      <td>-1.00</td>\n      <td>0.0</td>\n      <td>-1.00</td>\n      <td>0.0</td>\n      <td>-1.0</td>\n      <td>0.0</td>\n      <td>0.0</td>\n      <td>0.00</td>\n    </tr>\n    <tr>\n      <th>7886</th>\n      <td>a615403608805a</td>\n      <td>2022-08-23 00:00:00</td>\n      <td>5</td>\n      <td>0.0</td>\n      <td>0.0</td>\n      <td>0.0</td>\n      <td>2578.0</td>\n      <td>0.00</td>\n      <td>5.0</td>\n      <td>0.0</td>\n      <td>...</td>\n      <td>18.0</td>\n      <td>7.0</td>\n      <td>4.50</td>\n      <td>0.0</td>\n      <td>-1.00</td>\n      <td>0.0</td>\n      <td>-1.0</td>\n      <td>0.0</td>\n      <td>25.0</td>\n      <td>4.40</td>\n    </tr>\n    <tr>\n      <th>9112</th>\n      <td>a5407970160a</td>\n      <td>2022-10-29 00:00:00</td>\n      <td>1</td>\n      <td>0.0</td>\n      <td>0.0</td>\n      <td>0.0</td>\n      <td>294.0</td>\n      <td>0.00</td>\n      <td>1.0</td>\n      <td>0.0</td>\n      <td>...</td>\n      <td>0.0</td>\n      <td>0.0</td>\n      <td>-1.00</td>\n      <td>0.0</td>\n      <td>-1.00</td>\n      <td>0.0</td>\n      <td>-1.0</td>\n      <td>0.0</td>\n      <td>0.0</td>\n      <td>0.00</td>\n    </tr>\n    <tr>\n      <th>9319</th>\n      <td>a7814731080a</td>\n      <td>2021-03-31 00:00:00</td>\n      <td>5</td>\n      <td>3.0</td>\n      <td>1.0</td>\n      <td>4.0</td>\n      <td>513.0</td>\n      <td>0.78</td>\n      <td>4.0</td>\n      <td>1.0</td>\n      <td>...</td>\n      <td>0.0</td>\n      <td>0.0</td>\n      <td>4.10</td>\n      <td>16.0</td>\n      <td>5.00</td>\n      <td>1.0</td>\n      <td>-1.0</td>\n      <td>0.0</td>\n      <td>17.0</td>\n      <td>4.55</td>\n    </tr>\n    <tr>\n      <th>12648</th>\n      <td>a242600075203a</td>\n      <td>2021-08-20 00:00:00</td>\n      <td>4</td>\n      <td>0.0</td>\n      <td>0.0</td>\n      <td>0.0</td>\n      <td>170.0</td>\n      <td>0.00</td>\n      <td>3.0</td>\n      <td>0.0</td>\n      <td>...</td>\n      <td>0.0</td>\n      <td>0.0</td>\n      <td>-1.00</td>\n      <td>0.0</td>\n      <td>-1.00</td>\n      <td>0.0</td>\n      <td>-1.0</td>\n      <td>0.0</td>\n      <td>0.0</td>\n      <td>0.00</td>\n    </tr>\n    <tr>\n      <th>14170</th>\n      <td>a6164112096a</td>\n      <td>2022-08-29 00:00:00</td>\n      <td>1</td>\n      <td>0.0</td>\n      <td>0.0</td>\n      <td>0.0</td>\n      <td>1474.0</td>\n      <td>0.00</td>\n      <td>1.0</td>\n      <td>2.0</td>\n      <td>...</td>\n      <td>0.0</td>\n      <td>0.0</td>\n      <td>-1.00</td>\n      <td>0.0</td>\n      <td>-1.00</td>\n      <td>0.0</td>\n      <td>-1.0</td>\n      <td>0.0</td>\n      <td>0.0</td>\n      <td>0.00</td>\n    </tr>\n  </tbody>\n</table>\n<p>24 rows × 37 columns</p>\n</div>"
     },
     "execution_count": 37,
     "metadata": {},
     "output_type": "execute_result"
    }
   ],
   "source": [
    "df[df.bad_rep_tcb == 1]"
   ],
   "metadata": {
    "collapsed": false,
    "pycharm": {
     "name": "#%%\n"
    }
   }
  },
  {
   "cell_type": "markdown",
   "source": [
    "для определения популярности (размера) берем phb_all, phones_num"
   ],
   "metadata": {
    "collapsed": false,
    "pycharm": {
     "name": "#%% md\n"
    }
   }
  },
  {
   "cell_type": "code",
   "execution_count": 38,
   "outputs": [
    {
     "data": {
      "text/plain": "count    1.500000e+04\nmean     4.118891e+03\nstd      6.010961e+04\nmin      0.000000e+00\n25%      2.280000e+02\n50%      6.620000e+02\n75%      1.549000e+03\nmax      5.693618e+06\nName: phb_all, dtype: float64"
     },
     "execution_count": 38,
     "metadata": {},
     "output_type": "execute_result"
    }
   ],
   "source": [
    "df.phb_all.describe()"
   ],
   "metadata": {
    "collapsed": false,
    "pycharm": {
     "name": "#%%\n"
    }
   }
  },
  {
   "cell_type": "code",
   "execution_count": 39,
   "outputs": [
    {
     "data": {
      "text/plain": "count    15000.000000\nmean        12.604400\nstd        151.777264\nmin          1.000000\n25%          1.000000\n50%          2.000000\n75%          4.000000\nmax       8090.000000\nName: phones_num, dtype: float64"
     },
     "execution_count": 39,
     "metadata": {},
     "output_type": "execute_result"
    }
   ],
   "source": [
    "df.phones_num.describe()"
   ],
   "metadata": {
    "collapsed": false,
    "pycharm": {
     "name": "#%%\n"
    }
   }
  },
  {
   "cell_type": "code",
   "execution_count": 40,
   "outputs": [
    {
     "data": {
      "text/plain": "1749.125"
     },
     "execution_count": 40,
     "metadata": {},
     "output_type": "execute_result"
    }
   ],
   "source": [
    "df[df.bad_rep_tcb == 1].phb_all.mean()"
   ],
   "metadata": {
    "collapsed": false,
    "pycharm": {
     "name": "#%%\n"
    }
   }
  },
  {
   "cell_type": "code",
   "execution_count": 41,
   "outputs": [
    {
     "data": {
      "text/plain": "4122.688969017094"
     },
     "execution_count": 41,
     "metadata": {},
     "output_type": "execute_result"
    }
   ],
   "source": [
    "df[df.bad_rep_tcb == 0].phb_all.mean()"
   ],
   "metadata": {
    "collapsed": false,
    "pycharm": {
     "name": "#%%\n"
    }
   }
  },
  {
   "cell_type": "code",
   "execution_count": 42,
   "outputs": [
    {
     "name": "stdout",
     "output_type": "stream",
     "text": [
      "0.00          0.0\n",
      "0.25        228.0\n",
      "0.50        662.0\n",
      "0.75       1549.0\n",
      "1.00    5693618.0\n",
      "Name: phb_all, dtype: float64\n"
     ]
    },
    {
     "data": {
      "text/plain": "               id                 date  phones_num  phb_fraud  phb_dirty  \\\n0  a782615660478a  2022-10-30 00:00:00           1        0.0        2.0   \n1    a7706752171a  2022-01-15 00:00:00          16        0.0        0.0   \n2  a745212602258a  2021-06-03 00:00:00           4        0.0        0.0   \n3    a2466264323a  2022-09-25 00:00:00           3        0.0        0.0   \n4    a7728551510a  2022-04-28 00:00:00         161        4.0        2.0   \n\n   phb_all_bad  phb_all  phb_bad_perc  found_phones  phb_fraud_dir  ...  \\\n0          2.0   1498.0          0.13           1.0            0.0  ...   \n1          0.0   2421.0          0.00          16.0            0.0  ...   \n2          0.0   1503.0          0.00           3.0            0.0  ...   \n3          0.0     77.0          0.00           2.0            0.0  ...   \n4          6.0  17842.0          0.03         145.0            0.0  ...   \n\n   reviews_cnt_ya  rating_yell  reviews_cnt_yell  rating_2gis  \\\n0            15.0     4.000000               0.0     0.000000   \n1            39.0     3.700000               1.0     0.142857   \n2             4.0     4.000000               0.0     0.000000   \n3             2.0     4.500000               0.0     4.800000   \n4          5772.0     4.244828             308.0     1.358362   \n\n   reviews_cnt_2gis  rating_avito  reviews_cnt_avito  all_reviews_cnt  \\\n0               0.0          -1.0                0.0             15.0   \n1               2.0           4.8                5.0            161.0   \n2               0.0          -1.0                0.0              4.0   \n3               5.0          -1.0                0.0              7.0   \n4            2943.0          -1.0                0.0          30361.0   \n\n   mean_rating  popularity  \n0     4.000000           3  \n1     3.198214           4  \n2     4.000000           3  \n3     4.650000           1  \n4     3.251063           4  \n\n[5 rows x 38 columns]",
      "text/html": "<div>\n<style scoped>\n    .dataframe tbody tr th:only-of-type {\n        vertical-align: middle;\n    }\n\n    .dataframe tbody tr th {\n        vertical-align: top;\n    }\n\n    .dataframe thead th {\n        text-align: right;\n    }\n</style>\n<table border=\"1\" class=\"dataframe\">\n  <thead>\n    <tr style=\"text-align: right;\">\n      <th></th>\n      <th>id</th>\n      <th>date</th>\n      <th>phones_num</th>\n      <th>phb_fraud</th>\n      <th>phb_dirty</th>\n      <th>phb_all_bad</th>\n      <th>phb_all</th>\n      <th>phb_bad_perc</th>\n      <th>found_phones</th>\n      <th>phb_fraud_dir</th>\n      <th>...</th>\n      <th>reviews_cnt_ya</th>\n      <th>rating_yell</th>\n      <th>reviews_cnt_yell</th>\n      <th>rating_2gis</th>\n      <th>reviews_cnt_2gis</th>\n      <th>rating_avito</th>\n      <th>reviews_cnt_avito</th>\n      <th>all_reviews_cnt</th>\n      <th>mean_rating</th>\n      <th>popularity</th>\n    </tr>\n  </thead>\n  <tbody>\n    <tr>\n      <th>0</th>\n      <td>a782615660478a</td>\n      <td>2022-10-30 00:00:00</td>\n      <td>1</td>\n      <td>0.0</td>\n      <td>2.0</td>\n      <td>2.0</td>\n      <td>1498.0</td>\n      <td>0.13</td>\n      <td>1.0</td>\n      <td>0.0</td>\n      <td>...</td>\n      <td>15.0</td>\n      <td>4.000000</td>\n      <td>0.0</td>\n      <td>0.000000</td>\n      <td>0.0</td>\n      <td>-1.0</td>\n      <td>0.0</td>\n      <td>15.0</td>\n      <td>4.000000</td>\n      <td>3</td>\n    </tr>\n    <tr>\n      <th>1</th>\n      <td>a7706752171a</td>\n      <td>2022-01-15 00:00:00</td>\n      <td>16</td>\n      <td>0.0</td>\n      <td>0.0</td>\n      <td>0.0</td>\n      <td>2421.0</td>\n      <td>0.00</td>\n      <td>16.0</td>\n      <td>0.0</td>\n      <td>...</td>\n      <td>39.0</td>\n      <td>3.700000</td>\n      <td>1.0</td>\n      <td>0.142857</td>\n      <td>2.0</td>\n      <td>4.8</td>\n      <td>5.0</td>\n      <td>161.0</td>\n      <td>3.198214</td>\n      <td>4</td>\n    </tr>\n    <tr>\n      <th>2</th>\n      <td>a745212602258a</td>\n      <td>2021-06-03 00:00:00</td>\n      <td>4</td>\n      <td>0.0</td>\n      <td>0.0</td>\n      <td>0.0</td>\n      <td>1503.0</td>\n      <td>0.00</td>\n      <td>3.0</td>\n      <td>0.0</td>\n      <td>...</td>\n      <td>4.0</td>\n      <td>4.000000</td>\n      <td>0.0</td>\n      <td>0.000000</td>\n      <td>0.0</td>\n      <td>-1.0</td>\n      <td>0.0</td>\n      <td>4.0</td>\n      <td>4.000000</td>\n      <td>3</td>\n    </tr>\n    <tr>\n      <th>3</th>\n      <td>a2466264323a</td>\n      <td>2022-09-25 00:00:00</td>\n      <td>3</td>\n      <td>0.0</td>\n      <td>0.0</td>\n      <td>0.0</td>\n      <td>77.0</td>\n      <td>0.00</td>\n      <td>2.0</td>\n      <td>0.0</td>\n      <td>...</td>\n      <td>2.0</td>\n      <td>4.500000</td>\n      <td>0.0</td>\n      <td>4.800000</td>\n      <td>5.0</td>\n      <td>-1.0</td>\n      <td>0.0</td>\n      <td>7.0</td>\n      <td>4.650000</td>\n      <td>1</td>\n    </tr>\n    <tr>\n      <th>4</th>\n      <td>a7728551510a</td>\n      <td>2022-04-28 00:00:00</td>\n      <td>161</td>\n      <td>4.0</td>\n      <td>2.0</td>\n      <td>6.0</td>\n      <td>17842.0</td>\n      <td>0.03</td>\n      <td>145.0</td>\n      <td>0.0</td>\n      <td>...</td>\n      <td>5772.0</td>\n      <td>4.244828</td>\n      <td>308.0</td>\n      <td>1.358362</td>\n      <td>2943.0</td>\n      <td>-1.0</td>\n      <td>0.0</td>\n      <td>30361.0</td>\n      <td>3.251063</td>\n      <td>4</td>\n    </tr>\n  </tbody>\n</table>\n<p>5 rows × 38 columns</p>\n</div>"
     },
     "execution_count": 42,
     "metadata": {},
     "output_type": "execute_result"
    }
   ],
   "source": [
    "q = df.phb_all.quantile([0, 0.25, 0.50, 0.75, 1])\n",
    "print(q)\n",
    "def get_size(phb_cnt):\n",
    "    for i, v in enumerate(q.values):\n",
    "        if phb_cnt <= v:\n",
    "            return i\n",
    "\n",
    "df['popularity'] = df['phb_all'].apply(lambda x: get_size(x))\n",
    "df.head()"
   ],
   "metadata": {
    "collapsed": false,
    "pycharm": {
     "name": "#%%\n"
    }
   }
  },
  {
   "cell_type": "code",
   "execution_count": 43,
   "outputs": [
    {
     "data": {
      "text/plain": "                 phb_all  appl_num  all_reviews_cnt\npopularity                                         \n0               0.000000  2.000000       113.272727\n1              92.414484  1.974078       558.843666\n2             423.127001  2.501067        15.123799\n3            1040.448533  2.570400        42.391200\n4           14923.977594  2.132302      1226.923446",
      "text/html": "<div>\n<style scoped>\n    .dataframe tbody tr th:only-of-type {\n        vertical-align: middle;\n    }\n\n    .dataframe tbody tr th {\n        vertical-align: top;\n    }\n\n    .dataframe thead th {\n        text-align: right;\n    }\n</style>\n<table border=\"1\" class=\"dataframe\">\n  <thead>\n    <tr style=\"text-align: right;\">\n      <th></th>\n      <th>phb_all</th>\n      <th>appl_num</th>\n      <th>all_reviews_cnt</th>\n    </tr>\n    <tr>\n      <th>popularity</th>\n      <th></th>\n      <th></th>\n      <th></th>\n    </tr>\n  </thead>\n  <tbody>\n    <tr>\n      <th>0</th>\n      <td>0.000000</td>\n      <td>2.000000</td>\n      <td>113.272727</td>\n    </tr>\n    <tr>\n      <th>1</th>\n      <td>92.414484</td>\n      <td>1.974078</td>\n      <td>558.843666</td>\n    </tr>\n    <tr>\n      <th>2</th>\n      <td>423.127001</td>\n      <td>2.501067</td>\n      <td>15.123799</td>\n    </tr>\n    <tr>\n      <th>3</th>\n      <td>1040.448533</td>\n      <td>2.570400</td>\n      <td>42.391200</td>\n    </tr>\n    <tr>\n      <th>4</th>\n      <td>14923.977594</td>\n      <td>2.132302</td>\n      <td>1226.923446</td>\n    </tr>\n  </tbody>\n</table>\n</div>"
     },
     "execution_count": 43,
     "metadata": {},
     "output_type": "execute_result"
    }
   ],
   "source": [
    "df.groupby('popularity')[size_columns].mean()"
   ],
   "metadata": {
    "collapsed": false,
    "pycharm": {
     "name": "#%%\n"
    }
   }
  },
  {
   "cell_type": "code",
   "execution_count": 44,
   "outputs": [
    {
     "data": {
      "text/plain": "        phones_num    phb_fraud    phb_dirty  phb_all_bad      phb_all  \\\ncount  3753.000000  3753.000000  3753.000000  3753.000000  3753.000000   \nmean      5.455902     0.062084     0.047962     0.110045    92.143618   \nstd      50.711570     0.696958     0.693283     1.004461    69.451026   \nmin       1.000000     0.000000     0.000000     0.000000     0.000000   \n25%       1.000000     0.000000     0.000000     0.000000    28.000000   \n50%       2.000000     0.000000     0.000000     0.000000    83.000000   \n75%       2.000000     0.000000     0.000000     0.000000   151.000000   \nmax    1754.000000    23.000000    29.000000    29.000000   228.000000   \n\n       phb_bad_perc  found_phones  phb_fraud_dir  phb_dirty_dir  \\\ncount   3753.000000   3753.000000    3753.000000    3753.000000   \nmean       0.134394      1.888090       0.512657       0.217693   \nstd        1.458991      2.900215       9.621206       2.615516   \nmin        0.000000      0.000000       0.000000       0.000000   \n25%        0.000000      1.000000       0.000000       0.000000   \n50%        0.000000      1.000000       0.000000       0.000000   \n75%        0.000000      2.000000       0.000000       0.000000   \nmax       50.000000    101.000000     390.000000      94.000000   \n\n       phb_all_bad_dir  ...  reviews_cnt_ya  rating_yell  reviews_cnt_yell  \\\ncount      3753.000000  ...     3753.000000  3753.000000       3753.000000   \nmean          0.730349  ...      125.834799     0.434038          0.929123   \nstd          11.798991  ...     5452.400052     2.351749         18.370978   \nmin           0.000000  ...        0.000000    -1.000000          0.000000   \n25%           0.000000  ...        0.000000    -1.000000          0.000000   \n50%           0.000000  ...        0.000000    -1.000000          0.000000   \n75%           0.000000  ...        0.000000     4.000000          0.000000   \nmax         438.000000  ...   326694.000000     5.000000        737.000000   \n\n       rating_2gis  reviews_cnt_2gis  rating_avito  reviews_cnt_avito  \\\ncount  3753.000000       3753.000000   3753.000000        3753.000000   \nmean     -0.522323          8.775913     -0.961050           0.524380   \nstd       1.020923        251.807986      0.465407          13.315209   \nmin      -1.000000          0.000000     -1.000000           0.000000   \n25%      -1.000000          0.000000     -1.000000           0.000000   \n50%      -1.000000          0.000000     -1.000000           0.000000   \n75%       0.000000          0.000000     -1.000000           0.000000   \nmax       5.000000      14269.000000      5.000000         595.000000   \n\n       all_reviews_cnt  mean_rating   popularity  \ncount     3.753000e+03  3753.000000  3753.000000  \nmean      5.575377e+02     1.254339     0.997069  \nstd       2.449662e+04     1.915613     0.054066  \nmin       0.000000e+00     0.000000     0.000000  \n25%       0.000000e+00     0.000000     1.000000  \n50%       0.000000e+00     0.000000     1.000000  \n75%       0.000000e+00     4.000000     1.000000  \nmax       1.467875e+06     5.000000     1.000000  \n\n[8 rows x 36 columns]",
      "text/html": "<div>\n<style scoped>\n    .dataframe tbody tr th:only-of-type {\n        vertical-align: middle;\n    }\n\n    .dataframe tbody tr th {\n        vertical-align: top;\n    }\n\n    .dataframe thead th {\n        text-align: right;\n    }\n</style>\n<table border=\"1\" class=\"dataframe\">\n  <thead>\n    <tr style=\"text-align: right;\">\n      <th></th>\n      <th>phones_num</th>\n      <th>phb_fraud</th>\n      <th>phb_dirty</th>\n      <th>phb_all_bad</th>\n      <th>phb_all</th>\n      <th>phb_bad_perc</th>\n      <th>found_phones</th>\n      <th>phb_fraud_dir</th>\n      <th>phb_dirty_dir</th>\n      <th>phb_all_bad_dir</th>\n      <th>...</th>\n      <th>reviews_cnt_ya</th>\n      <th>rating_yell</th>\n      <th>reviews_cnt_yell</th>\n      <th>rating_2gis</th>\n      <th>reviews_cnt_2gis</th>\n      <th>rating_avito</th>\n      <th>reviews_cnt_avito</th>\n      <th>all_reviews_cnt</th>\n      <th>mean_rating</th>\n      <th>popularity</th>\n    </tr>\n  </thead>\n  <tbody>\n    <tr>\n      <th>count</th>\n      <td>3753.000000</td>\n      <td>3753.000000</td>\n      <td>3753.000000</td>\n      <td>3753.000000</td>\n      <td>3753.000000</td>\n      <td>3753.000000</td>\n      <td>3753.000000</td>\n      <td>3753.000000</td>\n      <td>3753.000000</td>\n      <td>3753.000000</td>\n      <td>...</td>\n      <td>3753.000000</td>\n      <td>3753.000000</td>\n      <td>3753.000000</td>\n      <td>3753.000000</td>\n      <td>3753.000000</td>\n      <td>3753.000000</td>\n      <td>3753.000000</td>\n      <td>3.753000e+03</td>\n      <td>3753.000000</td>\n      <td>3753.000000</td>\n    </tr>\n    <tr>\n      <th>mean</th>\n      <td>5.455902</td>\n      <td>0.062084</td>\n      <td>0.047962</td>\n      <td>0.110045</td>\n      <td>92.143618</td>\n      <td>0.134394</td>\n      <td>1.888090</td>\n      <td>0.512657</td>\n      <td>0.217693</td>\n      <td>0.730349</td>\n      <td>...</td>\n      <td>125.834799</td>\n      <td>0.434038</td>\n      <td>0.929123</td>\n      <td>-0.522323</td>\n      <td>8.775913</td>\n      <td>-0.961050</td>\n      <td>0.524380</td>\n      <td>5.575377e+02</td>\n      <td>1.254339</td>\n      <td>0.997069</td>\n    </tr>\n    <tr>\n      <th>std</th>\n      <td>50.711570</td>\n      <td>0.696958</td>\n      <td>0.693283</td>\n      <td>1.004461</td>\n      <td>69.451026</td>\n      <td>1.458991</td>\n      <td>2.900215</td>\n      <td>9.621206</td>\n      <td>2.615516</td>\n      <td>11.798991</td>\n      <td>...</td>\n      <td>5452.400052</td>\n      <td>2.351749</td>\n      <td>18.370978</td>\n      <td>1.020923</td>\n      <td>251.807986</td>\n      <td>0.465407</td>\n      <td>13.315209</td>\n      <td>2.449662e+04</td>\n      <td>1.915613</td>\n      <td>0.054066</td>\n    </tr>\n    <tr>\n      <th>min</th>\n      <td>1.000000</td>\n      <td>0.000000</td>\n      <td>0.000000</td>\n      <td>0.000000</td>\n      <td>0.000000</td>\n      <td>0.000000</td>\n      <td>0.000000</td>\n      <td>0.000000</td>\n      <td>0.000000</td>\n      <td>0.000000</td>\n      <td>...</td>\n      <td>0.000000</td>\n      <td>-1.000000</td>\n      <td>0.000000</td>\n      <td>-1.000000</td>\n      <td>0.000000</td>\n      <td>-1.000000</td>\n      <td>0.000000</td>\n      <td>0.000000e+00</td>\n      <td>0.000000</td>\n      <td>0.000000</td>\n    </tr>\n    <tr>\n      <th>25%</th>\n      <td>1.000000</td>\n      <td>0.000000</td>\n      <td>0.000000</td>\n      <td>0.000000</td>\n      <td>28.000000</td>\n      <td>0.000000</td>\n      <td>1.000000</td>\n      <td>0.000000</td>\n      <td>0.000000</td>\n      <td>0.000000</td>\n      <td>...</td>\n      <td>0.000000</td>\n      <td>-1.000000</td>\n      <td>0.000000</td>\n      <td>-1.000000</td>\n      <td>0.000000</td>\n      <td>-1.000000</td>\n      <td>0.000000</td>\n      <td>0.000000e+00</td>\n      <td>0.000000</td>\n      <td>1.000000</td>\n    </tr>\n    <tr>\n      <th>50%</th>\n      <td>2.000000</td>\n      <td>0.000000</td>\n      <td>0.000000</td>\n      <td>0.000000</td>\n      <td>83.000000</td>\n      <td>0.000000</td>\n      <td>1.000000</td>\n      <td>0.000000</td>\n      <td>0.000000</td>\n      <td>0.000000</td>\n      <td>...</td>\n      <td>0.000000</td>\n      <td>-1.000000</td>\n      <td>0.000000</td>\n      <td>-1.000000</td>\n      <td>0.000000</td>\n      <td>-1.000000</td>\n      <td>0.000000</td>\n      <td>0.000000e+00</td>\n      <td>0.000000</td>\n      <td>1.000000</td>\n    </tr>\n    <tr>\n      <th>75%</th>\n      <td>2.000000</td>\n      <td>0.000000</td>\n      <td>0.000000</td>\n      <td>0.000000</td>\n      <td>151.000000</td>\n      <td>0.000000</td>\n      <td>2.000000</td>\n      <td>0.000000</td>\n      <td>0.000000</td>\n      <td>0.000000</td>\n      <td>...</td>\n      <td>0.000000</td>\n      <td>4.000000</td>\n      <td>0.000000</td>\n      <td>0.000000</td>\n      <td>0.000000</td>\n      <td>-1.000000</td>\n      <td>0.000000</td>\n      <td>0.000000e+00</td>\n      <td>4.000000</td>\n      <td>1.000000</td>\n    </tr>\n    <tr>\n      <th>max</th>\n      <td>1754.000000</td>\n      <td>23.000000</td>\n      <td>29.000000</td>\n      <td>29.000000</td>\n      <td>228.000000</td>\n      <td>50.000000</td>\n      <td>101.000000</td>\n      <td>390.000000</td>\n      <td>94.000000</td>\n      <td>438.000000</td>\n      <td>...</td>\n      <td>326694.000000</td>\n      <td>5.000000</td>\n      <td>737.000000</td>\n      <td>5.000000</td>\n      <td>14269.000000</td>\n      <td>5.000000</td>\n      <td>595.000000</td>\n      <td>1.467875e+06</td>\n      <td>5.000000</td>\n      <td>1.000000</td>\n    </tr>\n  </tbody>\n</table>\n<p>8 rows × 36 columns</p>\n</div>"
     },
     "execution_count": 44,
     "metadata": {},
     "output_type": "execute_result"
    }
   ],
   "source": [
    "small = df[df['popularity'] < 2]\n",
    "small.describe()"
   ],
   "metadata": {
    "collapsed": false,
    "pycharm": {
     "name": "#%%\n"
    }
   }
  },
  {
   "cell_type": "code",
   "execution_count": 45,
   "outputs": [
    {
     "ename": "KeyError",
     "evalue": "\"None of [Float64Index([               4.0, 3.1982142857142857,                4.0,\\n                            4.65, 3.2510631203169766, 3.8000000000000003,\\n                           4.575,                4.0,                4.5,\\n                          2.9125,\\n              ...\\n                             0.0,                0.0,                0.0,\\n                             0.0,                0.0,                0.0,\\n                             0.0,                0.0,                0.0,\\n                             0.0],\\n             dtype='float64', length=15000)] are in the [columns]\"",
     "output_type": "error",
     "traceback": [
      "\u001B[0;31m---------------------------------------------------------------------------\u001B[0m",
      "\u001B[0;31mKeyError\u001B[0m                                  Traceback (most recent call last)",
      "Input \u001B[0;32mIn [45]\u001B[0m, in \u001B[0;36m<module>\u001B[0;34m\u001B[0m\n\u001B[1;32m      7\u001B[0m     \u001B[38;5;28;01mfor\u001B[39;00m col \u001B[38;5;129;01min\u001B[39;00m columns:\n\u001B[1;32m      8\u001B[0m         score(df, col)\n\u001B[0;32m---> 10\u001B[0m \u001B[43mscore_all\u001B[49m\u001B[43m(\u001B[49m\u001B[43mdf\u001B[49m\u001B[43m,\u001B[49m\u001B[43m \u001B[49m\u001B[43m[\u001B[49m\u001B[38;5;124;43m'\u001B[39;49m\u001B[38;5;124;43mmean_rating\u001B[39;49m\u001B[38;5;124;43m'\u001B[39;49m\u001B[43m]\u001B[49m\u001B[43m)\u001B[49m\n\u001B[1;32m     11\u001B[0m df\u001B[38;5;241m.\u001B[39mhead()\n",
      "Input \u001B[0;32mIn [45]\u001B[0m, in \u001B[0;36mscore_all\u001B[0;34m(df, columns)\u001B[0m\n\u001B[1;32m      6\u001B[0m \u001B[38;5;28;01mdef\u001B[39;00m \u001B[38;5;21mscore_all\u001B[39m(df, columns):  \u001B[38;5;66;03m# [0; 10]\u001B[39;00m\n\u001B[1;32m      7\u001B[0m     \u001B[38;5;28;01mfor\u001B[39;00m col \u001B[38;5;129;01min\u001B[39;00m columns:\n\u001B[0;32m----> 8\u001B[0m         \u001B[43mscore\u001B[49m\u001B[43m(\u001B[49m\u001B[43mdf\u001B[49m\u001B[43m,\u001B[49m\u001B[43m \u001B[49m\u001B[43mcol\u001B[49m\u001B[43m)\u001B[49m\n",
      "Input \u001B[0;32mIn [45]\u001B[0m, in \u001B[0;36mscore\u001B[0;34m(df, column_name)\u001B[0m\n\u001B[1;32m      2\u001B[0m mn \u001B[38;5;241m=\u001B[39m df[column_name]\u001B[38;5;241m.\u001B[39mmin()\n\u001B[1;32m      3\u001B[0m mx \u001B[38;5;241m=\u001B[39m df[column_name]\u001B[38;5;241m.\u001B[39mmax()\n\u001B[0;32m----> 4\u001B[0m df[column_name \u001B[38;5;241m+\u001B[39m \u001B[38;5;124m\"\u001B[39m\u001B[38;5;124m_score\u001B[39m\u001B[38;5;124m\"\u001B[39m] \u001B[38;5;241m=\u001B[39m \u001B[38;5;241m10\u001B[39m \u001B[38;5;241m*\u001B[39m (\u001B[38;5;241m1\u001B[39m \u001B[38;5;241m-\u001B[39m (\u001B[43mdf\u001B[49m\u001B[43m[\u001B[49m\u001B[43mdf\u001B[49m\u001B[43m[\u001B[49m\u001B[43mcolumn_name\u001B[49m\u001B[43m]\u001B[49m\u001B[43m]\u001B[49m \u001B[38;5;241m-\u001B[39m mn) \u001B[38;5;241m/\u001B[39m (mx \u001B[38;5;241m-\u001B[39m mn))\n",
      "File \u001B[0;32m/Library/Frameworks/Python.framework/Versions/3.9/lib/python3.9/site-packages/pandas/core/frame.py:3511\u001B[0m, in \u001B[0;36mDataFrame.__getitem__\u001B[0;34m(self, key)\u001B[0m\n\u001B[1;32m   3509\u001B[0m     \u001B[38;5;28;01mif\u001B[39;00m is_iterator(key):\n\u001B[1;32m   3510\u001B[0m         key \u001B[38;5;241m=\u001B[39m \u001B[38;5;28mlist\u001B[39m(key)\n\u001B[0;32m-> 3511\u001B[0m     indexer \u001B[38;5;241m=\u001B[39m \u001B[38;5;28;43mself\u001B[39;49m\u001B[38;5;241;43m.\u001B[39;49m\u001B[43mcolumns\u001B[49m\u001B[38;5;241;43m.\u001B[39;49m\u001B[43m_get_indexer_strict\u001B[49m\u001B[43m(\u001B[49m\u001B[43mkey\u001B[49m\u001B[43m,\u001B[49m\u001B[43m \u001B[49m\u001B[38;5;124;43m\"\u001B[39;49m\u001B[38;5;124;43mcolumns\u001B[39;49m\u001B[38;5;124;43m\"\u001B[39;49m\u001B[43m)\u001B[49m[\u001B[38;5;241m1\u001B[39m]\n\u001B[1;32m   3513\u001B[0m \u001B[38;5;66;03m# take() does not accept boolean indexers\u001B[39;00m\n\u001B[1;32m   3514\u001B[0m \u001B[38;5;28;01mif\u001B[39;00m \u001B[38;5;28mgetattr\u001B[39m(indexer, \u001B[38;5;124m\"\u001B[39m\u001B[38;5;124mdtype\u001B[39m\u001B[38;5;124m\"\u001B[39m, \u001B[38;5;28;01mNone\u001B[39;00m) \u001B[38;5;241m==\u001B[39m \u001B[38;5;28mbool\u001B[39m:\n",
      "File \u001B[0;32m/Library/Frameworks/Python.framework/Versions/3.9/lib/python3.9/site-packages/pandas/core/indexes/base.py:5782\u001B[0m, in \u001B[0;36mIndex._get_indexer_strict\u001B[0;34m(self, key, axis_name)\u001B[0m\n\u001B[1;32m   5779\u001B[0m \u001B[38;5;28;01melse\u001B[39;00m:\n\u001B[1;32m   5780\u001B[0m     keyarr, indexer, new_indexer \u001B[38;5;241m=\u001B[39m \u001B[38;5;28mself\u001B[39m\u001B[38;5;241m.\u001B[39m_reindex_non_unique(keyarr)\n\u001B[0;32m-> 5782\u001B[0m \u001B[38;5;28;43mself\u001B[39;49m\u001B[38;5;241;43m.\u001B[39;49m\u001B[43m_raise_if_missing\u001B[49m\u001B[43m(\u001B[49m\u001B[43mkeyarr\u001B[49m\u001B[43m,\u001B[49m\u001B[43m \u001B[49m\u001B[43mindexer\u001B[49m\u001B[43m,\u001B[49m\u001B[43m \u001B[49m\u001B[43maxis_name\u001B[49m\u001B[43m)\u001B[49m\n\u001B[1;32m   5784\u001B[0m keyarr \u001B[38;5;241m=\u001B[39m \u001B[38;5;28mself\u001B[39m\u001B[38;5;241m.\u001B[39mtake(indexer)\n\u001B[1;32m   5785\u001B[0m \u001B[38;5;28;01mif\u001B[39;00m \u001B[38;5;28misinstance\u001B[39m(key, Index):\n\u001B[1;32m   5786\u001B[0m     \u001B[38;5;66;03m# GH 42790 - Preserve name from an Index\u001B[39;00m\n",
      "File \u001B[0;32m/Library/Frameworks/Python.framework/Versions/3.9/lib/python3.9/site-packages/pandas/core/indexes/base.py:5842\u001B[0m, in \u001B[0;36mIndex._raise_if_missing\u001B[0;34m(self, key, indexer, axis_name)\u001B[0m\n\u001B[1;32m   5840\u001B[0m     \u001B[38;5;28;01mif\u001B[39;00m use_interval_msg:\n\u001B[1;32m   5841\u001B[0m         key \u001B[38;5;241m=\u001B[39m \u001B[38;5;28mlist\u001B[39m(key)\n\u001B[0;32m-> 5842\u001B[0m     \u001B[38;5;28;01mraise\u001B[39;00m \u001B[38;5;167;01mKeyError\u001B[39;00m(\u001B[38;5;124mf\u001B[39m\u001B[38;5;124m\"\u001B[39m\u001B[38;5;124mNone of [\u001B[39m\u001B[38;5;132;01m{\u001B[39;00mkey\u001B[38;5;132;01m}\u001B[39;00m\u001B[38;5;124m] are in the [\u001B[39m\u001B[38;5;132;01m{\u001B[39;00maxis_name\u001B[38;5;132;01m}\u001B[39;00m\u001B[38;5;124m]\u001B[39m\u001B[38;5;124m\"\u001B[39m)\n\u001B[1;32m   5844\u001B[0m not_found \u001B[38;5;241m=\u001B[39m \u001B[38;5;28mlist\u001B[39m(ensure_index(key)[missing_mask\u001B[38;5;241m.\u001B[39mnonzero()[\u001B[38;5;241m0\u001B[39m]]\u001B[38;5;241m.\u001B[39munique())\n\u001B[1;32m   5845\u001B[0m \u001B[38;5;28;01mraise\u001B[39;00m \u001B[38;5;167;01mKeyError\u001B[39;00m(\u001B[38;5;124mf\u001B[39m\u001B[38;5;124m\"\u001B[39m\u001B[38;5;132;01m{\u001B[39;00mnot_found\u001B[38;5;132;01m}\u001B[39;00m\u001B[38;5;124m not in index\u001B[39m\u001B[38;5;124m\"\u001B[39m)\n",
      "\u001B[0;31mKeyError\u001B[0m: \"None of [Float64Index([               4.0, 3.1982142857142857,                4.0,\\n                            4.65, 3.2510631203169766, 3.8000000000000003,\\n                           4.575,                4.0,                4.5,\\n                          2.9125,\\n              ...\\n                             0.0,                0.0,                0.0,\\n                             0.0,                0.0,                0.0,\\n                             0.0,                0.0,                0.0,\\n                             0.0],\\n             dtype='float64', length=15000)] are in the [columns]\""
     ]
    }
   ],
   "source": [
    "def score(df, column_name):  # [0; 10]\n",
    "    mn = df[column_name].min()\n",
    "    mx = df[column_name].max()\n",
    "    df[column_name + \"_score\"] = 10 * (1 - (df[df[column_name]] - mn) / (mx - mn))\n",
    "\n",
    "def score_all(df, columns):  # [0; 10]\n",
    "    for col in columns:\n",
    "        score(df, col)\n",
    "\n",
    "score_all(df, ['mean_rating'])\n",
    "df.head()"
   ],
   "metadata": {
    "collapsed": false,
    "pycharm": {
     "name": "#%%\n"
    }
   }
  },
  {
   "cell_type": "code",
   "execution_count": null,
   "outputs": [],
   "source": [
    "df.phb_bad_perc_dir.value_counts().reset_index()"
   ],
   "metadata": {
    "collapsed": false,
    "pycharm": {
     "name": "#%%\n"
    }
   }
  },
  {
   "cell_type": "code",
   "execution_count": null,
   "outputs": [],
   "source": [
    "df.mvd_request_num.value_counts()"
   ],
   "metadata": {
    "collapsed": false,
    "pycharm": {
     "name": "#%%\n"
    }
   }
  },
  {
   "cell_type": "code",
   "execution_count": null,
   "outputs": [],
   "source": [],
   "metadata": {
    "collapsed": false,
    "pycharm": {
     "name": "#%%\n"
    }
   }
  }
 ],
 "metadata": {
  "kernelspec": {
   "display_name": "Python 3",
   "language": "python",
   "name": "python3"
  },
  "language_info": {
   "codemirror_mode": {
    "name": "ipython",
    "version": 2
   },
   "file_extension": ".py",
   "mimetype": "text/x-python",
   "name": "python",
   "nbconvert_exporter": "python",
   "pygments_lexer": "ipython2",
   "version": "2.7.6"
  }
 },
 "nbformat": 4,
 "nbformat_minor": 0
}